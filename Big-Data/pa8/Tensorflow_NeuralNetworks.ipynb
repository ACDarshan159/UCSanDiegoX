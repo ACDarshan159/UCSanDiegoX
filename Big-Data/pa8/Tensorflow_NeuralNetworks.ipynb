{
 "cells": [
  {
   "cell_type": "markdown",
   "metadata": {
    "nbgrader": {
     "grade": false,
     "grade_id": "cell-158395db1eb13989",
     "locked": true,
     "schema_version": 1,
     "solution": false
    }
   },
   "source": [
    " **<font size=5>Programming Assignment 8: Neural Networks with Tensorflow</font>**"
   ]
  },
  {
   "cell_type": "markdown",
   "metadata": {
    "nbgrader": {
     "grade": false,
     "grade_id": "cell-c303936544fce875",
     "locked": true,
     "schema_version": 1,
     "solution": false
    }
   },
   "source": [
    "## Problem Statement\n",
    "\n",
    "In this programming assignment, you will write Tensorflow code to distinguish between a signal process which produces Higgs bosons and a background process which does not. We model this problem as a binary classification problem. \n",
    "\n",
    "Note: This assignment is not designed to make you a professional Tensorflow programmer, but rather to introduce you to, and make you practice, the basic constructs and functionalities of Tensorflow. "
   ]
  },
  {
   "cell_type": "markdown",
   "metadata": {
    "nbgrader": {
     "grade": false,
     "grade_id": "cell-9cedd227ae71fb17",
     "locked": true,
     "schema_version": 1,
     "solution": false
    }
   },
   "source": [
    "### CPU vs GPU\n",
    "\n",
    "You may want to read [this article](https://www.analyticsvidhya.com/blog/2017/05/gpus-necessary-for-deep-learning/) to know more about the CPU vs GPU discussion. This is totally optional, still highly recommended for those who are interested. \n",
    "\n",
    "You do not need to write any \"GPU specific\" code. Tensorflow automatically recognizes the underlying hardware, and optimizes your code to run accordingly.\n",
    "\n",
    "The most common bottleneck to training faster with a GPU is usually the speed at which data is fed to the GPU for processing. So the input data pipeline is an important construct when writing efficient, scalable code to train Neural networks using Tensorflow."
   ]
  },
  {
   "cell_type": "markdown",
   "metadata": {
    "nbgrader": {
     "grade": false,
     "grade_id": "cell-f87b642b5252980b",
     "locked": true,
     "schema_version": 1,
     "solution": false
    }
   },
   "source": [
    "### Dataset\n",
    "\n",
    "For this assignment, we will use sampled data from a well known dataset: [Higgs Dataset](https://archive.ics.uci.edu/ml/datasets/HIGGS). \n",
    "\n",
    "Some information regarding the data and the problem: \n",
    "\n",
    "This is a classification problem to distinguish between a signal process which produces Higgs bosons and a background process which does not. The data has been produced using Monte Carlo simulations. The first 21 features (columns 2-22) are kinematic properties measured by the particle detectors in the accelerator. The last seven features are functions of the first 21 features; these are high-level features derived by physicists to help discriminate between the two classes."
   ]
  },
  {
   "cell_type": "markdown",
   "metadata": {
    "nbgrader": {
     "grade": false,
     "grade_id": "cell-0f1b9f41248e8378",
     "locked": true,
     "schema_version": 1,
     "solution": false
    }
   },
   "source": [
    "The train and test files have the following characteristics:\n",
    "\n",
    "- The first row is a header that contains a comma-separated list of the names of the label and attributes\n",
    "- Each successive row represents a single example\n",
    "- The first column of each example is the label to be learned, and all other columns are attribute values.\n",
    "- All attributes are numerical i.e. real numbers."
   ]
  },
  {
   "cell_type": "markdown",
   "metadata": {
    "nbgrader": {
     "grade": false,
     "grade_id": "cell-fc620c75541dd80e",
     "locked": true,
     "schema_version": 1,
     "solution": false
    }
   },
   "source": [
    "### Testing and Evaluation\n",
    "\n",
    "\n",
    "For local testing and for two of the three submissions, you will use the small training and test datasets that have been provided along with this notebook. \n",
    "\n",
    "When submitting on EdX, your code will be trained and evaluated on a much larger sample of the full dataset. \n",
    "\n",
    "Some suggestions you should keep in mind while implementing the functions:\n",
    "\n",
    "- Avoid doing repeated work i.e. anything that could be done outside the loop, should be outside.\n",
    "- Read the markdown of this notebook carefully."
   ]
  },
  {
   "cell_type": "markdown",
   "metadata": {
    "nbgrader": {
     "grade": false,
     "grade_id": "cell-6995099148a8d8ee",
     "locked": true,
     "schema_version": 1,
     "solution": false
    }
   },
   "source": [
    "### Configuration File\n",
    "\n",
    "To make your code more robust, and to aid the process of grading your work, most of the required parameters for the network training and testing will come from a [YAML](http://yaml.org/) config file named \"nn_config.yaml\". \n",
    "\n",
    "This file is present in the same directory as the notebook. We have added default values to parameters, but you may modify them for debugging purposes. \n",
    "\n",
    "Information regarding what these variables mean, and how you should use them is present as comments in the yaml file. Information regarding how to read variables from the YAML config file is mentioned later in this notebook.\n",
    "\n",
    "However, remember that for grading your work we will use our own config files. So your code should always refer to variable values from the config file."
   ]
  },
  {
   "cell_type": "code",
   "execution_count": 1,
   "metadata": {
    "nbgrader": {
     "grade": false,
     "grade_id": "cell-0e011b46c2ce211f",
     "locked": true,
     "schema_version": 1,
     "solution": false
    }
   },
   "outputs": [
    {
     "name": "stdout",
     "output_type": "stream",
     "text": [
      "## Training data file path\n",
      "training_data_path: ./Data/higgs_train_large.csv\n",
      "\n",
      "## Testing data file path\n",
      "test_data_path: ./Data/higgs_test_large.csv \n",
      "\n",
      "## Location in which you will save the pickle file containing predictions on test data\n",
      "output_predictions_pickle_path: ./test_predictions.pkl\n",
      "\n",
      "## How to split the input training data into train and validation sets. Value of 0.8 means that if there were initially 100 training examples in the input data, you should split them such that the first 80 are used as training examples and last 20 should be used for validation.\n",
      "training_to_validation_ratio: 0.8\n",
      "\n",
      "## the learning rate you should use for your optimizer \n",
      "learning_rate: 0.05\n",
      "\n",
      "## the total number of epochs or iterations to run over the (80) training examples\n",
      "epochs: 200\n",
      "\n",
      "## the number of mini batches in which you should split your training examples. Continuing with our example, if this value is 10, then each mini batch will have 8 training examples.\n",
      "num_mini_batches: 5\n",
      "\n",
      "## this variable is for your own use to modify when you would like to print any debug statements inside your training loop. For example, a value of 5 may suggest that you should print the training loss, validation loss, training accuracy and validation accuracy every 5 epochs.\n",
      "display_step: 1\n",
      "\n",
      "## the size of the network. If first_layer: 20 and second_layer: 8 then you should set the number of hidden units in first hidden layer and second layer to be 20 and 8 respectively.\n",
      "hidden_layer_sizes: \n",
      "    first_layer: 20\n",
      "    second_layer: 8\n",
      "\n",
      "## for grading purposes, you may ignore\n",
      "dataset_size: large\n",
      "grading_script_path: /grade_test_submission.py"
     ]
    }
   ],
   "source": [
    "# Let's look at the contents of the YAML config file\n",
    "!cat nn_config.yaml "
   ]
  },
  {
   "cell_type": "markdown",
   "metadata": {
    "nbgrader": {
     "grade": false,
     "grade_id": "cell-4a4e23526701b920",
     "locked": true,
     "schema_version": 1,
     "solution": false
    }
   },
   "source": [
    "## Gameplan\n",
    "\n",
    "You will write robust code that builds a feedforward neural network, and trains it according to the given set of parameters.\n",
    "\n",
    "1. We will first load the training and test data using the parameters from the config file.\n",
    "2. We will then split the training data into training and validation sets using the value of \"training_to_validation_ratio\" parameter in the config. \n",
    "    For example, if the param is 0.8, it means that the initial 80% of the data should be kept for training, while the rest 20% should be used for validation.\n",
    "3. We will use Cross Entropy Loss as our cost functions and minimize it using AdamOptimizer as our optimizer.\n",
    "4. We will train our model in batches inside our main training loop. You will divide the training data into `num_batches` number of mini batches and for each epoch you will iterate and train over those many number of batches.\n",
    "5. You can use \"display_step\" param to control the frequency of print statements.\n",
    "6. You will maintain a list of training accuracies and losses (one value for each epoch).\n",
    "7. You will maintain a list of validation accuracy and loss (one value for each epoch)."
   ]
  },
  {
   "cell_type": "markdown",
   "metadata": {
    "nbgrader": {
     "grade": false,
     "grade_id": "cell-c5dc5f0d1795d09a",
     "locked": true,
     "schema_version": 1,
     "solution": false
    }
   },
   "source": [
    "\n",
    "    The function tf.reduce_sum will allow you to sum across all instances.\n",
    "    "
   ]
  },
  {
   "cell_type": "markdown",
   "metadata": {
    "nbgrader": {
     "grade": false,
     "grade_id": "cell-2952f5d422d0d1e7",
     "locked": true,
     "schema_version": 1,
     "solution": false
    }
   },
   "source": [
    "5) You should train your network using your inputted learning rate and for the inputted number of iterations. The iterations are simply a loop that calls Backpropagation a fixed number of times."
   ]
  },
  {
   "cell_type": "markdown",
   "metadata": {},
   "source": [
    "## Initialization "
   ]
  },
  {
   "cell_type": "code",
   "execution_count": 2,
   "metadata": {
    "nbgrader": {
     "grade": false,
     "grade_id": "cell-9c01b1c216ee0572",
     "locked": true,
     "schema_version": 1,
     "solution": false
    }
   },
   "outputs": [],
   "source": [
    "## Tensorflow produces a lot of warnings. We generally want to suppress them. The below code does exactly that. \n",
    "import warnings\n",
    "warnings.filterwarnings('ignore')"
   ]
  },
  {
   "cell_type": "code",
   "execution_count": 3,
   "metadata": {
    "nbgrader": {
     "grade": false,
     "grade_id": "cell-a554a48f73f64b13",
     "locked": true,
     "schema_version": 1,
     "solution": false
    }
   },
   "outputs": [],
   "source": [
    "import tensorflow as tf\n",
    "import numpy as np\n",
    "from matplotlib import pyplot as plt\n",
    "\n",
    "## Pretty Print\n",
    "import pprint as pp"
   ]
  },
  {
   "cell_type": "code",
   "execution_count": 4,
   "metadata": {
    "nbgrader": {
     "grade": false,
     "grade_id": "cell-d1e7a22edc0fe397",
     "locked": true,
     "schema_version": 1,
     "solution": false
    }
   },
   "outputs": [],
   "source": [
    "import yaml\n",
    "def import_config():\n",
    "    with open(\"nn_config.yaml\", 'r') as ymlfile:\n",
    "        try:\n",
    "            cfg = yaml.load(ymlfile)\n",
    "        except yaml.YAMLError as err:\n",
    "            print(err)\n",
    "    return cfg"
   ]
  },
  {
   "cell_type": "code",
   "execution_count": 5,
   "metadata": {
    "nbgrader": {
     "grade": false,
     "grade_id": "cell-fbb7c3cab0be00a7",
     "locked": true,
     "schema_version": 1,
     "solution": false
    }
   },
   "outputs": [
    {
     "name": "stdout",
     "output_type": "stream",
     "text": [
      "Your hardware either does not have a GPU or is not configured to use the GPU version of TF.\n",
      "        However, you do not need a GPU for this assignment as you will be completing this assigment on a\n",
      "        CPU enviroment, but evaluating it on a GPU enviroment.\n"
     ]
    }
   ],
   "source": [
    "if 'session' in locals() and session is not None:\n",
    "    print('Close interactive session')\n",
    "    session.close()\n",
    "\n",
    "## The below function tests if Tensorflow has access to GPU or not.\n",
    "def test_cpu_gpu():\n",
    "    if tf.test.gpu_device_name():\n",
    "        print('Default GPU Device: {}'.format(tf.test.gpu_device_name()))\n",
    "    else:\n",
    "        print('''Your hardware either does not have a GPU or is not configured to use the GPU version of TF.\n",
    "        However, you do not need a GPU for this assignment as you will be completing this assigment on a\n",
    "        CPU enviroment, but evaluating it on a GPU enviroment.''')\n",
    "        \n",
    "test_cpu_gpu()"
   ]
  },
  {
   "cell_type": "code",
   "execution_count": 6,
   "metadata": {
    "nbgrader": {
     "grade": false,
     "grade_id": "cell-4a59bb5add2fa75d",
     "locked": true,
     "schema_version": 1,
     "solution": false
    }
   },
   "outputs": [
    {
     "name": "stdout",
     "output_type": "stream",
     "text": [
      "{'dataset_size': 'large',\n",
      " 'display_step': 1,\n",
      " 'epochs': 200,\n",
      " 'grading_script_path': '/grade_test_submission.py',\n",
      " 'hidden_layer_sizes': {'first_layer': 20, 'second_layer': 8},\n",
      " 'learning_rate': 0.05,\n",
      " 'num_mini_batches': 5,\n",
      " 'output_predictions_pickle_path': './test_predictions.pkl',\n",
      " 'test_data_path': './Data/higgs_test_large.csv',\n",
      " 'training_data_path': './Data/higgs_train_large.csv',\n",
      " 'training_to_validation_ratio': 0.8}\n"
     ]
    }
   ],
   "source": [
    "cfg = import_config()\n",
    "\n",
    "## Is it loaded correctly?\n",
    "pp.pprint(cfg)"
   ]
  },
  {
   "cell_type": "markdown",
   "metadata": {},
   "source": [
    "## Reading in Data "
   ]
  },
  {
   "cell_type": "code",
   "execution_count": 7,
   "metadata": {
    "nbgrader": {
     "grade": false,
     "grade_id": "cell-855db077a3fa0f0b",
     "locked": true,
     "schema_version": 1,
     "solution": false
    }
   },
   "outputs": [],
   "source": [
    "train_file_name = cfg['training_data_path']\n",
    "test_file_name = cfg['test_data_path']"
   ]
  },
  {
   "cell_type": "code",
   "execution_count": 8,
   "metadata": {},
   "outputs": [],
   "source": [
    "# =========================================================================================== #\n",
    "# Uncomment this to test on smaller dataset. This is faster and can be used to debug quickly. #\n",
    "# PLEASE COMMENT THIS BEFORE SUBMITTING. YOUR NOTEBOOK IS EVALUATED ON LARGE DATASET.         #\n",
    "# =========================================================================================== #\n",
    "\n",
    "# train_file_name = 'data/higgs_train_small.csv'\n",
    "# test_file_name = 'data/higgs_test_small.csv'"
   ]
  },
  {
   "cell_type": "code",
   "execution_count": 9,
   "metadata": {
    "nbgrader": {
     "grade": false,
     "grade_id": "cell-a6fc5a4686fa8347",
     "locked": true,
     "schema_version": 1,
     "solution": false
    }
   },
   "outputs": [],
   "source": [
    "## Loading the Data\n",
    "training_data = np.loadtxt(train_file_name, delimiter = ',')\n",
    "test_data = np.loadtxt(test_file_name, delimiter = ',')"
   ]
  },
  {
   "cell_type": "markdown",
   "metadata": {
    "nbgrader": {
     "grade": false,
     "grade_id": "cell-f6ae15f9a3523674",
     "locked": true,
     "schema_version": 1,
     "solution": false
    }
   },
   "source": [
    "Now we have loaded the training and test data. However, we cannot use it directly. We first need to standardize it."
   ]
  },
  {
   "cell_type": "markdown",
   "metadata": {
    "nbgrader": {
     "grade": false,
     "grade_id": "cell-bb592faa9bc02c71",
     "locked": true,
     "schema_version": 1,
     "solution": false
    }
   },
   "source": [
    "### Exercise: Implement the Standardize Function \n",
    "\n",
    "Neural networks work best when all features roughly are on the same scale and are centered around the mean.\n",
    "\n",
    "This is done by standardizing the feature vectors. Feature standardization makes the values of each feature in the data have zero-mean (when subtracting the mean in the numerator) and unit-variance.\n",
    "\n",
    "The function <font color=\"blue\">standardize</font> takes the input data and determines the distribution mean and standard deviation for each feature. Next the mean is subtracted from each feature. Then the mean-subtracted values of each feature are divided by its standard deviation.\n",
    "\n",
    "**<font color=\"magenta\" size=2>Example Input</font>**\n",
    "There are 3 training examples with 4 features each \n",
    "``` python\n",
    "np.array([[-0.22 -0.19 -0.17 -0.13][-0.1 -0.05 0.02 0.10][0.03 0.11 0.12 0.15]])\n",
    "```\n",
    "\n",
    "**<font color=\"blue\" size=2>Example Output</font>**\n",
    "There are 3 training examples (which have been standardized) along each of the 4 features\n",
    "``` python\n",
    "array([[-1.20809282, -1.19664225, -1.33025759, -1.39425471],\n",
    "       [-0.03265116, -0.05439283,  0.2494233 ,  0.4920899 ],\n",
    "       [ 1.24074398,  1.25103507,  1.08083429,  0.90216481]])\n",
    "```\n",
    "\n",
    "Refer the \"Standardization\" section of this [Wikipedia Feature Scaling Article](https://en.wikipedia.org/wiki/Feature_scaling)."
   ]
  },
  {
   "cell_type": "code",
   "execution_count": 10,
   "metadata": {
    "nbgrader": {
     "grade": false,
     "grade_id": "cell-305b411920b596a3",
     "locked": false,
     "schema_version": 1,
     "solution": true
    }
   },
   "outputs": [],
   "source": [
    "def standardize(data):\n",
    "    from sklearn import preprocessing\n",
    "\n",
    "    preprocessing.scale(data)\n",
    "    \n",
    "    return preprocessing.scale(data)\n"
   ]
  },
  {
   "cell_type": "code",
   "execution_count": 11,
   "metadata": {
    "nbgrader": {
     "grade": true,
     "grade_id": "standardize_vt",
     "locked": true,
     "points": "5",
     "schema_version": 1,
     "solution": false
    },
    "scrolled": true
   },
   "outputs": [],
   "source": [
    "dummy = np.array([[-0.22, -0.19, -0.17, -0.13],[-0.1, -0.05, 0.02, 0.10],[0.03, 0.11, 0.12, 0.15]])\n",
    "assert standardize(dummy).__class__ == np.ndarray, \"should return numpy array\"\n",
    "assert standardize(dummy).shape == dummy.shape, \"should have the same shape as the input array\"\n",
    "\n",
    "dummy_ans = np.round(np.array([[-1.20809282, -1.19664225, -1.33025759, -1.39425471],\n",
    "       [-0.03265116, -0.05439283,  0.2494233 ,  0.4920899 ],\n",
    "       [ 1.24074398,  1.25103507,  1.08083429,  0.90216481]]),3)\n",
    "assert (np.round(standardize(dummy)[0],3)==dummy_ans[0]).all(), \"check for correct return value failed\"\n",
    "assert (np.round(standardize(dummy)[2],3)==dummy_ans[2]).all(), \"check for correct return value failed\"\n",
    "del dummy, dummy_ans"
   ]
  },
  {
   "cell_type": "code",
   "execution_count": 12,
   "metadata": {
    "nbgrader": {
     "grade": true,
     "grade_id": "standardize_ht",
     "locked": true,
     "points": "10",
     "schema_version": 1,
     "solution": false
    },
    "scrolled": true
   },
   "outputs": [],
   "source": [
    "# Hidden Tests Here\n",
    "\n",
    "#\n",
    "# AUTOGRADER TEST - DO NOT REMOVE\n",
    "#\n"
   ]
  },
  {
   "cell_type": "markdown",
   "metadata": {
    "nbgrader": {
     "grade": false,
     "grade_id": "cell-6d1d2ce4cf36f9c1",
     "locked": true,
     "schema_version": 1,
     "solution": false
    }
   },
   "source": [
    "### Exercise: Implement the parse_training_data function\n",
    "\n",
    "The function <font color=\"blue\">parse_training_data</font> takes the input data and returns labels and features. \n",
    "\n",
    "Remember that the first column of the training data is the labels, and the remaining columns are the features\n",
    "\n",
    "The labels should be reshaped to a 2-D numpy matrix of shape (dataset_size, 1)\n",
    "The features should be standardized and have be a 2-D numpy matrix of shape (dataset_size, 28)\n",
    "\n",
    "**<font color=\"magenta\" size=2>Example Input</font>**\n",
    "There are 3 training examples with the label and 3 features each \n",
    "``` python\n",
    "np.array([[1 -0.19 -0.17 -0.13][0 -0.05 0.02 0.10][0 0.11 0.12 0.15]])\n",
    "```\n",
    "\n",
    "**<font color=\"blue\" size=2>Example Output</font>**\n",
    "Returns a tuple:\n",
    "    1st element is the labels\n",
    "    2nd element is the standardized features\n",
    "``` python\n",
    "(array([[1.],\n",
    "        [0.],\n",
    "        [1.]]), array([[-1.4688735 , -1.3105518 , -0.99390842],\n",
    "        [-0.36062164,  0.19350429,  0.82679107],\n",
    "        [ 0.90595192,  0.98511277,  1.22259531]]))\n",
    "```\n",
    "\n",
    "\n",
    "Remember to use the standardize function appropriately inside this function and use the visible assert statements to finetune the shape of your returned data."
   ]
  },
  {
   "cell_type": "code",
   "execution_count": 13,
   "metadata": {
    "nbgrader": {
     "grade": false,
     "grade_id": "cell-b74473c65b9d3782",
     "locked": false,
     "schema_version": 1,
     "solution": true
    }
   },
   "outputs": [],
   "source": [
    "def parse_training_data(numpy_matrix):  \n",
    "    \n",
    "    dataset_size, nbr_cols = numpy_matrix.shape\n",
    "    labels = numpy_matrix[:,0].reshape(dataset_size,1)\n",
    "    features = standardize(numpy_matrix[:,1:nbr_cols].reshape(dataset_size, nbr_cols - 1))\n",
    "    \n",
    "    return labels, features"
   ]
  },
  {
   "cell_type": "code",
   "execution_count": 14,
   "metadata": {
    "nbgrader": {
     "grade": false,
     "grade_id": "cell-f0e069072154f863",
     "locked": true,
     "schema_version": 1,
     "solution": false
    }
   },
   "outputs": [],
   "source": [
    "# Parse Training Data. You will later split the `labels` and `features` into training and validation sets.\n",
    "labels, features = parse_training_data(training_data)"
   ]
  },
  {
   "cell_type": "code",
   "execution_count": 15,
   "metadata": {
    "nbgrader": {
     "grade": true,
     "grade_id": "shape_v",
     "locked": true,
     "points": "5",
     "schema_version": 1,
     "solution": false
    }
   },
   "outputs": [],
   "source": [
    "assert labels.shape[1] == 1\n",
    "assert features.shape[1] == 28"
   ]
  },
  {
   "cell_type": "code",
   "execution_count": 16,
   "metadata": {
    "nbgrader": {
     "grade": true,
     "grade_id": "values_h",
     "locked": true,
     "points": "10",
     "schema_version": 1,
     "solution": false
    }
   },
   "outputs": [],
   "source": [
    "#\n",
    "# AUTOGRADER TEST - DO NOT REMOVE\n",
    "#\n"
   ]
  },
  {
   "cell_type": "markdown",
   "metadata": {
    "nbgrader": {
     "grade": false,
     "grade_id": "cell-714a63065a14a65f",
     "locked": true,
     "schema_version": 1,
     "solution": false
    }
   },
   "source": [
    "### Exercise: Implement the parse_test_data function\n",
    "\n",
    "The function <font color=\"blue\">parse_test_data</font> takes the input data and returns labels and features. \n",
    "\n",
    "We do not have access to labels while predicting the classes that our test examples belong to. The input data files for the test data would not have the labels column. \n",
    "\n",
    "So we need a different function to parse the test data. This should only return standardized features.\n",
    "\n",
    "The features should be standardized and have be a 2-D numpy matrix of shape (dataset_size, 28)\n",
    "\n",
    "**<font color=\"magenta\" size=2>Example Input</font>**\n",
    "There are 3 training examples with the label and 3 features each \n",
    "``` python\n",
    "np.array([[-0.19 -0.17 -0.13][-0.05 0.02 0.10][0.11 0.12 0.15]])\n",
    "```\n",
    "\n",
    "**<font color=\"blue\" size=2>Example Output</font>**\n",
    "Returns a tuple:\n",
    "    1st element is the labels\n",
    "    2nd element is the standardized features\n",
    "``` python\n",
    "array([[-1.4688735 , -1.3105518 , -0.99390842],\n",
    "        [-0.36062164,  0.19350429,  0.82679107],\n",
    "        [ 0.90595192,  0.98511277,  1.22259531]])\n",
    "```\n",
    "\n",
    "\n",
    "Remember to use the standardize function appropriately inside this function."
   ]
  },
  {
   "cell_type": "code",
   "execution_count": 17,
   "metadata": {
    "nbgrader": {
     "grade": false,
     "grade_id": "cell-cd58458c52559f0a",
     "locked": false,
     "schema_version": 1,
     "solution": true
    }
   },
   "outputs": [],
   "source": [
    "def parse_test_data(numpy_matrix):\n",
    "\n",
    "    dataset_size, nbr_cols = numpy_matrix.shape\n",
    "    #labels = numpy_matrix[:,0].reshape(dataset_size,1)\n",
    "    test_features = standardize(numpy_matrix[:,0:nbr_cols].reshape(dataset_size, nbr_cols))\n",
    "    return test_features"
   ]
  },
  {
   "cell_type": "code",
   "execution_count": 18,
   "metadata": {
    "nbgrader": {
     "grade": false,
     "grade_id": "cell-febfb665f2f27e1e",
     "locked": true,
     "schema_version": 1,
     "solution": false
    }
   },
   "outputs": [],
   "source": [
    "test_features = parse_test_data(test_data)"
   ]
  },
  {
   "cell_type": "markdown",
   "metadata": {
    "nbgrader": {
     "grade": false,
     "grade_id": "cell-0de20ca899b3afe6",
     "locked": true,
     "schema_version": 1,
     "solution": false
    }
   },
   "source": [
    "## Building the Neural Network "
   ]
  },
  {
   "cell_type": "markdown",
   "metadata": {
    "nbgrader": {
     "grade": false,
     "grade_id": "cell-6b3f768be0607ffd",
     "locked": true,
     "schema_version": 1,
     "solution": false
    }
   },
   "source": [
    "### Initializing important parameters\n",
    "Use the below params appropriately inside the train_nn() function. We have initialized these variables in order to assist you in your implementation."
   ]
  },
  {
   "cell_type": "code",
   "execution_count": 19,
   "metadata": {
    "nbgrader": {
     "grade": false,
     "grade_id": "cell-9496cea12852d1fa",
     "locked": true,
     "schema_version": 1,
     "solution": false
    }
   },
   "outputs": [
    {
     "name": "stdout",
     "output_type": "stream",
     "text": [
      "Total Training examples: 800000, Number of Batches: 5, Batch Size: 160000\n"
     ]
    }
   ],
   "source": [
    "learning_rate = cfg['learning_rate']\n",
    "training_epochs = cfg['epochs']\n",
    "train_valid_split = cfg['training_to_validation_ratio']\n",
    "num_batches = cfg['num_mini_batches']\n",
    "display_step = cfg['display_step']\n",
    "\n",
    "num_examples= training_data.shape[0]\n",
    "\n",
    "# The first `num_train_examples` should be used for training, the rest for validation.\n",
    "num_train_examples = int(num_examples * train_valid_split)\n",
    "\n",
    "batch_size = num_train_examples/num_batches\n",
    "\n",
    "\n",
    "# Network Parameters\n",
    "n_hidden_1 = cfg['hidden_layer_sizes']['first_layer'] # 1st layer number of features\n",
    "n_hidden_2 = cfg['hidden_layer_sizes']['second_layer'] # 2nd layer number of features\n",
    "n_input = 28 \n",
    "n_classes = 1 \n",
    "\n",
    "\n",
    "print(\"Total Training examples: %d, Number of Batches: %d, Batch Size: %d\" %(num_train_examples,num_batches,batch_size))"
   ]
  },
  {
   "cell_type": "markdown",
   "metadata": {
    "nbgrader": {
     "grade": false,
     "grade_id": "cell-dc994f1830e0a244",
     "locked": true,
     "schema_version": 1,
     "solution": false
    }
   },
   "source": [
    "### Initializing placeholders for feeding into the TF graph\n",
    "\n",
    "Define the TF placeholders which will receive data for each mini batch. Similarly define weights and biases as TF variables "
   ]
  },
  {
   "cell_type": "code",
   "execution_count": 20,
   "metadata": {
    "nbgrader": {
     "grade": false,
     "grade_id": "cell-47aa2936b36e30b8",
     "locked": true,
     "schema_version": 1,
     "solution": false
    }
   },
   "outputs": [],
   "source": [
    "# TF Graph input\n",
    "## Use the below placeholders appropriately inside the train_nn() function\n",
    "\n",
    "x = tf.placeholder(\"float\", [None, n_input])\n",
    "y = tf.placeholder(\"float\", [None, 1])\n",
    "\n",
    "\n",
    "# Store layers weight & bias\n",
    "weights = {\n",
    "    'h1': tf.Variable(tf.random_normal([n_input, n_hidden_1])),\n",
    "    'h2': tf.Variable(tf.random_normal([n_hidden_1, n_hidden_2])),\n",
    "    'out': tf.Variable(tf.random_normal([n_hidden_2, n_classes]))\n",
    "}\n",
    "\n",
    "biases = {\n",
    "    'b1': tf.Variable(tf.random_normal([n_hidden_1])),\n",
    "    'b2': tf.Variable(tf.random_normal([n_hidden_2])),\n",
    "    'out': tf.Variable(tf.random_normal([n_classes]))\n",
    "}"
   ]
  },
  {
   "cell_type": "markdown",
   "metadata": {
    "nbgrader": {
     "grade": false,
     "grade_id": "cell-714a63065a14a6sd5f",
     "locked": true,
     "schema_version": 1,
     "solution": false
    }
   },
   "source": [
    "### Exercise: Implement the `calc_num_total_learnable_params` function.\n",
    "\n",
    "This function  calculates the number of learnable parameters of the network model. This number directly relates to the complexity of your model, as well as the training time. \n",
    "\n",
    "The function <font color=\"blue\">calc_num_total_learnable_params</font> takes the weights dictionary and bias dictionary and returns an integer which is equal to the number of total parameters in the network. \n",
    "\n",
    "You can make use of the `get_dims_as_tuple` as a helper function to access the shape of the weight and bias matrices easily."
   ]
  },
  {
   "cell_type": "code",
   "execution_count": 21,
   "metadata": {
    "nbgrader": {
     "grade": false,
     "grade_id": "cell-bb3e6250332e0033",
     "locked": true,
     "schema_version": 1,
     "solution": false
    }
   },
   "outputs": [
    {
     "data": {
      "text/plain": [
       "(28, 20)"
      ]
     },
     "execution_count": 21,
     "metadata": {},
     "output_type": "execute_result"
    }
   ],
   "source": [
    "# Helper function which you may use in implementing `calc_num_total_learnable_params(weights,biases)` function below.\n",
    "def get_dims_as_tuple(x):\n",
    "    shape = x.get_shape()\n",
    "    dims = []\n",
    "    for dim in shape:\n",
    "        dims.append(dim.value)\n",
    "    return tuple(dims)\n",
    "\n",
    "# example usage:\n",
    "get_dims_as_tuple(weights['h1'])"
   ]
  },
  {
   "cell_type": "code",
   "execution_count": 22,
   "metadata": {
    "nbgrader": {
     "grade": false,
     "grade_id": "cell-94e7366afdd6358a",
     "locked": false,
     "schema_version": 1,
     "solution": true
    }
   },
   "outputs": [],
   "source": [
    "def calc_num_total_learnable_params(weights,biases):\n",
    "    \n",
    "    w1,w2 = get_dims_as_tuple(weights)\n",
    "    b1,b2 = get_dims_as_tuple(biases)\n",
    "    \n",
    "    return w1*w2 + b1*b2"
   ]
  },
  {
   "cell_type": "code",
   "execution_count": 23,
   "metadata": {
    "nbgrader": {
     "grade": true,
     "grade_id": "learnable_ht",
     "locked": true,
     "points": "10",
     "schema_version": 1,
     "solution": false
    }
   },
   "outputs": [],
   "source": [
    "## Hidden Tests Here\n",
    "#\n",
    "# AUTOGRADER TEST - DO NOT REMOVE\n",
    "#\n"
   ]
  },
  {
   "cell_type": "markdown",
   "metadata": {
    "nbgrader": {
     "grade": false,
     "grade_id": "cell-40285d4b5a7d0481",
     "locked": true,
     "schema_version": 1,
     "solution": false
    }
   },
   "source": [
    "### Exercise: Create FeedForward Network Model\n",
    "\n",
    "This function needs to be filled up with code to construct the remaining two layers of the neural network. You have to add one more hidden layers and also the output layer.\n",
    "\n",
    "You should use the sigmoid activation function. Tensorflow's `tf.nn.sigmoid()` function should be helpful. \n",
    "\n",
    "We have partially implemented this function. Complete the rest of it. Remember to not apply the sigmoid activation at the last layer as we will be using `tf.nn.sigmoid_cross_entropy_with_logits()` later which does that.\n"
   ]
  },
  {
   "cell_type": "code",
   "execution_count": 24,
   "metadata": {
    "nbgrader": {
     "grade": false,
     "grade_id": "cell-0fd6390a18e16110",
     "locked": false,
     "schema_version": 1,
     "solution": true
    }
   },
   "outputs": [],
   "source": [
    "def create_feedforward_nn_model(x, weights, biases):\n",
    "    # Hidden layer with SIGMOID activation\n",
    "    layer_1 = tf.add(tf.matmul(x, weights['h1']), biases['b1'])\n",
    "    layer_1 = tf.nn.sigmoid(layer_1)\n",
    "    \n",
    "    layer_2 = tf.add(tf.matmul(layer_1, weights['h2']), biases['b2'])\n",
    "    layer_2 = tf.nn.sigmoid(layer_2)\n",
    "\n",
    "    out_layer = tf.matmul(layer_2, weights['out']) + biases['out']\n",
    "    \n",
    "    return out_layer"
   ]
  },
  {
   "cell_type": "markdown",
   "metadata": {
    "nbgrader": {
     "grade": false,
     "grade_id": "cell-6fcb5f53e1dbbae9",
     "locked": true,
     "schema_version": 1,
     "solution": false
    }
   },
   "source": [
    "### Exercise: Stitch the Neural Network Model\n",
    "\n",
    "Using the appropriate Tensorflow libraries, implement each of the following operations:\n",
    "- loss as the CrossEntropyLoss\n",
    "- train_op as the AdamOptimizer that minimizes the loss\n",
    "\n",
    "As inputs to these operators, you can use:\n",
    "- `pred_raw` which is the output of your neural network's last layer\n",
    "- `pred` is the predicted label, which is the output of rounding `pred_raw`. \n",
    "\n",
    "You might want to look at the Tensorflow Section notebooks as well as the TensorFlow API.\n",
    "\n",
    "Two of the returned values have been implemented as a hint for you.\n",
    "\n",
    "Functions that could be useful here: \n",
    "\n",
    "```python\n",
    "tf.nn.sigmoid_cross_entropy_with_logits()\n",
    "tf.reduce_mean()\n",
    "tf.round()\n",
    "tf.sigmoid()\n",
    "tf.train.AdamOptimizer().minimize()\n",
    "```"
   ]
  },
  {
   "cell_type": "code",
   "execution_count": 26,
   "metadata": {
    "nbgrader": {
     "grade": false,
     "grade_id": "cell-2a697316f54fa391",
     "locked": false,
     "schema_version": 1,
     "solution": true
    }
   },
   "outputs": [],
   "source": [
    "# Construct model\n",
    "def stitch_network(x, y, weights, biases, learning_rate=learning_rate):\n",
    "    pred_raw = create_feedforward_nn_model(x, weights, biases)\n",
    "    pred = tf.round(tf.nn.sigmoid(pred_raw))\n",
    "    \n",
    "    cost = tf.reduce_mean(tf.nn.sigmoid_cross_entropy_with_logits(labels=y, logits=pred_raw))\n",
    "    train_op = tf.train.AdamOptimizer(learning_rate=learning_rate).minimize(cost)\n",
    "    return pred_raw, pred, cost, train_op\n",
    "\n",
    "pred_raw, pred, cost, train_op = stitch_network(x, y, weights, biases, learning_rate)"
   ]
  },
  {
   "cell_type": "code",
   "execution_count": 27,
   "metadata": {
    "nbgrader": {
     "grade": true,
     "grade_id": "shape2_v",
     "locked": true,
     "points": "5",
     "schema_version": 1,
     "solution": false
    }
   },
   "outputs": [],
   "source": [
    "assert cost.__class__ == tf.Tensor\n",
    "assert cost.get_shape() == (), \"Make sure you have used reduce_mean\""
   ]
  },
  {
   "cell_type": "code",
   "execution_count": 28,
   "metadata": {
    "nbgrader": {
     "grade": false,
     "grade_id": "cell-e9b4c53caccf6e1d",
     "locked": true,
     "schema_version": 1,
     "solution": false
    }
   },
   "outputs": [],
   "source": [
    "# Initializing the variables - IMPORTANT\n",
    "init = tf.global_variables_initializer()"
   ]
  },
  {
   "cell_type": "markdown",
   "metadata": {
    "nbgrader": {
     "grade": false,
     "grade_id": "cell-b683e70b1b3eafa0",
     "locked": true,
     "schema_version": 1,
     "solution": false
    }
   },
   "source": [
    "## Training and Testing the Neural Network"
   ]
  },
  {
   "cell_type": "markdown",
   "metadata": {
    "nbgrader": {
     "grade": false,
     "grade_id": "cell-b683e70b1b3asdaeafa0",
     "locked": true,
     "schema_version": 1,
     "solution": false
    }
   },
   "source": [
    "### Exercise: Writing the Train function\n",
    "\n",
    "This is where you will train your network.\n",
    "\n",
    "Your goal is to complete the following function named `train_nn()`. \n",
    "\n",
    "To help you structure your implementation, we have provided some starter code. \n",
    "\n",
    "We have also detailed each of the steps you need to pay attention to inside the main training loop.\n",
    "\n",
    "Remember you have access to all the parameters we initialized early on in the notebook, as well as to the parameters defined in the config file. \n",
    "\n",
    "`train_nn()` should return 5 python lists\n",
    "1. training_costs\n",
    "2. validation_costs\n",
    "3. training_accs\n",
    "4. validation_accs\n",
    "5. test_predictions "
   ]
  },
  {
   "cell_type": "code",
   "execution_count": 32,
   "metadata": {
    "nbgrader": {
     "grade": false,
     "grade_id": "cell-cd22bec67d6afd31",
     "locked": false,
     "schema_version": 1,
     "solution": true
    }
   },
   "outputs": [],
   "source": [
    "def train_nn():\n",
    "    with tf.Session() as sess:\n",
    "\n",
    "        sess.run(init)\n",
    "                \n",
    "        ## this is needed to print debug statements during training.\n",
    "        coord = tf.train.Coordinator()\n",
    "        threads = tf.train.start_queue_runners(coord=coord)\n",
    "\n",
    "        x_train, x_valid = features[:num_train_examples], features[num_train_examples:]\n",
    "        y_train, y_valid = labels[:num_train_examples], labels[num_train_examples:]\n",
    "\n",
    "        training_losses = []\n",
    "        training_accs = []\n",
    "\n",
    "        validation_losses = []\n",
    "        validation_accs = []\n",
    "\n",
    "#         training_epochs = 25\n",
    "        for epoch in range(training_epochs):\n",
    "            epoch_loss = 0\n",
    "            epoch_correct = 0\n",
    "            \n",
    "            x_batches = np.array_split(x_train, num_batches)\n",
    "            y_batches = np.array_split(y_train, num_batches)\n",
    "            \n",
    "            for i in range(num_batches):\n",
    "                x_batch, y_batch = x_batches[i], y_batches[i]\n",
    "                sess.run(train_op, feed_dict={x: x_batch, y: y_batch})\n",
    "                train_prediction, train_loss = sess.run([pred, cost], feed_dict={x: x_batch, y: y_batch})\n",
    "                epoch_loss += train_loss * x_batch.shape[0] / x_train.shape[0]\n",
    "                epoch_correct += np.sum(np.equal(np.argmax(train_prediction, 1), np.argmax(y_batch, 1)))\n",
    "#                 print(epoch_correct)\n",
    "\n",
    "            training_losses.append(np.float64(epoch_loss))\n",
    "            epoch_acc = epoch_correct/x_train.shape[0]\n",
    "            training_accs.append(epoch_acc)\n",
    "\n",
    "            # TODO: This part may be incorrect, check again\n",
    "            valid_pred, valid_loss = sess.run([pred, cost], feed_dict={x: x_valid, y: y_valid})\n",
    "            valid_correct = np.equal(np.argmax(valid_pred, 1), np.argmax(y_valid, 1))\n",
    "            validation_losses.append(np.float64(valid_loss))\n",
    "            valid_acc = np.mean(valid_correct)\n",
    "            validation_accs.append(valid_acc)\n",
    "\n",
    "            if epoch%display_step==0:\n",
    "                print(\"Epoch %d | Tr loss: %f | Tr accuracy %f | Va loss: %f | Va accuracy: %f\"\\\n",
    "                      %(epoch + 1,epoch_loss, epoch_acc, valid_loss, valid_acc))\n",
    "            # YOUR CODE HERE\n",
    "        \n",
    "        print(\"Optimization Finished!\")\n",
    "\n",
    "        test_predictions = []\n",
    "        test_pred = sess.run([pred], feed_dict={x: test_features})\n",
    "        test_predictions = list(np.squeeze(test_pred).astype(np.float64))\n",
    "        print(type(test_predictions))\n",
    "        # YOUR CODE HERE\n",
    "\n",
    "        ## this is needed to print debug statements during training.\n",
    "        coord.request_stop()\n",
    "        coord.join(threads)\n",
    "    \n",
    "    ## close TF session if open\n",
    "    if 'session' in locals() and sess is not None:\n",
    "        print('Close interactive session')\n",
    "        sess.close()\n",
    "        \n",
    "    return training_losses, validation_losses, training_accs, validation_accs, test_predictions"
   ]
  },
  {
   "cell_type": "code",
   "execution_count": 33,
   "metadata": {
    "nbgrader": {
     "grade": false,
     "grade_id": "cell-099ff13f7570ad44",
     "locked": true,
     "schema_version": 1,
     "solution": false
    }
   },
   "outputs": [
    {
     "name": "stdout",
     "output_type": "stream",
     "text": [
      "WARNING:tensorflow:`tf.train.start_queue_runners()` was called when no queue runners were defined. You can safely remove the call to this deprecated function.\n",
      "Epoch 1 | Tr loss: 0.746313 | Tr accuracy 1.000000 | Va loss: 0.710182 | Va accuracy: 1.000000\n",
      "Epoch 2 | Tr loss: 0.698177 | Tr accuracy 1.000000 | Va loss: 0.698321 | Va accuracy: 1.000000\n",
      "Epoch 3 | Tr loss: 0.680021 | Tr accuracy 1.000000 | Va loss: 0.676741 | Va accuracy: 1.000000\n",
      "Epoch 4 | Tr loss: 0.675088 | Tr accuracy 1.000000 | Va loss: 0.669658 | Va accuracy: 1.000000\n",
      "Epoch 5 | Tr loss: 0.664278 | Tr accuracy 1.000000 | Va loss: 0.663175 | Va accuracy: 1.000000\n",
      "Epoch 6 | Tr loss: 0.657557 | Tr accuracy 1.000000 | Va loss: 0.653426 | Va accuracy: 1.000000\n",
      "Epoch 7 | Tr loss: 0.649852 | Tr accuracy 1.000000 | Va loss: 0.647521 | Va accuracy: 1.000000\n",
      "Epoch 8 | Tr loss: 0.642671 | Tr accuracy 1.000000 | Va loss: 0.640373 | Va accuracy: 1.000000\n",
      "Epoch 9 | Tr loss: 0.636610 | Tr accuracy 1.000000 | Va loss: 0.634099 | Va accuracy: 1.000000\n",
      "Epoch 10 | Tr loss: 0.631019 | Tr accuracy 1.000000 | Va loss: 0.629054 | Va accuracy: 1.000000\n",
      "Epoch 11 | Tr loss: 0.625595 | Tr accuracy 1.000000 | Va loss: 0.624077 | Va accuracy: 1.000000\n",
      "Epoch 12 | Tr loss: 0.620850 | Tr accuracy 1.000000 | Va loss: 0.620011 | Va accuracy: 1.000000\n",
      "Epoch 13 | Tr loss: 0.616993 | Tr accuracy 1.000000 | Va loss: 0.616464 | Va accuracy: 1.000000\n",
      "Epoch 14 | Tr loss: 0.613521 | Tr accuracy 1.000000 | Va loss: 0.613116 | Va accuracy: 1.000000\n",
      "Epoch 15 | Tr loss: 0.610258 | Tr accuracy 1.000000 | Va loss: 0.609777 | Va accuracy: 1.000000\n",
      "Epoch 16 | Tr loss: 0.607116 | Tr accuracy 1.000000 | Va loss: 0.606662 | Va accuracy: 1.000000\n",
      "Epoch 17 | Tr loss: 0.604082 | Tr accuracy 1.000000 | Va loss: 0.603712 | Va accuracy: 1.000000\n",
      "Epoch 18 | Tr loss: 0.601092 | Tr accuracy 1.000000 | Va loss: 0.600768 | Va accuracy: 1.000000\n",
      "Epoch 19 | Tr loss: 0.598184 | Tr accuracy 1.000000 | Va loss: 0.597894 | Va accuracy: 1.000000\n",
      "Epoch 20 | Tr loss: 0.595251 | Tr accuracy 1.000000 | Va loss: 0.594937 | Va accuracy: 1.000000\n",
      "Epoch 21 | Tr loss: 0.592169 | Tr accuracy 1.000000 | Va loss: 0.591795 | Va accuracy: 1.000000\n",
      "Epoch 22 | Tr loss: 0.588918 | Tr accuracy 1.000000 | Va loss: 0.588484 | Va accuracy: 1.000000\n",
      "Epoch 23 | Tr loss: 0.585532 | Tr accuracy 1.000000 | Va loss: 0.585071 | Va accuracy: 1.000000\n",
      "Epoch 24 | Tr loss: 0.582094 | Tr accuracy 1.000000 | Va loss: 0.581685 | Va accuracy: 1.000000\n",
      "Epoch 25 | Tr loss: 0.578689 | Tr accuracy 1.000000 | Va loss: 0.578378 | Va accuracy: 1.000000\n",
      "Epoch 26 | Tr loss: 0.575231 | Tr accuracy 1.000000 | Va loss: 0.575078 | Va accuracy: 1.000000\n",
      "Epoch 27 | Tr loss: 0.571736 | Tr accuracy 1.000000 | Va loss: 0.571920 | Va accuracy: 1.000000\n",
      "Epoch 28 | Tr loss: 0.568353 | Tr accuracy 1.000000 | Va loss: 0.568905 | Va accuracy: 1.000000\n",
      "Epoch 29 | Tr loss: 0.565273 | Tr accuracy 1.000000 | Va loss: 0.565953 | Va accuracy: 1.000000\n",
      "Epoch 30 | Tr loss: 0.562578 | Tr accuracy 1.000000 | Va loss: 0.563129 | Va accuracy: 1.000000\n",
      "Epoch 31 | Tr loss: 0.560253 | Tr accuracy 1.000000 | Va loss: 0.560777 | Va accuracy: 1.000000\n",
      "Epoch 32 | Tr loss: 0.558276 | Tr accuracy 1.000000 | Va loss: 0.558953 | Va accuracy: 1.000000\n",
      "Epoch 33 | Tr loss: 0.556610 | Tr accuracy 1.000000 | Va loss: 0.557452 | Va accuracy: 1.000000\n",
      "Epoch 34 | Tr loss: 0.555158 | Tr accuracy 1.000000 | Va loss: 0.556045 | Va accuracy: 1.000000\n",
      "Epoch 35 | Tr loss: 0.553776 | Tr accuracy 1.000000 | Va loss: 0.554567 | Va accuracy: 1.000000\n",
      "Epoch 36 | Tr loss: 0.552460 | Tr accuracy 1.000000 | Va loss: 0.553220 | Va accuracy: 1.000000\n",
      "Epoch 37 | Tr loss: 0.551215 | Tr accuracy 1.000000 | Va loss: 0.551950 | Va accuracy: 1.000000\n",
      "Epoch 38 | Tr loss: 0.550025 | Tr accuracy 1.000000 | Va loss: 0.550711 | Va accuracy: 1.000000\n",
      "Epoch 39 | Tr loss: 0.548920 | Tr accuracy 1.000000 | Va loss: 0.549653 | Va accuracy: 1.000000\n",
      "Epoch 40 | Tr loss: 0.547891 | Tr accuracy 1.000000 | Va loss: 0.548628 | Va accuracy: 1.000000\n",
      "Epoch 41 | Tr loss: 0.546927 | Tr accuracy 1.000000 | Va loss: 0.547703 | Va accuracy: 1.000000\n",
      "Epoch 42 | Tr loss: 0.546019 | Tr accuracy 1.000000 | Va loss: 0.546790 | Va accuracy: 1.000000\n",
      "Epoch 43 | Tr loss: 0.545150 | Tr accuracy 1.000000 | Va loss: 0.545902 | Va accuracy: 1.000000\n",
      "Epoch 44 | Tr loss: 0.544308 | Tr accuracy 1.000000 | Va loss: 0.545005 | Va accuracy: 1.000000\n",
      "Epoch 45 | Tr loss: 0.543482 | Tr accuracy 1.000000 | Va loss: 0.544151 | Va accuracy: 1.000000\n",
      "Epoch 46 | Tr loss: 0.542665 | Tr accuracy 1.000000 | Va loss: 0.543333 | Va accuracy: 1.000000\n",
      "Epoch 47 | Tr loss: 0.541867 | Tr accuracy 1.000000 | Va loss: 0.542555 | Va accuracy: 1.000000\n",
      "Epoch 48 | Tr loss: 0.541102 | Tr accuracy 1.000000 | Va loss: 0.541810 | Va accuracy: 1.000000\n",
      "Epoch 49 | Tr loss: 0.540377 | Tr accuracy 1.000000 | Va loss: 0.541104 | Va accuracy: 1.000000\n",
      "Epoch 50 | Tr loss: 0.539691 | Tr accuracy 1.000000 | Va loss: 0.540453 | Va accuracy: 1.000000\n",
      "Epoch 51 | Tr loss: 0.539042 | Tr accuracy 1.000000 | Va loss: 0.539854 | Va accuracy: 1.000000\n",
      "Epoch 52 | Tr loss: 0.538432 | Tr accuracy 1.000000 | Va loss: 0.539299 | Va accuracy: 1.000000\n",
      "Epoch 53 | Tr loss: 0.537860 | Tr accuracy 1.000000 | Va loss: 0.538789 | Va accuracy: 1.000000\n",
      "Epoch 54 | Tr loss: 0.537326 | Tr accuracy 1.000000 | Va loss: 0.538321 | Va accuracy: 1.000000\n",
      "Epoch 55 | Tr loss: 0.536828 | Tr accuracy 1.000000 | Va loss: 0.537891 | Va accuracy: 1.000000\n",
      "Epoch 56 | Tr loss: 0.536361 | Tr accuracy 1.000000 | Va loss: 0.537492 | Va accuracy: 1.000000\n",
      "Epoch 57 | Tr loss: 0.535921 | Tr accuracy 1.000000 | Va loss: 0.537120 | Va accuracy: 1.000000\n",
      "Epoch 58 | Tr loss: 0.535505 | Tr accuracy 1.000000 | Va loss: 0.536768 | Va accuracy: 1.000000\n",
      "Epoch 59 | Tr loss: 0.535107 | Tr accuracy 1.000000 | Va loss: 0.536423 | Va accuracy: 1.000000\n",
      "Epoch 60 | Tr loss: 0.534718 | Tr accuracy 1.000000 | Va loss: 0.536075 | Va accuracy: 1.000000\n",
      "Epoch 61 | Tr loss: 0.534336 | Tr accuracy 1.000000 | Va loss: 0.535724 | Va accuracy: 1.000000\n",
      "Epoch 62 | Tr loss: 0.533959 | Tr accuracy 1.000000 | Va loss: 0.535372 | Va accuracy: 1.000000\n",
      "Epoch 63 | Tr loss: 0.533589 | Tr accuracy 1.000000 | Va loss: 0.535020 | Va accuracy: 1.000000\n",
      "Epoch 64 | Tr loss: 0.533230 | Tr accuracy 1.000000 | Va loss: 0.534668 | Va accuracy: 1.000000\n",
      "Epoch 65 | Tr loss: 0.532882 | Tr accuracy 1.000000 | Va loss: 0.534316 | Va accuracy: 1.000000\n",
      "Epoch 66 | Tr loss: 0.532544 | Tr accuracy 1.000000 | Va loss: 0.533961 | Va accuracy: 1.000000\n",
      "Epoch 67 | Tr loss: 0.532216 | Tr accuracy 1.000000 | Va loss: 0.533609 | Va accuracy: 1.000000\n",
      "Epoch 68 | Tr loss: 0.531895 | Tr accuracy 1.000000 | Va loss: 0.533264 | Va accuracy: 1.000000\n",
      "Epoch 69 | Tr loss: 0.531576 | Tr accuracy 1.000000 | Va loss: 0.532931 | Va accuracy: 1.000000\n",
      "Epoch 70 | Tr loss: 0.531260 | Tr accuracy 1.000000 | Va loss: 0.532617 | Va accuracy: 1.000000\n",
      "Epoch 71 | Tr loss: 0.530947 | Tr accuracy 1.000000 | Va loss: 0.532328 | Va accuracy: 1.000000\n",
      "Epoch 72 | Tr loss: 0.530638 | Tr accuracy 1.000000 | Va loss: 0.532063 | Va accuracy: 1.000000\n",
      "Epoch 73 | Tr loss: 0.530332 | Tr accuracy 1.000000 | Va loss: 0.531813 | Va accuracy: 1.000000\n",
      "Epoch 74 | Tr loss: 0.530033 | Tr accuracy 1.000000 | Va loss: 0.531570 | Va accuracy: 1.000000\n",
      "Epoch 75 | Tr loss: 0.529744 | Tr accuracy 1.000000 | Va loss: 0.531326 | Va accuracy: 1.000000\n",
      "Epoch 76 | Tr loss: 0.529470 | Tr accuracy 1.000000 | Va loss: 0.531082 | Va accuracy: 1.000000\n",
      "Epoch 77 | Tr loss: 0.529211 | Tr accuracy 1.000000 | Va loss: 0.530846 | Va accuracy: 1.000000\n",
      "Epoch 78 | Tr loss: 0.528968 | Tr accuracy 1.000000 | Va loss: 0.530624 | Va accuracy: 1.000000\n",
      "Epoch 79 | Tr loss: 0.528743 | Tr accuracy 1.000000 | Va loss: 0.530418 | Va accuracy: 1.000000\n",
      "Epoch 80 | Tr loss: 0.528535 | Tr accuracy 1.000000 | Va loss: 0.530228 | Va accuracy: 1.000000\n",
      "Epoch 81 | Tr loss: 0.528343 | Tr accuracy 1.000000 | Va loss: 0.530053 | Va accuracy: 1.000000\n",
      "Epoch 82 | Tr loss: 0.528166 | Tr accuracy 1.000000 | Va loss: 0.529891 | Va accuracy: 1.000000\n",
      "Epoch 83 | Tr loss: 0.528000 | Tr accuracy 1.000000 | Va loss: 0.529740 | Va accuracy: 1.000000\n",
      "Epoch 84 | Tr loss: 0.527842 | Tr accuracy 1.000000 | Va loss: 0.529597 | Va accuracy: 1.000000\n",
      "Epoch 85 | Tr loss: 0.527691 | Tr accuracy 1.000000 | Va loss: 0.529458 | Va accuracy: 1.000000\n",
      "Epoch 86 | Tr loss: 0.527545 | Tr accuracy 1.000000 | Va loss: 0.529322 | Va accuracy: 1.000000\n",
      "Epoch 87 | Tr loss: 0.527402 | Tr accuracy 1.000000 | Va loss: 0.529186 | Va accuracy: 1.000000\n",
      "Epoch 88 | Tr loss: 0.527263 | Tr accuracy 1.000000 | Va loss: 0.529050 | Va accuracy: 1.000000\n",
      "Epoch 89 | Tr loss: 0.527127 | Tr accuracy 1.000000 | Va loss: 0.528912 | Va accuracy: 1.000000\n",
      "Epoch 90 | Tr loss: 0.526995 | Tr accuracy 1.000000 | Va loss: 0.528774 | Va accuracy: 1.000000\n",
      "Epoch 91 | Tr loss: 0.526867 | Tr accuracy 1.000000 | Va loss: 0.528636 | Va accuracy: 1.000000\n",
      "Epoch 92 | Tr loss: 0.526744 | Tr accuracy 1.000000 | Va loss: 0.528502 | Va accuracy: 1.000000\n",
      "Epoch 93 | Tr loss: 0.526626 | Tr accuracy 1.000000 | Va loss: 0.528373 | Va accuracy: 1.000000\n",
      "Epoch 94 | Tr loss: 0.526512 | Tr accuracy 1.000000 | Va loss: 0.528250 | Va accuracy: 1.000000\n",
      "Epoch 95 | Tr loss: 0.526401 | Tr accuracy 1.000000 | Va loss: 0.528131 | Va accuracy: 1.000000\n",
      "Epoch 96 | Tr loss: 0.526294 | Tr accuracy 1.000000 | Va loss: 0.528019 | Va accuracy: 1.000000\n",
      "Epoch 97 | Tr loss: 0.526188 | Tr accuracy 1.000000 | Va loss: 0.527911 | Va accuracy: 1.000000\n",
      "Epoch 98 | Tr loss: 0.526084 | Tr accuracy 1.000000 | Va loss: 0.527808 | Va accuracy: 1.000000\n",
      "Epoch 99 | Tr loss: 0.525982 | Tr accuracy 1.000000 | Va loss: 0.527709 | Va accuracy: 1.000000\n",
      "Epoch 100 | Tr loss: 0.525881 | Tr accuracy 1.000000 | Va loss: 0.527613 | Va accuracy: 1.000000\n",
      "Epoch 101 | Tr loss: 0.525781 | Tr accuracy 1.000000 | Va loss: 0.527521 | Va accuracy: 1.000000\n",
      "Epoch 102 | Tr loss: 0.525682 | Tr accuracy 1.000000 | Va loss: 0.527430 | Va accuracy: 1.000000\n",
      "Epoch 103 | Tr loss: 0.525582 | Tr accuracy 1.000000 | Va loss: 0.527340 | Va accuracy: 1.000000\n",
      "Epoch 104 | Tr loss: 0.525482 | Tr accuracy 1.000000 | Va loss: 0.527250 | Va accuracy: 1.000000\n",
      "Epoch 105 | Tr loss: 0.525381 | Tr accuracy 1.000000 | Va loss: 0.527159 | Va accuracy: 1.000000\n",
      "Epoch 106 | Tr loss: 0.525279 | Tr accuracy 1.000000 | Va loss: 0.527068 | Va accuracy: 1.000000\n",
      "Epoch 107 | Tr loss: 0.525175 | Tr accuracy 1.000000 | Va loss: 0.526975 | Va accuracy: 1.000000\n",
      "Epoch 108 | Tr loss: 0.525070 | Tr accuracy 1.000000 | Va loss: 0.526879 | Va accuracy: 1.000000\n",
      "Epoch 109 | Tr loss: 0.524962 | Tr accuracy 1.000000 | Va loss: 0.526780 | Va accuracy: 1.000000\n",
      "Epoch 110 | Tr loss: 0.524852 | Tr accuracy 1.000000 | Va loss: 0.526676 | Va accuracy: 1.000000\n",
      "Epoch 111 | Tr loss: 0.524742 | Tr accuracy 1.000000 | Va loss: 0.526571 | Va accuracy: 1.000000\n",
      "Epoch 112 | Tr loss: 0.524631 | Tr accuracy 1.000000 | Va loss: 0.526464 | Va accuracy: 1.000000\n",
      "Epoch 113 | Tr loss: 0.524523 | Tr accuracy 1.000000 | Va loss: 0.526360 | Va accuracy: 1.000000\n",
      "Epoch 114 | Tr loss: 0.524418 | Tr accuracy 1.000000 | Va loss: 0.526259 | Va accuracy: 1.000000\n",
      "Epoch 115 | Tr loss: 0.524316 | Tr accuracy 1.000000 | Va loss: 0.526163 | Va accuracy: 1.000000\n",
      "Epoch 116 | Tr loss: 0.524219 | Tr accuracy 1.000000 | Va loss: 0.526072 | Va accuracy: 1.000000\n",
      "Epoch 117 | Tr loss: 0.524126 | Tr accuracy 1.000000 | Va loss: 0.525986 | Va accuracy: 1.000000\n",
      "Epoch 118 | Tr loss: 0.524036 | Tr accuracy 1.000000 | Va loss: 0.525902 | Va accuracy: 1.000000\n",
      "Epoch 119 | Tr loss: 0.523949 | Tr accuracy 1.000000 | Va loss: 0.525822 | Va accuracy: 1.000000\n",
      "Epoch 120 | Tr loss: 0.523865 | Tr accuracy 1.000000 | Va loss: 0.525743 | Va accuracy: 1.000000\n",
      "Epoch 121 | Tr loss: 0.523784 | Tr accuracy 1.000000 | Va loss: 0.525667 | Va accuracy: 1.000000\n",
      "Epoch 122 | Tr loss: 0.523704 | Tr accuracy 1.000000 | Va loss: 0.525592 | Va accuracy: 1.000000\n",
      "Epoch 123 | Tr loss: 0.523628 | Tr accuracy 1.000000 | Va loss: 0.525519 | Va accuracy: 1.000000\n",
      "Epoch 124 | Tr loss: 0.523553 | Tr accuracy 1.000000 | Va loss: 0.525446 | Va accuracy: 1.000000\n",
      "Epoch 125 | Tr loss: 0.523481 | Tr accuracy 1.000000 | Va loss: 0.525374 | Va accuracy: 1.000000\n",
      "Epoch 126 | Tr loss: 0.523411 | Tr accuracy 1.000000 | Va loss: 0.525301 | Va accuracy: 1.000000\n",
      "Epoch 127 | Tr loss: 0.523343 | Tr accuracy 1.000000 | Va loss: 0.525229 | Va accuracy: 1.000000\n",
      "Epoch 128 | Tr loss: 0.523277 | Tr accuracy 1.000000 | Va loss: 0.525156 | Va accuracy: 1.000000\n",
      "Epoch 129 | Tr loss: 0.523211 | Tr accuracy 1.000000 | Va loss: 0.525082 | Va accuracy: 1.000000\n",
      "Epoch 130 | Tr loss: 0.523144 | Tr accuracy 1.000000 | Va loss: 0.525006 | Va accuracy: 1.000000\n",
      "Epoch 131 | Tr loss: 0.523078 | Tr accuracy 1.000000 | Va loss: 0.524929 | Va accuracy: 1.000000\n",
      "Epoch 132 | Tr loss: 0.523011 | Tr accuracy 1.000000 | Va loss: 0.524850 | Va accuracy: 1.000000\n",
      "Epoch 133 | Tr loss: 0.522942 | Tr accuracy 1.000000 | Va loss: 0.524769 | Va accuracy: 1.000000\n",
      "Epoch 134 | Tr loss: 0.522872 | Tr accuracy 1.000000 | Va loss: 0.524685 | Va accuracy: 1.000000\n",
      "Epoch 135 | Tr loss: 0.522801 | Tr accuracy 1.000000 | Va loss: 0.524598 | Va accuracy: 1.000000\n",
      "Epoch 136 | Tr loss: 0.522730 | Tr accuracy 1.000000 | Va loss: 0.524510 | Va accuracy: 1.000000\n",
      "Epoch 137 | Tr loss: 0.522660 | Tr accuracy 1.000000 | Va loss: 0.524420 | Va accuracy: 1.000000\n",
      "Epoch 138 | Tr loss: 0.522591 | Tr accuracy 1.000000 | Va loss: 0.524329 | Va accuracy: 1.000000\n",
      "Epoch 139 | Tr loss: 0.522526 | Tr accuracy 1.000000 | Va loss: 0.524239 | Va accuracy: 1.000000\n",
      "Epoch 140 | Tr loss: 0.522464 | Tr accuracy 1.000000 | Va loss: 0.524149 | Va accuracy: 1.000000\n",
      "Epoch 141 | Tr loss: 0.522406 | Tr accuracy 1.000000 | Va loss: 0.524061 | Va accuracy: 1.000000\n",
      "Epoch 142 | Tr loss: 0.522352 | Tr accuracy 1.000000 | Va loss: 0.523974 | Va accuracy: 1.000000\n",
      "Epoch 143 | Tr loss: 0.522302 | Tr accuracy 1.000000 | Va loss: 0.523887 | Va accuracy: 1.000000\n",
      "Epoch 144 | Tr loss: 0.522254 | Tr accuracy 1.000000 | Va loss: 0.523799 | Va accuracy: 1.000000\n",
      "Epoch 145 | Tr loss: 0.522208 | Tr accuracy 1.000000 | Va loss: 0.523712 | Va accuracy: 1.000000\n",
      "Epoch 146 | Tr loss: 0.522164 | Tr accuracy 1.000000 | Va loss: 0.523624 | Va accuracy: 1.000000\n",
      "Epoch 147 | Tr loss: 0.522120 | Tr accuracy 1.000000 | Va loss: 0.523536 | Va accuracy: 1.000000\n",
      "Epoch 148 | Tr loss: 0.522076 | Tr accuracy 1.000000 | Va loss: 0.523450 | Va accuracy: 1.000000\n",
      "Epoch 149 | Tr loss: 0.522033 | Tr accuracy 1.000000 | Va loss: 0.523366 | Va accuracy: 1.000000\n",
      "Epoch 150 | Tr loss: 0.521990 | Tr accuracy 1.000000 | Va loss: 0.523285 | Va accuracy: 1.000000\n",
      "Epoch 151 | Tr loss: 0.521947 | Tr accuracy 1.000000 | Va loss: 0.523208 | Va accuracy: 1.000000\n",
      "Epoch 152 | Tr loss: 0.521903 | Tr accuracy 1.000000 | Va loss: 0.523136 | Va accuracy: 1.000000\n",
      "Epoch 153 | Tr loss: 0.521859 | Tr accuracy 1.000000 | Va loss: 0.523070 | Va accuracy: 1.000000\n",
      "Epoch 154 | Tr loss: 0.521815 | Tr accuracy 1.000000 | Va loss: 0.523010 | Va accuracy: 1.000000\n",
      "Epoch 155 | Tr loss: 0.521772 | Tr accuracy 1.000000 | Va loss: 0.522956 | Va accuracy: 1.000000\n",
      "Epoch 156 | Tr loss: 0.521729 | Tr accuracy 1.000000 | Va loss: 0.522907 | Va accuracy: 1.000000\n",
      "Epoch 157 | Tr loss: 0.521686 | Tr accuracy 1.000000 | Va loss: 0.522863 | Va accuracy: 1.000000\n",
      "Epoch 158 | Tr loss: 0.521645 | Tr accuracy 1.000000 | Va loss: 0.522824 | Va accuracy: 1.000000\n",
      "Epoch 159 | Tr loss: 0.521605 | Tr accuracy 1.000000 | Va loss: 0.522788 | Va accuracy: 1.000000\n",
      "Epoch 160 | Tr loss: 0.521567 | Tr accuracy 1.000000 | Va loss: 0.522754 | Va accuracy: 1.000000\n",
      "Epoch 161 | Tr loss: 0.521530 | Tr accuracy 1.000000 | Va loss: 0.522724 | Va accuracy: 1.000000\n",
      "Epoch 162 | Tr loss: 0.521495 | Tr accuracy 1.000000 | Va loss: 0.522695 | Va accuracy: 1.000000\n",
      "Epoch 163 | Tr loss: 0.521461 | Tr accuracy 1.000000 | Va loss: 0.522667 | Va accuracy: 1.000000\n",
      "Epoch 164 | Tr loss: 0.521429 | Tr accuracy 1.000000 | Va loss: 0.522640 | Va accuracy: 1.000000\n",
      "Epoch 165 | Tr loss: 0.521397 | Tr accuracy 1.000000 | Va loss: 0.522614 | Va accuracy: 1.000000\n",
      "Epoch 166 | Tr loss: 0.521367 | Tr accuracy 1.000000 | Va loss: 0.522588 | Va accuracy: 1.000000\n",
      "Epoch 167 | Tr loss: 0.521337 | Tr accuracy 1.000000 | Va loss: 0.522563 | Va accuracy: 1.000000\n",
      "Epoch 168 | Tr loss: 0.521308 | Tr accuracy 1.000000 | Va loss: 0.522537 | Va accuracy: 1.000000\n",
      "Epoch 169 | Tr loss: 0.521279 | Tr accuracy 1.000000 | Va loss: 0.522511 | Va accuracy: 1.000000\n",
      "Epoch 170 | Tr loss: 0.521251 | Tr accuracy 1.000000 | Va loss: 0.522486 | Va accuracy: 1.000000\n",
      "Epoch 171 | Tr loss: 0.521223 | Tr accuracy 1.000000 | Va loss: 0.522461 | Va accuracy: 1.000000\n",
      "Epoch 172 | Tr loss: 0.521195 | Tr accuracy 1.000000 | Va loss: 0.522437 | Va accuracy: 1.000000\n",
      "Epoch 173 | Tr loss: 0.521168 | Tr accuracy 1.000000 | Va loss: 0.522413 | Va accuracy: 1.000000\n",
      "Epoch 174 | Tr loss: 0.521141 | Tr accuracy 1.000000 | Va loss: 0.522389 | Va accuracy: 1.000000\n",
      "Epoch 175 | Tr loss: 0.521114 | Tr accuracy 1.000000 | Va loss: 0.522366 | Va accuracy: 1.000000\n",
      "Epoch 176 | Tr loss: 0.521088 | Tr accuracy 1.000000 | Va loss: 0.522344 | Va accuracy: 1.000000\n",
      "Epoch 177 | Tr loss: 0.521062 | Tr accuracy 1.000000 | Va loss: 0.522323 | Va accuracy: 1.000000\n",
      "Epoch 178 | Tr loss: 0.521036 | Tr accuracy 1.000000 | Va loss: 0.522302 | Va accuracy: 1.000000\n",
      "Epoch 179 | Tr loss: 0.521011 | Tr accuracy 1.000000 | Va loss: 0.522282 | Va accuracy: 1.000000\n",
      "Epoch 180 | Tr loss: 0.520986 | Tr accuracy 1.000000 | Va loss: 0.522262 | Va accuracy: 1.000000\n",
      "Epoch 181 | Tr loss: 0.520961 | Tr accuracy 1.000000 | Va loss: 0.522243 | Va accuracy: 1.000000\n",
      "Epoch 182 | Tr loss: 0.520936 | Tr accuracy 1.000000 | Va loss: 0.522224 | Va accuracy: 1.000000\n",
      "Epoch 183 | Tr loss: 0.520912 | Tr accuracy 1.000000 | Va loss: 0.522206 | Va accuracy: 1.000000\n",
      "Epoch 184 | Tr loss: 0.520888 | Tr accuracy 1.000000 | Va loss: 0.522188 | Va accuracy: 1.000000\n",
      "Epoch 185 | Tr loss: 0.520864 | Tr accuracy 1.000000 | Va loss: 0.522171 | Va accuracy: 1.000000\n",
      "Epoch 186 | Tr loss: 0.520840 | Tr accuracy 1.000000 | Va loss: 0.522154 | Va accuracy: 1.000000\n",
      "Epoch 187 | Tr loss: 0.520817 | Tr accuracy 1.000000 | Va loss: 0.522137 | Va accuracy: 1.000000\n",
      "Epoch 188 | Tr loss: 0.520793 | Tr accuracy 1.000000 | Va loss: 0.522121 | Va accuracy: 1.000000\n",
      "Epoch 189 | Tr loss: 0.520770 | Tr accuracy 1.000000 | Va loss: 0.522105 | Va accuracy: 1.000000\n",
      "Epoch 190 | Tr loss: 0.520746 | Tr accuracy 1.000000 | Va loss: 0.522089 | Va accuracy: 1.000000\n",
      "Epoch 191 | Tr loss: 0.520723 | Tr accuracy 1.000000 | Va loss: 0.522074 | Va accuracy: 1.000000\n",
      "Epoch 192 | Tr loss: 0.520700 | Tr accuracy 1.000000 | Va loss: 0.522060 | Va accuracy: 1.000000\n",
      "Epoch 193 | Tr loss: 0.520678 | Tr accuracy 1.000000 | Va loss: 0.522046 | Va accuracy: 1.000000\n",
      "Epoch 194 | Tr loss: 0.520655 | Tr accuracy 1.000000 | Va loss: 0.522032 | Va accuracy: 1.000000\n",
      "Epoch 195 | Tr loss: 0.520633 | Tr accuracy 1.000000 | Va loss: 0.522019 | Va accuracy: 1.000000\n",
      "Epoch 196 | Tr loss: 0.520611 | Tr accuracy 1.000000 | Va loss: 0.522006 | Va accuracy: 1.000000\n",
      "Epoch 197 | Tr loss: 0.520589 | Tr accuracy 1.000000 | Va loss: 0.521994 | Va accuracy: 1.000000\n",
      "Epoch 198 | Tr loss: 0.520567 | Tr accuracy 1.000000 | Va loss: 0.521982 | Va accuracy: 1.000000\n",
      "Epoch 199 | Tr loss: 0.520545 | Tr accuracy 1.000000 | Va loss: 0.521970 | Va accuracy: 1.000000\n",
      "Epoch 200 | Tr loss: 0.520524 | Tr accuracy 1.000000 | Va loss: 0.521959 | Va accuracy: 1.000000\n",
      "Optimization Finished!\n",
      "<class 'list'>\n"
     ]
    }
   ],
   "source": [
    "training_costs, validation_costs, training_accs, validation_accs, test_predictions = train_nn()"
   ]
  },
  {
   "cell_type": "code",
   "execution_count": 34,
   "metadata": {
    "nbgrader": {
     "grade": true,
     "grade_id": "typechecks_v",
     "locked": true,
     "points": "5",
     "schema_version": 1,
     "solution": false
    }
   },
   "outputs": [],
   "source": [
    "## making sure your train_nn() function returns variables as expected\n",
    "assert type(training_accs)==list,\"incorrect return type\"\n",
    "assert type(validation_accs)==list, \"incorrect return type\"\n",
    "assert type(training_costs)==list, \"incorrect return type\"\n",
    "assert type(validation_costs)==list,\"incorrect return type\"\n",
    "assert type(test_predictions[0])==type(training_accs[0])==type(validation_accs[0])==type(training_costs[0])==type(validation_costs[0])==np.float64, \"incorrect return type\"\n",
    "assert len(training_accs)==len(validation_accs)==len(training_costs)==len(validation_costs)==training_epochs,\"incorrect returned lengths\"\n",
    "assert len(test_predictions)==len(test_features),\"incorrect returned lengths\""
   ]
  },
  {
   "cell_type": "markdown",
   "metadata": {
    "nbgrader": {
     "grade": false,
     "grade_id": "cell-4ed33d0856316a08",
     "locked": true,
     "schema_version": 1,
     "solution": false
    }
   },
   "source": [
    "### Analyzing cost and accuracy trends vs number of epochs"
   ]
  },
  {
   "cell_type": "code",
   "execution_count": 35,
   "metadata": {
    "nbgrader": {
     "grade": false,
     "grade_id": "cell-450747d7f0431e00",
     "locked": true,
     "schema_version": 1,
     "solution": false
    }
   },
   "outputs": [],
   "source": [
    "def plot_cost_vs_epochs(training_costs, validation_costs):\n",
    "    plt.title(\"cost vs epochs\")\n",
    "    plt.plot(training_costs)\n",
    "    plt.plot(validation_costs)\n",
    "    plt.legend([\"training\",\"validation\"])"
   ]
  },
  {
   "cell_type": "code",
   "execution_count": 36,
   "metadata": {
    "nbgrader": {
     "grade": false,
     "grade_id": "cell-78d0e31f3ed4005e",
     "locked": true,
     "schema_version": 1,
     "solution": false
    },
    "scrolled": true
   },
   "outputs": [],
   "source": [
    "def plot_acc_vs_epochs(training_acc, validation_acc):\n",
    "    plt.title(\"accuracy vs epochs\")\n",
    "    plt.plot(training_acc)\n",
    "    plt.plot(validation_acc)\n",
    "    plt.legend([\"training\",\"validation\"])"
   ]
  },
  {
   "cell_type": "code",
   "execution_count": 37,
   "metadata": {
    "nbgrader": {
     "grade": false,
     "grade_id": "cell-5f2c5d57928f7a69",
     "locked": true,
     "schema_version": 1,
     "solution": false
    }
   },
   "outputs": [],
   "source": [
    "\n",
    "def plots(training_costs, validation_costs, training_accs, validation_accs):\n",
    "    \n",
    "    fig = plt.figure(figsize=(20,10))\n",
    "    \n",
    "    plt.subplot(1,2,1)\n",
    "    plot_cost_vs_epochs(training_costs, validation_costs)\n",
    "    plt.subplot(1,2,2)\n",
    "    plot_acc_vs_epochs(training_accs, validation_accs)"
   ]
  },
  {
   "cell_type": "code",
   "execution_count": 38,
   "metadata": {},
   "outputs": [
    {
     "data": {
      "image/png": "[encoded data removed]",
      "text/plain": [
       "<Figure size 1440x720 with 2 Axes>"
      ]
     },
     "metadata": {
      "needs_background": "light"
     },
     "output_type": "display_data"
    }
   ],
   "source": [
    "plots(training_costs, validation_costs, training_accs, validation_accs)"
   ]
  },
  {
   "cell_type": "markdown",
   "metadata": {
    "nbgrader": {
     "grade": false,
     "grade_id": "cell-7e48102290dfc483",
     "locked": true,
     "schema_version": 1,
     "solution": false
    }
   },
   "source": [
    "### Scoring Your Test Predictions\n",
    "\n",
    "The following code saves your test predictions locally in the same directory.\n",
    "\n",
    "It is required in order to give you a grade based on your network's performance."
   ]
  },
  {
   "cell_type": "code",
   "execution_count": 39,
   "metadata": {
    "nbgrader": {
     "grade": false,
     "grade_id": "cell-9130fc95b3adda93",
     "locked": true,
     "schema_version": 1,
     "solution": false
    }
   },
   "outputs": [],
   "source": [
    "import pickle\n",
    "def save_test_predictions(test_predictions):\n",
    "     with open(cfg['output_predictions_pickle_path'], 'wb') as f:\n",
    "        pickle.dump(test_predictions, f)\n",
    "save_test_predictions(test_predictions)"
   ]
  },
  {
   "cell_type": "code",
   "execution_count": 40,
   "metadata": {
    "nbgrader": {
     "grade": true,
     "grade_id": "threshold1_h",
     "locked": true,
     "points": "5",
     "schema_version": 1,
     "solution": false
    },
    "scrolled": true
   },
   "outputs": [],
   "source": [
    "#Hidden tests here\n",
    "#\n",
    "# AUTOGRADER TEST - DO NOT REMOVE\n",
    "#\n"
   ]
  },
  {
   "cell_type": "code",
   "execution_count": 41,
   "metadata": {
    "nbgrader": {
     "grade": true,
     "grade_id": "threshold2_h",
     "locked": true,
     "points": "10",
     "schema_version": 1,
     "solution": false
    }
   },
   "outputs": [],
   "source": [
    "#Hidden tests here\n",
    "#\n",
    "# AUTOGRADER TEST - DO NOT REMOVE\n",
    "#\n"
   ]
  },
  {
   "cell_type": "code",
   "execution_count": 42,
   "metadata": {
    "nbgrader": {
     "grade": true,
     "grade_id": "threshold3_h",
     "locked": true,
     "points": "15",
     "schema_version": 1,
     "solution": false
    }
   },
   "outputs": [],
   "source": [
    "#Hidden tests here\n",
    "#\n",
    "# AUTOGRADER TEST - DO NOT REMOVE\n",
    "#\n"
   ]
  },
  {
   "cell_type": "code",
   "execution_count": 43,
   "metadata": {
    "nbgrader": {
     "grade": true,
     "grade_id": "threshold4_h",
     "locked": true,
     "points": "20",
     "schema_version": 1,
     "solution": false
    },
    "scrolled": true
   },
   "outputs": [],
   "source": [
    "#Hidden tests here\n",
    "#\n",
    "# AUTOGRADER TEST - DO NOT REMOVE\n",
    "#\n"
   ]
  },
  {
   "cell_type": "code",
   "execution_count": null,
   "metadata": {},
   "outputs": [],
   "source": []
  }
 ],
 "metadata": {
  "celltoolbar": "Edit Metadata",
  "kernelspec": {
   "display_name": "Python 3",
   "language": "python",
   "name": "python3"
  },
  "language_info": {
   "codemirror_mode": {
    "name": "ipython",
    "version": 3
   },
   "file_extension": ".py",
   "mimetype": "text/x-python",
   "name": "python",
   "nbconvert_exporter": "python",
   "pygments_lexer": "ipython3",
   "version": "3.7.5"
  },
  "toc": {
   "base_numbering": 1,
   "nav_menu": [],
   "number_sections": true,
   "sideBar": true,
   "skip_h1_title": false,
   "title_cell": "Table of Contents",
   "title_sidebar": "Contents",
   "toc_cell": false,
   "toc_position": [],
   "toc_section_display": true,
   "toc_window_display": true
  },
  "varInspector": {
   "cols": {
    "lenName": 16,
    "lenType": 16,
    "lenVar": 40
   },
   "kernels_config": {
    "python": {
     "delete_cmd_postfix": "",
     "delete_cmd_prefix": "del ",
     "library": "var_list.py",
     "varRefreshCmd": "print(var_dic_list())"
    },
    "r": {
     "delete_cmd_postfix": ") ",
     "delete_cmd_prefix": "rm(",
     "library": "var_list.r",
     "varRefreshCmd": "cat(var_dic_list()) "
    }
   },
   "types_to_exclude": [
    "module",
    "function",
    "builtin_function_or_method",
    "instance",
    "_Feature"
   ],
   "window_display": false
  }
 },
 "nbformat": 4,
 "nbformat_minor": 4
}
