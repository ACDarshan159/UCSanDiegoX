{
 "cells": [
  {
   "cell_type": "code",
   "execution_count": 1,
   "metadata": {
    "collapsed": true,
    "slideshow": {
     "slide_type": "skip"
    }
   },
   "outputs": [],
   "source": [
    "import os\n",
    "\n",
    "os.environ[\"PYSPARK_PYTHON\"]=\"/usr/bin/python3\"\n",
    "os.environ[\"PYSPARK_DRIVER_PYTHON\"] = \"/usr/bin/python3\""
   ]
  },
  {
   "cell_type": "markdown",
   "metadata": {
    "slideshow": {
     "slide_type": "slide"
    }
   },
   "source": [
    "## Analyze whether early or late snow changes more year to year or place to place.\n",
    "\n",
    "* We know from previous notebooks that the value of `coef_2` corresponds to whether the snow season is early or late. \n",
    "* We want to study whether early/late season is more dependent on the year or on the location.\n",
    "* We will use RMS Error to quantify the strength of these dependencies."
   ]
  },
  {
   "cell_type": "code",
   "execution_count": 2,
   "metadata": {
    "ExecuteTime": {
     "end_time": "2018-04-26T15:38:54.494789Z",
     "start_time": "2018-04-26T15:38:54.082547Z"
    },
    "collapsed": true,
    "slideshow": {
     "slide_type": "skip"
    }
   },
   "outputs": [],
   "source": [
    "import pandas as pd\n",
    "import numpy as np\n",
    "import urllib\n",
    "import math"
   ]
  },
  {
   "cell_type": "code",
   "execution_count": 3,
   "metadata": {
    "ExecuteTime": {
     "end_time": "2018-04-26T15:38:59.301231Z",
     "start_time": "2018-04-26T15:38:56.680609Z"
    },
    "collapsed": true,
    "slideshow": {
     "slide_type": "skip"
    }
   },
   "outputs": [],
   "source": [
    "from pyspark import SparkContext\n",
    "#sc.stop()\n",
    "sc = SparkContext(master=\"local[3]\",pyFiles=['lib/numpy_pack.py','lib/spark_PCA.py','lib/computeStatistics.py'])\n",
    "\n",
    "from pyspark import SparkContext\n",
    "from pyspark.sql import *\n",
    "sqlContext = SQLContext(sc)"
   ]
  },
  {
   "cell_type": "code",
   "execution_count": 4,
   "metadata": {
    "ExecuteTime": {
     "end_time": "2018-04-26T15:39:00.212243Z",
     "start_time": "2018-04-26T15:39:00.028202Z"
    },
    "slideshow": {
     "slide_type": "skip"
    }
   },
   "outputs": [
    {
     "name": "stdout",
     "output_type": "stream",
     "text": [
      "Populating the interactive namespace from numpy and matplotlib\n"
     ]
    }
   ],
   "source": [
    "%pylab inline\n",
    "import numpy as np\n",
    "from lib.numpy_pack import packArray,unpackArray\n",
    "from lib.spark_PCA import computeCov\n",
    "from lib.computeStatistics import *"
   ]
  },
  {
   "cell_type": "code",
   "execution_count": 5,
   "metadata": {
    "ExecuteTime": {
     "end_time": "2018-04-26T15:39:01.303639Z",
     "start_time": "2018-04-26T15:39:01.217000Z"
    },
    "slideshow": {
     "slide_type": "skip"
    }
   },
   "outputs": [
    {
     "name": "stdout",
     "output_type": "stream",
     "text": [
      "keys from STAT= dict_keys(['SNOW_s20', 'TMIN_s20', 'TOBS', 'SNWD_s20', 'PRCP_s20', 'TOBS_s20', 'PRCP', 'TMAX', 'TMAX_s20', 'TMIN', 'SNOW', 'SNWD'])\n"
     ]
    }
   ],
   "source": [
    "### Read the data frame from pickle file\n",
    "\n",
    "data_dir='./Data/Weather'\n",
    "state='WA'\n",
    "meas='PRCP_s20'\n",
    "\n",
    "from pickle import load\n",
    "\n",
    "#read statistics\n",
    "filename=data_dir+'/STAT_%s.pickle'%state\n",
    "STAT,STAT_Descriptions = load(open(filename,'rb'))\n",
    "print('keys from STAT=',STAT.keys())"
   ]
  },
  {
   "cell_type": "code",
   "execution_count": 6,
   "metadata": {
    "ExecuteTime": {
     "end_time": "2018-04-26T15:39:06.616421Z",
     "start_time": "2018-04-26T15:39:03.497687Z"
    },
    "slideshow": {
     "slide_type": "skip"
    }
   },
   "outputs": [
    {
     "name": "stdout",
     "output_type": "stream",
     "text": [
      "15972\n"
     ]
    }
   ],
   "source": [
    "#!ls -ld $data_dir/*.parquet\n",
    "\n",
    "#read data\n",
    "filename=data_dir+'/decon_%s_%s.parquet'%(state,meas)\n",
    "\n",
    "df=sqlContext.read.parquet(filename)\n",
    "print(df.count())\n"
   ]
  },
  {
   "cell_type": "code",
   "execution_count": 7,
   "metadata": {},
   "outputs": [
    {
     "data": {
      "text/html": [
       "<div>\n",
       "<style scoped>\n",
       "    .dataframe tbody tr th:only-of-type {\n",
       "        vertical-align: middle;\n",
       "    }\n",
       "\n",
       "    .dataframe tbody tr th {\n",
       "        vertical-align: top;\n",
       "    }\n",
       "\n",
       "    .dataframe thead th {\n",
       "        text-align: right;\n",
       "    }\n",
       "</style>\n",
       "<table border=\"1\" class=\"dataframe\">\n",
       "  <thead>\n",
       "    <tr style=\"text-align: right;\">\n",
       "      <th></th>\n",
       "      <th>Measurement</th>\n",
       "      <th>Station</th>\n",
       "      <th>Values</th>\n",
       "      <th>Year</th>\n",
       "      <th>coeff_1</th>\n",
       "      <th>coeff_2</th>\n",
       "      <th>coeff_3</th>\n",
       "      <th>coeff_4</th>\n",
       "      <th>coeff_5</th>\n",
       "      <th>dist_coast</th>\n",
       "      <th>...</th>\n",
       "      <th>latitude</th>\n",
       "      <th>longitude</th>\n",
       "      <th>name</th>\n",
       "      <th>res_1</th>\n",
       "      <th>res_2</th>\n",
       "      <th>res_3</th>\n",
       "      <th>res_4</th>\n",
       "      <th>res_5</th>\n",
       "      <th>res_mean</th>\n",
       "      <th>total_var</th>\n",
       "    </tr>\n",
       "  </thead>\n",
       "  <tbody>\n",
       "    <tr>\n",
       "      <th>0</th>\n",
       "      <td>PRCP_s20</td>\n",
       "      <td>USC00457015</td>\n",
       "      <td>[0, 0, 0, 0, 0, 0, 0, 0, 0, 0, 0, 0, 0, 0, 0, ...</td>\n",
       "      <td>1944</td>\n",
       "      <td>-472.672997</td>\n",
       "      <td>44.395188</td>\n",
       "      <td>34.912083</td>\n",
       "      <td>88.641112</td>\n",
       "      <td>-96.508128</td>\n",
       "      <td>261.138</td>\n",
       "      <td>...</td>\n",
       "      <td>46.311901</td>\n",
       "      <td>-119.263298</td>\n",
       "      <td>RICHLAND</td>\n",
       "      <td>0.022869</td>\n",
       "      <td>0.033032</td>\n",
       "      <td>0.038433</td>\n",
       "      <td>0.046202</td>\n",
       "      <td>0.038586</td>\n",
       "      <td>46.287226</td>\n",
       "      <td>5610.045224</td>\n",
       "    </tr>\n",
       "  </tbody>\n",
       "</table>\n",
       "<p>1 rows × 21 columns</p>\n",
       "</div>"
      ],
      "text/plain": [
       "  Measurement      Station                                             Values  \\\n",
       "0    PRCP_s20  USC00457015  [0, 0, 0, 0, 0, 0, 0, 0, 0, 0, 0, 0, 0, 0, 0, ...   \n",
       "\n",
       "   Year     coeff_1    coeff_2    coeff_3    coeff_4    coeff_5  dist_coast  \\\n",
       "0  1944 -472.672997  44.395188  34.912083  88.641112 -96.508128     261.138   \n",
       "\n",
       "      ...        latitude   longitude      name     res_1     res_2     res_3  \\\n",
       "0     ...       46.311901 -119.263298  RICHLAND  0.022869  0.033032  0.038433   \n",
       "\n",
       "      res_4     res_5   res_mean    total_var  \n",
       "0  0.046202  0.038586  46.287226  5610.045224  \n",
       "\n",
       "[1 rows x 21 columns]"
      ]
     },
     "execution_count": 7,
     "metadata": {},
     "output_type": "execute_result"
    }
   ],
   "source": [
    "df.toPandas().head(1)"
   ]
  },
  {
   "cell_type": "code",
   "execution_count": 8,
   "metadata": {
    "ExecuteTime": {
     "end_time": "2018-04-26T15:39:07.451903Z",
     "start_time": "2018-04-26T15:39:06.618892Z"
    },
    "slideshow": {
     "slide_type": "subslide"
    }
   },
   "outputs": [
    {
     "data": {
      "text/html": [
       "<div>\n",
       "<style scoped>\n",
       "    .dataframe tbody tr th:only-of-type {\n",
       "        vertical-align: middle;\n",
       "    }\n",
       "\n",
       "    .dataframe tbody tr th {\n",
       "        vertical-align: top;\n",
       "    }\n",
       "\n",
       "    .dataframe thead th {\n",
       "        text-align: right;\n",
       "    }\n",
       "</style>\n",
       "<table border=\"1\" class=\"dataframe\">\n",
       "  <thead>\n",
       "    <tr style=\"text-align: right;\">\n",
       "      <th></th>\n",
       "      <th>Measurement</th>\n",
       "      <th>Station</th>\n",
       "      <th>Values</th>\n",
       "      <th>Year</th>\n",
       "      <th>coeff_1</th>\n",
       "      <th>coeff_2</th>\n",
       "      <th>coeff_3</th>\n",
       "      <th>coeff_4</th>\n",
       "      <th>coeff_5</th>\n",
       "      <th>dist_coast</th>\n",
       "      <th>...</th>\n",
       "      <th>latitude</th>\n",
       "      <th>longitude</th>\n",
       "      <th>name</th>\n",
       "      <th>res_1</th>\n",
       "      <th>res_2</th>\n",
       "      <th>res_3</th>\n",
       "      <th>res_4</th>\n",
       "      <th>res_5</th>\n",
       "      <th>res_mean</th>\n",
       "      <th>total_var</th>\n",
       "    </tr>\n",
       "  </thead>\n",
       "  <tbody>\n",
       "    <tr>\n",
       "      <th>0</th>\n",
       "      <td>PRCP_s20</td>\n",
       "      <td>USC00457538</td>\n",
       "      <td>[0, 0, 0, 0, 0, 0, 0, 0, 0, 0, 0, 0, 0, 0, 0, ...</td>\n",
       "      <td>1916</td>\n",
       "      <td>-373.613365</td>\n",
       "      <td>-21.070765</td>\n",
       "      <td>59.481859</td>\n",
       "      <td>130.075291</td>\n",
       "      <td>-80.90724</td>\n",
       "      <td>3.03605</td>\n",
       "      <td>...</td>\n",
       "      <td>48.083302</td>\n",
       "      <td>-123.099998</td>\n",
       "      <td>SEQUIM</td>\n",
       "      <td>0.080703</td>\n",
       "      <td>0.066778</td>\n",
       "      <td>0.075948</td>\n",
       "      <td>0.050592</td>\n",
       "      <td>0.035964</td>\n",
       "      <td>4.737389</td>\n",
       "      <td>37070.496677</td>\n",
       "    </tr>\n",
       "  </tbody>\n",
       "</table>\n",
       "<p>1 rows × 21 columns</p>\n",
       "</div>"
      ],
      "text/plain": [
       "  Measurement      Station                                             Values  \\\n",
       "0    PRCP_s20  USC00457538  [0, 0, 0, 0, 0, 0, 0, 0, 0, 0, 0, 0, 0, 0, 0, ...   \n",
       "\n",
       "   Year     coeff_1    coeff_2    coeff_3     coeff_4   coeff_5  dist_coast  \\\n",
       "0  1916 -373.613365 -21.070765  59.481859  130.075291 -80.90724     3.03605   \n",
       "\n",
       "       ...        latitude   longitude    name     res_1     res_2     res_3  \\\n",
       "0      ...       48.083302 -123.099998  SEQUIM  0.080703  0.066778  0.075948   \n",
       "\n",
       "      res_4     res_5  res_mean     total_var  \n",
       "0  0.050592  0.035964  4.737389  37070.496677  \n",
       "\n",
       "[1 rows x 21 columns]"
      ]
     },
     "execution_count": 8,
     "metadata": {},
     "output_type": "execute_result"
    }
   ],
   "source": [
    "tmp=df.filter(df.Station=='USC00457538').toPandas()\n",
    "tmp.head(1)"
   ]
  },
  {
   "cell_type": "code",
   "execution_count": 9,
   "metadata": {
    "ExecuteTime": {
     "end_time": "2018-04-26T15:39:07.887180Z",
     "start_time": "2018-04-26T15:39:07.457319Z"
    },
    "scrolled": true,
    "slideshow": {
     "slide_type": "subslide"
    }
   },
   "outputs": [
    {
     "name": "stdout",
     "output_type": "stream",
     "text": [
      "SELECT station, year, coeff_2 FROM weather\n"
     ]
    },
    {
     "data": {
      "text/html": [
       "<div>\n",
       "<style scoped>\n",
       "    .dataframe tbody tr th:only-of-type {\n",
       "        vertical-align: middle;\n",
       "    }\n",
       "\n",
       "    .dataframe tbody tr th {\n",
       "        vertical-align: top;\n",
       "    }\n",
       "\n",
       "    .dataframe thead th {\n",
       "        text-align: right;\n",
       "    }\n",
       "</style>\n",
       "<table border=\"1\" class=\"dataframe\">\n",
       "  <thead>\n",
       "    <tr style=\"text-align: right;\">\n",
       "      <th></th>\n",
       "      <th>station</th>\n",
       "      <th>year</th>\n",
       "      <th>coeff_2</th>\n",
       "    </tr>\n",
       "  </thead>\n",
       "  <tbody>\n",
       "    <tr>\n",
       "      <th>0</th>\n",
       "      <td>USC00457015</td>\n",
       "      <td>1944</td>\n",
       "      <td>44.395188</td>\n",
       "    </tr>\n",
       "    <tr>\n",
       "      <th>1</th>\n",
       "      <td>USC00457015</td>\n",
       "      <td>1945</td>\n",
       "      <td>20.058190</td>\n",
       "    </tr>\n",
       "    <tr>\n",
       "      <th>2</th>\n",
       "      <td>USC00457015</td>\n",
       "      <td>1946</td>\n",
       "      <td>31.412405</td>\n",
       "    </tr>\n",
       "    <tr>\n",
       "      <th>3</th>\n",
       "      <td>USC00457015</td>\n",
       "      <td>1947</td>\n",
       "      <td>-36.317653</td>\n",
       "    </tr>\n",
       "    <tr>\n",
       "      <th>4</th>\n",
       "      <td>USC00457015</td>\n",
       "      <td>1948</td>\n",
       "      <td>57.979273</td>\n",
       "    </tr>\n",
       "  </tbody>\n",
       "</table>\n",
       "</div>"
      ],
      "text/plain": [
       "       station  year    coeff_2\n",
       "0  USC00457015  1944  44.395188\n",
       "1  USC00457015  1945  20.058190\n",
       "2  USC00457015  1946  31.412405\n",
       "3  USC00457015  1947 -36.317653\n",
       "4  USC00457015  1948  57.979273"
      ]
     },
     "execution_count": 9,
     "metadata": {},
     "output_type": "execute_result"
    }
   ],
   "source": [
    "#extract longitude and latitude for each station\n",
    "feature='coeff_2'\n",
    "sqlContext.registerDataFrameAsTable(df,'weather')\n",
    "Features='station, year, coeff_2'\n",
    "Query=\"SELECT %s FROM weather\"%Features\n",
    "print(Query)\n",
    "pdf = sqlContext.sql(Query).toPandas()\n",
    "pdf.head()"
   ]
  },
  {
   "cell_type": "code",
   "execution_count": 10,
   "metadata": {
    "ExecuteTime": {
     "end_time": "2018-04-26T15:39:08.902260Z",
     "start_time": "2018-04-26T15:39:08.870053Z"
    },
    "slideshow": {
     "slide_type": "subslide"
    }
   },
   "outputs": [
    {
     "data": {
      "text/html": [
       "<div>\n",
       "<style scoped>\n",
       "    .dataframe tbody tr th:only-of-type {\n",
       "        vertical-align: middle;\n",
       "    }\n",
       "\n",
       "    .dataframe tbody tr th {\n",
       "        vertical-align: top;\n",
       "    }\n",
       "\n",
       "    .dataframe thead th {\n",
       "        text-align: right;\n",
       "    }\n",
       "</style>\n",
       "<table border=\"1\" class=\"dataframe\">\n",
       "  <thead>\n",
       "    <tr style=\"text-align: right;\">\n",
       "      <th>station</th>\n",
       "      <th>USC00450008</th>\n",
       "      <th>USC00450013</th>\n",
       "      <th>USC00450094</th>\n",
       "      <th>USC00450158</th>\n",
       "      <th>USC00450176</th>\n",
       "      <th>USC00450184</th>\n",
       "      <th>USC00450217</th>\n",
       "      <th>USC00450257</th>\n",
       "      <th>USC00450456</th>\n",
       "      <th>USC00450482</th>\n",
       "      <th>...</th>\n",
       "      <th>USW00024244</th>\n",
       "      <th>USW00024255</th>\n",
       "      <th>USW00024281</th>\n",
       "      <th>USW00094103</th>\n",
       "      <th>USW00094197</th>\n",
       "      <th>USW00094225</th>\n",
       "      <th>USW00094227</th>\n",
       "      <th>USW00094239</th>\n",
       "      <th>USW00094240</th>\n",
       "      <th>USW00094290</th>\n",
       "    </tr>\n",
       "    <tr>\n",
       "      <th>year</th>\n",
       "      <th></th>\n",
       "      <th></th>\n",
       "      <th></th>\n",
       "      <th></th>\n",
       "      <th></th>\n",
       "      <th></th>\n",
       "      <th></th>\n",
       "      <th></th>\n",
       "      <th></th>\n",
       "      <th></th>\n",
       "      <th></th>\n",
       "      <th></th>\n",
       "      <th></th>\n",
       "      <th></th>\n",
       "      <th></th>\n",
       "      <th></th>\n",
       "      <th></th>\n",
       "      <th></th>\n",
       "      <th></th>\n",
       "      <th></th>\n",
       "      <th></th>\n",
       "    </tr>\n",
       "  </thead>\n",
       "  <tbody>\n",
       "    <tr>\n",
       "      <th>2009</th>\n",
       "      <td>-262.966774</td>\n",
       "      <td>NaN</td>\n",
       "      <td>NaN</td>\n",
       "      <td>NaN</td>\n",
       "      <td>-98.483033</td>\n",
       "      <td>NaN</td>\n",
       "      <td>-65.775733</td>\n",
       "      <td>-88.173272</td>\n",
       "      <td>-159.312380</td>\n",
       "      <td>-67.913973</td>\n",
       "      <td>...</td>\n",
       "      <td>NaN</td>\n",
       "      <td>-9.554030</td>\n",
       "      <td>NaN</td>\n",
       "      <td>NaN</td>\n",
       "      <td>-20.372479</td>\n",
       "      <td>-237.975710</td>\n",
       "      <td>-213.643980</td>\n",
       "      <td>10.837175</td>\n",
       "      <td>-440.161400</td>\n",
       "      <td>-112.095554</td>\n",
       "    </tr>\n",
       "    <tr>\n",
       "      <th>2010</th>\n",
       "      <td>-134.685734</td>\n",
       "      <td>NaN</td>\n",
       "      <td>NaN</td>\n",
       "      <td>NaN</td>\n",
       "      <td>-97.027176</td>\n",
       "      <td>NaN</td>\n",
       "      <td>269.101428</td>\n",
       "      <td>-77.072960</td>\n",
       "      <td>-382.706305</td>\n",
       "      <td>-112.922240</td>\n",
       "      <td>...</td>\n",
       "      <td>NaN</td>\n",
       "      <td>-32.145490</td>\n",
       "      <td>NaN</td>\n",
       "      <td>NaN</td>\n",
       "      <td>61.272779</td>\n",
       "      <td>-81.946805</td>\n",
       "      <td>-102.743661</td>\n",
       "      <td>5.492696</td>\n",
       "      <td>-104.067155</td>\n",
       "      <td>-77.793182</td>\n",
       "    </tr>\n",
       "    <tr>\n",
       "      <th>2011</th>\n",
       "      <td>275.984982</td>\n",
       "      <td>NaN</td>\n",
       "      <td>NaN</td>\n",
       "      <td>NaN</td>\n",
       "      <td>114.628919</td>\n",
       "      <td>NaN</td>\n",
       "      <td>NaN</td>\n",
       "      <td>156.070765</td>\n",
       "      <td>242.958390</td>\n",
       "      <td>134.755807</td>\n",
       "      <td>...</td>\n",
       "      <td>NaN</td>\n",
       "      <td>62.122944</td>\n",
       "      <td>NaN</td>\n",
       "      <td>NaN</td>\n",
       "      <td>36.674867</td>\n",
       "      <td>234.883303</td>\n",
       "      <td>4.754243</td>\n",
       "      <td>39.998595</td>\n",
       "      <td>245.338372</td>\n",
       "      <td>91.871640</td>\n",
       "    </tr>\n",
       "    <tr>\n",
       "      <th>2012</th>\n",
       "      <td>-245.088130</td>\n",
       "      <td>NaN</td>\n",
       "      <td>NaN</td>\n",
       "      <td>NaN</td>\n",
       "      <td>57.611072</td>\n",
       "      <td>NaN</td>\n",
       "      <td>NaN</td>\n",
       "      <td>-92.668876</td>\n",
       "      <td>-54.614701</td>\n",
       "      <td>8.942175</td>\n",
       "      <td>...</td>\n",
       "      <td>NaN</td>\n",
       "      <td>3.261617</td>\n",
       "      <td>NaN</td>\n",
       "      <td>NaN</td>\n",
       "      <td>-29.308119</td>\n",
       "      <td>-218.376002</td>\n",
       "      <td>-172.379279</td>\n",
       "      <td>-2.558291</td>\n",
       "      <td>9.599859</td>\n",
       "      <td>-138.189794</td>\n",
       "    </tr>\n",
       "    <tr>\n",
       "      <th>2013</th>\n",
       "      <td>564.490641</td>\n",
       "      <td>NaN</td>\n",
       "      <td>NaN</td>\n",
       "      <td>NaN</td>\n",
       "      <td>NaN</td>\n",
       "      <td>NaN</td>\n",
       "      <td>NaN</td>\n",
       "      <td>576.400197</td>\n",
       "      <td>345.484464</td>\n",
       "      <td>49.144106</td>\n",
       "      <td>...</td>\n",
       "      <td>NaN</td>\n",
       "      <td>99.937858</td>\n",
       "      <td>NaN</td>\n",
       "      <td>NaN</td>\n",
       "      <td>89.579481</td>\n",
       "      <td>589.370257</td>\n",
       "      <td>420.255159</td>\n",
       "      <td>48.857641</td>\n",
       "      <td>770.581736</td>\n",
       "      <td>248.821581</td>\n",
       "    </tr>\n",
       "  </tbody>\n",
       "</table>\n",
       "<p>5 rows × 290 columns</p>\n",
       "</div>"
      ],
      "text/plain": [
       "station  USC00450008  USC00450013  USC00450094  USC00450158  USC00450176  \\\n",
       "year                                                                       \n",
       "2009     -262.966774          NaN          NaN          NaN   -98.483033   \n",
       "2010     -134.685734          NaN          NaN          NaN   -97.027176   \n",
       "2011      275.984982          NaN          NaN          NaN   114.628919   \n",
       "2012     -245.088130          NaN          NaN          NaN    57.611072   \n",
       "2013      564.490641          NaN          NaN          NaN          NaN   \n",
       "\n",
       "station  USC00450184  USC00450217  USC00450257  USC00450456  USC00450482  \\\n",
       "year                                                                       \n",
       "2009             NaN   -65.775733   -88.173272  -159.312380   -67.913973   \n",
       "2010             NaN   269.101428   -77.072960  -382.706305  -112.922240   \n",
       "2011             NaN          NaN   156.070765   242.958390   134.755807   \n",
       "2012             NaN          NaN   -92.668876   -54.614701     8.942175   \n",
       "2013             NaN          NaN   576.400197   345.484464    49.144106   \n",
       "\n",
       "station     ...       USW00024244  USW00024255  USW00024281  USW00094103  \\\n",
       "year        ...                                                            \n",
       "2009        ...               NaN    -9.554030          NaN          NaN   \n",
       "2010        ...               NaN   -32.145490          NaN          NaN   \n",
       "2011        ...               NaN    62.122944          NaN          NaN   \n",
       "2012        ...               NaN     3.261617          NaN          NaN   \n",
       "2013        ...               NaN    99.937858          NaN          NaN   \n",
       "\n",
       "station  USW00094197  USW00094225  USW00094227  USW00094239  USW00094240  \\\n",
       "year                                                                       \n",
       "2009      -20.372479  -237.975710  -213.643980    10.837175  -440.161400   \n",
       "2010       61.272779   -81.946805  -102.743661     5.492696  -104.067155   \n",
       "2011       36.674867   234.883303     4.754243    39.998595   245.338372   \n",
       "2012      -29.308119  -218.376002  -172.379279    -2.558291     9.599859   \n",
       "2013       89.579481   589.370257   420.255159    48.857641   770.581736   \n",
       "\n",
       "station  USW00094290  \n",
       "year                  \n",
       "2009     -112.095554  \n",
       "2010      -77.793182  \n",
       "2011       91.871640  \n",
       "2012     -138.189794  \n",
       "2013      248.821581  \n",
       "\n",
       "[5 rows x 290 columns]"
      ]
     },
     "execution_count": 10,
     "metadata": {},
     "output_type": "execute_result"
    }
   ],
   "source": [
    "year_station_table=pdf.pivot(index='year', columns='station', values='coeff_2')\n",
    "year_station_table.tail(5)"
   ]
  },
  {
   "cell_type": "code",
   "execution_count": 11,
   "metadata": {
    "ExecuteTime": {
     "end_time": "2018-04-26T15:39:11.652326Z",
     "start_time": "2018-04-26T15:39:11.394276Z"
    },
    "scrolled": true,
    "slideshow": {
     "slide_type": "subslide"
    }
   },
   "outputs": [
    {
     "data": {
      "text/plain": [
       "Text(0,0.5,'Number of stations')"
      ]
     },
     "execution_count": 11,
     "metadata": {},
     "output_type": "execute_result"
    },
    {
     "data": {
      "image/png": "[encoded data removed]",
      "text/plain": [
       "<Figure size 432x288 with 1 Axes>"
      ]
     },
     "metadata": {},
     "output_type": "display_data"
    }
   ],
   "source": [
    "station_nulls=pd.isnull(year_station_table).mean()\n",
    "station_nulls.hist();\n",
    "xlabel('Fraction of years that are undefined')\n",
    "ylabel('Number of stations')"
   ]
  },
  {
   "cell_type": "code",
   "execution_count": 12,
   "metadata": {
    "ExecuteTime": {
     "end_time": "2018-04-26T15:39:12.734152Z",
     "start_time": "2018-04-26T15:39:12.606589Z"
    },
    "scrolled": true,
    "slideshow": {
     "slide_type": "subslide"
    }
   },
   "outputs": [
    {
     "data": {
      "text/plain": [
       "Text(0,0.5,'fraction of stations that are undefined')"
      ]
     },
     "execution_count": 12,
     "metadata": {},
     "output_type": "execute_result"
    },
    {
     "data": {
      "image/png": "[encoded data removed]",
      "text/plain": [
       "<Figure size 432x288 with 1 Axes>"
      ]
     },
     "metadata": {},
     "output_type": "display_data"
    }
   ],
   "source": [
    "year_nulls=pd.isnull(year_station_table).mean(axis=1)\n",
    "year_nulls.plot();\n",
    "grid()\n",
    "ylabel('fraction of stations that are undefined')"
   ]
  },
  {
   "cell_type": "code",
   "execution_count": 13,
   "metadata": {
    "ExecuteTime": {
     "end_time": "2018-04-26T15:39:13.462452Z",
     "start_time": "2018-04-26T15:39:13.435062Z"
    },
    "slideshow": {
     "slide_type": "subslide"
    }
   },
   "outputs": [
    {
     "data": {
      "text/html": [
       "<div>\n",
       "<style scoped>\n",
       "    .dataframe tbody tr th:only-of-type {\n",
       "        vertical-align: middle;\n",
       "    }\n",
       "\n",
       "    .dataframe tbody tr th {\n",
       "        vertical-align: top;\n",
       "    }\n",
       "\n",
       "    .dataframe thead th {\n",
       "        text-align: right;\n",
       "    }\n",
       "</style>\n",
       "<table border=\"1\" class=\"dataframe\">\n",
       "  <thead>\n",
       "    <tr style=\"text-align: right;\">\n",
       "      <th>station</th>\n",
       "      <th>USC00450008</th>\n",
       "      <th>USC00450013</th>\n",
       "      <th>USC00450158</th>\n",
       "      <th>USC00450176</th>\n",
       "      <th>USC00450184</th>\n",
       "      <th>USC00450217</th>\n",
       "      <th>USC00450257</th>\n",
       "      <th>USC00450456</th>\n",
       "      <th>USC00450482</th>\n",
       "      <th>USC00450564</th>\n",
       "      <th>...</th>\n",
       "      <th>USW00024244</th>\n",
       "      <th>USW00024255</th>\n",
       "      <th>USW00024281</th>\n",
       "      <th>USW00094103</th>\n",
       "      <th>USW00094197</th>\n",
       "      <th>USW00094225</th>\n",
       "      <th>USW00094227</th>\n",
       "      <th>USW00094239</th>\n",
       "      <th>USW00094240</th>\n",
       "      <th>USW00094290</th>\n",
       "    </tr>\n",
       "    <tr>\n",
       "      <th>year</th>\n",
       "      <th></th>\n",
       "      <th></th>\n",
       "      <th></th>\n",
       "      <th></th>\n",
       "      <th></th>\n",
       "      <th></th>\n",
       "      <th></th>\n",
       "      <th></th>\n",
       "      <th></th>\n",
       "      <th></th>\n",
       "      <th></th>\n",
       "      <th></th>\n",
       "      <th></th>\n",
       "      <th></th>\n",
       "      <th></th>\n",
       "      <th></th>\n",
       "      <th></th>\n",
       "      <th></th>\n",
       "      <th></th>\n",
       "      <th></th>\n",
       "      <th></th>\n",
       "    </tr>\n",
       "  </thead>\n",
       "  <tbody>\n",
       "    <tr>\n",
       "      <th>1961</th>\n",
       "      <td>302.695624</td>\n",
       "      <td>622.164724</td>\n",
       "      <td>510.692761</td>\n",
       "      <td>59.645145</td>\n",
       "      <td>1.334196</td>\n",
       "      <td>161.279615</td>\n",
       "      <td>21.069844</td>\n",
       "      <td>NaN</td>\n",
       "      <td>69.084013</td>\n",
       "      <td>81.666183</td>\n",
       "      <td>...</td>\n",
       "      <td>90.780094</td>\n",
       "      <td>43.645444</td>\n",
       "      <td>122.451670</td>\n",
       "      <td>26.587797</td>\n",
       "      <td>53.052166</td>\n",
       "      <td>295.077261</td>\n",
       "      <td>NaN</td>\n",
       "      <td>42.070492</td>\n",
       "      <td>NaN</td>\n",
       "      <td>NaN</td>\n",
       "    </tr>\n",
       "    <tr>\n",
       "      <th>1962</th>\n",
       "      <td>-182.874445</td>\n",
       "      <td>-350.724255</td>\n",
       "      <td>-392.757965</td>\n",
       "      <td>-27.469732</td>\n",
       "      <td>-18.462516</td>\n",
       "      <td>19.006032</td>\n",
       "      <td>-54.894552</td>\n",
       "      <td>NaN</td>\n",
       "      <td>-80.996092</td>\n",
       "      <td>-29.748241</td>\n",
       "      <td>...</td>\n",
       "      <td>-32.193355</td>\n",
       "      <td>-24.301551</td>\n",
       "      <td>-68.633452</td>\n",
       "      <td>-25.433868</td>\n",
       "      <td>-9.117154</td>\n",
       "      <td>-203.500764</td>\n",
       "      <td>NaN</td>\n",
       "      <td>22.964156</td>\n",
       "      <td>NaN</td>\n",
       "      <td>NaN</td>\n",
       "    </tr>\n",
       "    <tr>\n",
       "      <th>1963</th>\n",
       "      <td>-270.193483</td>\n",
       "      <td>-418.396648</td>\n",
       "      <td>640.557011</td>\n",
       "      <td>-111.593631</td>\n",
       "      <td>3.785388</td>\n",
       "      <td>-62.294417</td>\n",
       "      <td>-129.805470</td>\n",
       "      <td>NaN</td>\n",
       "      <td>-50.083578</td>\n",
       "      <td>-167.377459</td>\n",
       "      <td>...</td>\n",
       "      <td>-119.867163</td>\n",
       "      <td>-45.429626</td>\n",
       "      <td>-115.347838</td>\n",
       "      <td>-10.663588</td>\n",
       "      <td>-18.739270</td>\n",
       "      <td>-257.582292</td>\n",
       "      <td>NaN</td>\n",
       "      <td>3.894875</td>\n",
       "      <td>NaN</td>\n",
       "      <td>NaN</td>\n",
       "    </tr>\n",
       "    <tr>\n",
       "      <th>1964</th>\n",
       "      <td>76.036191</td>\n",
       "      <td>155.339615</td>\n",
       "      <td>NaN</td>\n",
       "      <td>7.841242</td>\n",
       "      <td>-80.731761</td>\n",
       "      <td>-132.734758</td>\n",
       "      <td>43.063337</td>\n",
       "      <td>NaN</td>\n",
       "      <td>-25.691848</td>\n",
       "      <td>18.153791</td>\n",
       "      <td>...</td>\n",
       "      <td>-9.632794</td>\n",
       "      <td>7.457926</td>\n",
       "      <td>-13.807798</td>\n",
       "      <td>-106.244720</td>\n",
       "      <td>15.553601</td>\n",
       "      <td>11.078747</td>\n",
       "      <td>NaN</td>\n",
       "      <td>-11.833189</td>\n",
       "      <td>NaN</td>\n",
       "      <td>NaN</td>\n",
       "    </tr>\n",
       "    <tr>\n",
       "      <th>1965</th>\n",
       "      <td>152.838923</td>\n",
       "      <td>-84.271300</td>\n",
       "      <td>NaN</td>\n",
       "      <td>93.478460</td>\n",
       "      <td>103.915170</td>\n",
       "      <td>47.245984</td>\n",
       "      <td>127.392231</td>\n",
       "      <td>NaN</td>\n",
       "      <td>28.899232</td>\n",
       "      <td>98.104508</td>\n",
       "      <td>...</td>\n",
       "      <td>3.672148</td>\n",
       "      <td>76.837824</td>\n",
       "      <td>-18.112202</td>\n",
       "      <td>53.300656</td>\n",
       "      <td>7.105666</td>\n",
       "      <td>89.571820</td>\n",
       "      <td>NaN</td>\n",
       "      <td>-9.207382</td>\n",
       "      <td>NaN</td>\n",
       "      <td>NaN</td>\n",
       "    </tr>\n",
       "  </tbody>\n",
       "</table>\n",
       "<p>5 rows × 250 columns</p>\n",
       "</div>"
      ],
      "text/plain": [
       "station  USC00450008  USC00450013  USC00450158  USC00450176  USC00450184  \\\n",
       "year                                                                       \n",
       "1961      302.695624   622.164724   510.692761    59.645145     1.334196   \n",
       "1962     -182.874445  -350.724255  -392.757965   -27.469732   -18.462516   \n",
       "1963     -270.193483  -418.396648   640.557011  -111.593631     3.785388   \n",
       "1964       76.036191   155.339615          NaN     7.841242   -80.731761   \n",
       "1965      152.838923   -84.271300          NaN    93.478460   103.915170   \n",
       "\n",
       "station  USC00450217  USC00450257  USC00450456  USC00450482  USC00450564  \\\n",
       "year                                                                       \n",
       "1961      161.279615    21.069844          NaN    69.084013    81.666183   \n",
       "1962       19.006032   -54.894552          NaN   -80.996092   -29.748241   \n",
       "1963      -62.294417  -129.805470          NaN   -50.083578  -167.377459   \n",
       "1964     -132.734758    43.063337          NaN   -25.691848    18.153791   \n",
       "1965       47.245984   127.392231          NaN    28.899232    98.104508   \n",
       "\n",
       "station     ...       USW00024244  USW00024255  USW00024281  USW00094103  \\\n",
       "year        ...                                                            \n",
       "1961        ...         90.780094    43.645444   122.451670    26.587797   \n",
       "1962        ...        -32.193355   -24.301551   -68.633452   -25.433868   \n",
       "1963        ...       -119.867163   -45.429626  -115.347838   -10.663588   \n",
       "1964        ...         -9.632794     7.457926   -13.807798  -106.244720   \n",
       "1965        ...          3.672148    76.837824   -18.112202    53.300656   \n",
       "\n",
       "station  USW00094197  USW00094225  USW00094227  USW00094239  USW00094240  \\\n",
       "year                                                                       \n",
       "1961       53.052166   295.077261          NaN    42.070492          NaN   \n",
       "1962       -9.117154  -203.500764          NaN    22.964156          NaN   \n",
       "1963      -18.739270  -257.582292          NaN     3.894875          NaN   \n",
       "1964       15.553601    11.078747          NaN   -11.833189          NaN   \n",
       "1965        7.105666    89.571820          NaN    -9.207382          NaN   \n",
       "\n",
       "station  USW00094290  \n",
       "year                  \n",
       "1961             NaN  \n",
       "1962             NaN  \n",
       "1963             NaN  \n",
       "1964             NaN  \n",
       "1965             NaN  \n",
       "\n",
       "[5 rows x 250 columns]"
      ]
     },
     "execution_count": 13,
     "metadata": {},
     "output_type": "execute_result"
    }
   ],
   "source": [
    "pdf2=pdf[pdf['year']>1960]\n",
    "year_station_table=pdf2.pivot(index='year', columns='station', values='coeff_2')\n",
    "year_station_table.head(5)"
   ]
  },
  {
   "cell_type": "code",
   "execution_count": 14,
   "metadata": {
    "ExecuteTime": {
     "end_time": "2018-04-26T15:39:14.354001Z",
     "start_time": "2018-04-26T15:39:14.215303Z"
    },
    "slideshow": {
     "slide_type": "subslide"
    }
   },
   "outputs": [
    {
     "data": {
      "text/plain": [
       "Text(0,0.5,'Number of stations')"
      ]
     },
     "execution_count": 14,
     "metadata": {},
     "output_type": "execute_result"
    },
    {
     "data": {
      "image/png": "[encoded data removed]",
      "text/plain": [
       "<Figure size 432x288 with 1 Axes>"
      ]
     },
     "metadata": {},
     "output_type": "display_data"
    }
   ],
   "source": [
    "station_nulls=pd.isnull(year_station_table).mean()\n",
    "station_nulls.hist();\n",
    "xlabel('Fraction of years that are undefined')\n",
    "ylabel('Number of stations')"
   ]
  },
  {
   "cell_type": "markdown",
   "metadata": {
    "slideshow": {
     "slide_type": "slide"
    }
   },
   "source": [
    "### Estimating the effect of the year vs the effect of the station\n",
    "\n",
    "To estimate the effect of time vs. location on the second eigenvector coefficient we\n",
    "compute:\n",
    "\n",
    "* The average row: `mean-by-station`\n",
    "* The average column: `mean-by-year`\n",
    "\n",
    "We then compute the RMS before and after subtracting either  the row or the column vector."
   ]
  },
  {
   "cell_type": "code",
   "execution_count": 15,
   "metadata": {
    "ExecuteTime": {
     "end_time": "2018-04-26T15:39:17.327951Z",
     "start_time": "2018-04-26T15:39:17.208983Z"
    },
    "hide_input": true,
    "slideshow": {
     "slide_type": "subslide"
    }
   },
   "outputs": [
    {
     "name": "stdout",
     "output_type": "stream",
     "text": [
      "total RMS                   =  193.97808938254104\n",
      "RMS removing mean-by-station=  192.5958016159168 reduction= 1.3822877666242448\n",
      "RMS removing mean-by-year   =  173.10511150753257 reduction= 20.872977875008473\n"
     ]
    }
   ],
   "source": [
    "def RMS(Mat):\n",
    "    return np.sqrt(np.nanmean(Mat**2))\n",
    "\n",
    "mean_by_year=np.nanmean(year_station_table,axis=1)\n",
    "mean_by_station=np.nanmean(year_station_table,axis=0)\n",
    "tbl_minus_year = (year_station_table.transpose()-mean_by_year).transpose()\n",
    "tbl_minus_station = year_station_table-mean_by_station\n",
    "\n",
    "print('total RMS                   = ',RMS(year_station_table))\n",
    "print('RMS removing mean-by-station= ',RMS(tbl_minus_station),'reduction=',RMS(year_station_table)-RMS(tbl_minus_station))\n",
    "print('RMS removing mean-by-year   = ',RMS(tbl_minus_year),'reduction=',RMS(year_station_table)-RMS(tbl_minus_year))"
   ]
  },
  {
   "cell_type": "markdown",
   "metadata": {
    "slideshow": {
     "slide_type": "subslide"
    }
   },
   "source": [
    "### Conclusion Of Analysis\n",
    "The effect of time is about four times as large as the effect of location."
   ]
  },
  {
   "cell_type": "markdown",
   "metadata": {
    "slideshow": {
     "slide_type": "slide"
    }
   },
   "source": [
    "### Iterative reduction\n",
    "* After removing one component, the other component can have an effect.\n",
    "* We can use **alternating minimization** to remove the combined effect of location and time."
   ]
  },
  {
   "cell_type": "code",
   "execution_count": 16,
   "metadata": {
    "ExecuteTime": {
     "end_time": "2018-04-26T15:39:21.340650Z",
     "start_time": "2018-04-26T15:39:21.311423Z"
    },
    "slideshow": {
     "slide_type": "subslide"
    }
   },
   "outputs": [
    {
     "name": "stdout",
     "output_type": "stream",
     "text": [
      "initial RMS= 193.97808938254104\n",
      "0 after removing mean by year    = 173.10511150753257\n",
      "0 after removing mean by stations= 171.59698732163318\n",
      "1 after removing mean by year    = 171.56551975699904\n",
      "1 after removing mean by stations= 171.55857652507788\n",
      "2 after removing mean by year    = 171.55693212145212\n",
      "2 after removing mean by stations= 171.55653687595105\n",
      "3 after removing mean by year    = 171.55644145174702\n",
      "3 after removing mean by stations= 171.5564183796892\n",
      "4 after removing mean by year    = 171.55641279842777\n",
      "4 after removing mean by stations= 171.55641144805017\n"
     ]
    }
   ],
   "source": [
    "T=year_station_table\n",
    "print('initial RMS=',RMS(T))\n",
    "for i in range(5):\n",
    "    mean_by_year=np.nanmean(T,axis=1)\n",
    "    T=(T.transpose()-mean_by_year).transpose()\n",
    "    print(i,'after removing mean by year    =',RMS(T))\n",
    "    mean_by_station=np.nanmean(T,axis=0)\n",
    "    T=T-mean_by_station\n",
    "    print(i,'after removing mean by stations=',RMS(T))"
   ]
  },
  {
   "cell_type": "code",
   "execution_count": 17,
   "metadata": {
    "ExecuteTime": {
     "end_time": "2018-04-26T15:39:21.878505Z",
     "start_time": "2018-04-26T15:39:21.871491Z"
    },
    "slideshow": {
     "slide_type": "skip"
    }
   },
   "outputs": [
    {
     "data": {
      "text/plain": [
       "year\n",
       "2004    0.045732\n",
       "2005    0.045268\n",
       "2006    0.046050\n",
       "2007    0.045643\n",
       "2008    0.048444\n",
       "2009    0.049160\n",
       "2010    0.050470\n",
       "2011    0.050486\n",
       "2012    0.050486\n",
       "2013    0.055137\n",
       "Name: mean_by_year, dtype: float64"
      ]
     },
     "execution_count": 17,
     "metadata": {},
     "output_type": "execute_result"
    }
   ],
   "source": [
    "T['mean_by_year']=mean_by_year\n",
    "T['mean_by_year'].tail(10)"
   ]
  },
  {
   "cell_type": "code",
   "execution_count": 18,
   "metadata": {
    "ExecuteTime": {
     "end_time": "2018-04-26T15:39:22.667895Z",
     "start_time": "2018-04-26T15:39:22.504332Z"
    },
    "slideshow": {
     "slide_type": "slide"
    }
   },
   "outputs": [
    {
     "data": {
      "image/png": "[encoded data removed]",
      "text/plain": [
       "<Figure size 720x432 with 1 Axes>"
      ]
     },
     "metadata": {},
     "output_type": "display_data"
    }
   ],
   "source": [
    "figure(figsize=(10,6))\n",
    "T['mean_by_year'].plot();\n",
    "grid()\n",
    "title(' ');"
   ]
  },
  {
   "cell_type": "markdown",
   "metadata": {
    "slideshow": {
     "slide_type": "slide"
    }
   },
   "source": [
    "## Summary\n",
    "* The problem of missing data is prevalent and needs to be addressed.\n",
    "* RMS can be used to quantify the effect of different factors (here, time vs. space)\n",
    "* The snow season in NY has been getting earlier and earlier since 1960."
   ]
  },
  {
   "cell_type": "code",
   "execution_count": null,
   "metadata": {
    "collapsed": true
   },
   "outputs": [],
   "source": []
  }
 ],
 "metadata": {
  "anaconda-cloud": {},
  "celltoolbar": "Slideshow",
  "hide_input": false,
  "kernelspec": {
   "display_name": "Python 3 [3.6]",
   "language": "python",
   "name": "python3"
  },
  "language_info": {
   "codemirror_mode": {
    "name": "ipython",
    "version": 3
   },
   "file_extension": ".py",
   "mimetype": "text/x-python",
   "name": "python",
   "nbconvert_exporter": "python",
   "pygments_lexer": "ipython3",
   "version": "3.6.4"
  },
  "toc": {
   "nav_menu": {
    "height": "174px",
    "width": "252px"
   },
   "number_sections": true,
   "sideBar": true,
   "skip_h1_title": false,
   "title_cell": "Table of Contents",
   "title_sidebar": "Contents",
   "toc_cell": false,
   "toc_position": {},
   "toc_section_display": "block",
   "toc_window_display": false
  },
  "widgets": {
   "state": {},
   "version": "1.0.0"
  }
 },
 "nbformat": 4,
 "nbformat_minor": 1
}
