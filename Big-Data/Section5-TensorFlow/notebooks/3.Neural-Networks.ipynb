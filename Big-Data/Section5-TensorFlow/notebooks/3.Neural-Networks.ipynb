{
 "cells": [
  {
   "cell_type": "markdown",
   "metadata": {
    "run_control": {
     "frozen": false,
     "read_only": false
    },
    "slideshow": {
     "slide_type": "slide"
    },
    "tags": [
     "Lecture",
     "Self-study"
    ]
   },
   "source": [
    "# Neural Networks\n",
    "\n",
    "* This notebook is adapted from [Aymeric Damian's neural network example](https://github.com/aymericdamien/TensorFlow-Examples/blob/master/notebooks/3_NeuralNetworks/neural_network.ipynb)\n",
    "* Clone the full collection [here](https://github.com/aymericdamien/TensorFlow-Examples).\n",
    "\n",
    "Implementing a neural network (a.k.a multilayer perceptron) with TensorFlow"
   ]
  },
  {
   "cell_type": "markdown",
   "metadata": {
    "run_control": {
     "frozen": false,
     "read_only": false
    },
    "slideshow": {
     "slide_type": "fragment"
    },
    "tags": [
     "Lecture",
     "Self-study"
    ]
   },
   "source": [
    "<center><img src=\"http://cs231n.github.io/assets/nn1/neural_net2.jpeg\" alt=\"nn\" style=\"width: 800px;\"/></center>"
   ]
  },
  {
   "cell_type": "markdown",
   "metadata": {
    "run_control": {
     "frozen": false,
     "read_only": false
    },
    "slideshow": {
     "slide_type": "slide"
    }
   },
   "source": [
    "## MNIST Dataset Overview\n",
    "\n",
    "\n",
    "- 28x28 fixed size, black and white images\n",
    "- Flattened to 784 features"
   ]
  },
  {
   "cell_type": "markdown",
   "metadata": {
    "run_control": {
     "frozen": false,
     "read_only": false
    },
    "slideshow": {
     "slide_type": "fragment"
    }
   },
   "source": [
    "<center><img src=\"http://neuralnetworksanddeeplearning.com/images/mnist_100_digits.png\" alt=\"MNIST Dataset\" style=\"width: 600px; height:400px;\"/></center>"
   ]
  },
  {
   "cell_type": "markdown",
   "metadata": {
    "run_control": {
     "frozen": false,
     "read_only": false
    },
    "slideshow": {
     "slide_type": "skip"
    },
    "tags": [
     "Self-study"
    ]
   },
   "source": [
    "For this example, we will once again use the MNIST handwritten digits dataset. As mentioned in the previous lesson, this dataset contains 60,000 examples for training and 10,000 examples for testing. The digits have been size-normalized and centered in a fixed-size image (28x28 pixels) with values from 0 to 1. For simplicity, each image has been flattened and converted to a 1-D numpy array of 784 features (28*28).\n",
    "\n",
    "TensorFlow makes this dataset available internally as part of the TensorFlow module, which means our data is just an import statement away."
   ]
  },
  {
   "cell_type": "code",
   "execution_count": 1,
   "metadata": {
    "ExecuteTime": {
     "end_time": "2018-06-05T22:34:58.874623Z",
     "start_time": "2018-06-05T22:34:56.886204Z"
    },
    "run_control": {
     "frozen": false,
     "read_only": false
    },
    "slideshow": {
     "slide_type": "skip"
    },
    "tags": [
     "Lecture",
     "Self-study"
    ]
   },
   "outputs": [],
   "source": [
    "import tensorflow as tf\n",
    "logs_path = '../logs/lesson3'\n",
    "\n",
    "## Tensorflow produces a lot of warnings. We generally want to suppress them. The below code does exactly that. \n",
    "import warnings\n",
    "warnings.filterwarnings('ignore')\n",
    "tf.logging.set_verbosity(tf.logging.ERROR)"
   ]
  },
  {
   "cell_type": "code",
   "execution_count": 2,
   "metadata": {
    "ExecuteTime": {
     "end_time": "2018-06-05T22:35:06.383655Z",
     "start_time": "2018-06-05T22:34:58.877730Z"
    },
    "run_control": {
     "frozen": false,
     "read_only": false
    },
    "slideshow": {
     "slide_type": "skip"
    },
    "tags": [
     "Lecture",
     "Self-study"
    ]
   },
   "outputs": [
    {
     "name": "stdout",
     "output_type": "stream",
     "text": [
      "Extracting /tmp/data/train-images-idx3-ubyte.gz\n",
      "Extracting /tmp/data/train-labels-idx1-ubyte.gz\n",
      "Extracting /tmp/data/t10k-images-idx3-ubyte.gz\n",
      "Extracting /tmp/data/t10k-labels-idx1-ubyte.gz\n"
     ]
    }
   ],
   "source": [
    "# Import MNIST data\n",
    "from tensorflow.examples.tutorials.mnist import input_data\n",
    "mnist = input_data.read_data_sets(\"/tmp/data/\", one_hot=True)"
   ]
  },
  {
   "cell_type": "markdown",
   "metadata": {
    "run_control": {
     "frozen": false,
     "read_only": false
    },
    "slideshow": {
     "slide_type": "slide"
    },
    "tags": [
     "Lecture",
     "Self-study"
    ]
   },
   "source": [
    "## **Architecture of the Neural Nework**"
   ]
  },
  {
   "cell_type": "markdown",
   "metadata": {
    "run_control": {
     "frozen": false,
     "read_only": false
    },
    "slideshow": {
     "slide_type": "fragment"
    }
   },
   "source": [
    "- 2 Hidden layers with 256 neurons each"
   ]
  },
  {
   "cell_type": "markdown",
   "metadata": {
    "run_control": {
     "frozen": false,
     "read_only": false
    },
    "slideshow": {
     "slide_type": "fragment"
    }
   },
   "source": [
    "- Multi-class output - 1 for each digit"
   ]
  },
  {
   "cell_type": "markdown",
   "metadata": {
    "run_control": {
     "frozen": false,
     "read_only": false
    },
    "slideshow": {
     "slide_type": "fragment"
    }
   },
   "source": [
    "- 1 Input neuron for each pixel in image = 784 "
   ]
  },
  {
   "cell_type": "markdown",
   "metadata": {
    "run_control": {
     "frozen": false,
     "read_only": false
    },
    "slideshow": {
     "slide_type": "fragment"
    },
    "tags": [
     "Lecture"
    ]
   },
   "source": [
    "```python\n",
    "n_hidden_1 = 256\n",
    "n_hidden_2 = 256\n",
    "num_input = 784\n",
    "num_classes = 10\n",
    "```"
   ]
  },
  {
   "cell_type": "markdown",
   "metadata": {
    "run_control": {
     "frozen": false,
     "read_only": false
    },
    "slideshow": {
     "slide_type": "subslide"
    },
    "tags": [
     "Lecture"
    ]
   },
   "source": [
    "### Inputs = placeholders"
   ]
  },
  {
   "cell_type": "markdown",
   "metadata": {
    "run_control": {
     "frozen": false,
     "read_only": false
    },
    "slideshow": {
     "slide_type": "fragment"
    },
    "tags": [
     "Lecture"
    ]
   },
   "source": [
    "```python\n",
    "X = tf.placeholder(\"float\", [None, num_input])\n",
    "Y = tf.placeholder(\"float\", [None, num_classes])\n",
    "```"
   ]
  },
  {
   "cell_type": "code",
   "execution_count": 3,
   "metadata": {
    "ExecuteTime": {
     "end_time": "2018-06-05T22:35:06.457875Z",
     "start_time": "2018-06-05T22:35:06.390904Z"
    },
    "run_control": {
     "frozen": false,
     "read_only": false
    },
    "slideshow": {
     "slide_type": "skip"
    },
    "tags": [
     "Self-study"
    ]
   },
   "outputs": [],
   "source": [
    "# Network Parameters\n",
    "n_hidden_1 = 256 # 1st layer number of neurons\n",
    "n_hidden_2 = 256 # 2nd layer number of neurons\n",
    "num_input = 784 # MNIST data input (img shape: 28*28)\n",
    "num_classes = 10 # MNIST total classes (0-9 digits)\n",
    "\n",
    "# tf Graph input\n",
    "X = tf.placeholder(\"float\", [None, num_input], name = \"InputData\")\n",
    "Y = tf.placeholder(\"float\", [None, num_classes], name = \"LabelData\")"
   ]
  },
  {
   "cell_type": "markdown",
   "metadata": {
    "run_control": {
     "frozen": false,
     "read_only": false
    },
    "slideshow": {
     "slide_type": "slide"
    }
   },
   "source": [
    "### Model weights\n",
    "\n",
    "If we use the notation shown in the figure for our network, we can construct the weights as follows:"
   ]
  },
  {
   "cell_type": "markdown",
   "metadata": {
    "run_control": {
     "frozen": false,
     "read_only": false
    },
    "slideshow": {
     "slide_type": "fragment"
    }
   },
   "source": [
    "<center><img src=\"img/NNWithWeights.PNG\" alt=\"nn\" style=\"width: 800px;\"/></center>"
   ]
  },
  {
   "cell_type": "markdown",
   "metadata": {
    "run_control": {
     "frozen": false,
     "read_only": false
    },
    "slideshow": {
     "slide_type": "slide"
    }
   },
   "source": [
    "\n",
    "    \n",
    "|<font size=\"5\"> Source Layer </font>| <font size=\"5\">       Destination layer      </font> | <font size=\"5\"> Weight Tensor   </font>|\n",
    "|--------------|-------------------|---------------|\n",
    "| <font size=\"4\"> Input     </font>   | <font size=\"4\"> Hidden 1     </font>     | <font size=\"4\"> h1     </font>       |\n",
    "| <font size=\"4\"> Hidden 1    </font> | <font size=\"4\"> Hidden 2     </font>     | <font size=\"4\"> h2     </font>       |\n",
    "| <font size=\"4\"> Hidden 2    </font> | <font size=\"4\"> Output      </font>      | <font size=\"4\"> out    </font>       |\n"
   ]
  },
  {
   "cell_type": "markdown",
   "metadata": {
    "slideshow": {
     "slide_type": "slide"
    }
   },
   "source": [
    "```python\n",
    "weights = {\n",
    "    #weights between input layer and first hidden layer\n",
    "    'h1': tf.Variable(tf.random_normal([num_input, n_hidden_1]), name=\"HiddenWeight1\"),\n",
    "    #weights between first and second hidden layer\n",
    "    'h2': tf.Variable(tf.random_normal([n_hidden_1, n_hidden_2]), name=\"HiddenWeight2\"),\n",
    "    #weights between second hidden layer and output layer\n",
    "    'out': tf.Variable(tf.random_normal([n_hidden_2, num_classes]), name=\"OutputWeight\")\n",
    "}\n",
    "```"
   ]
  },
  {
   "cell_type": "markdown",
   "metadata": {
    "slideshow": {
     "slide_type": "slide"
    }
   },
   "source": [
    "```python\n",
    "biases = {\n",
    "    # Bias added to the first hidden layer\n",
    "    'b1': tf.Variable(tf.random_normal([n_hidden_1]), name=\"Bias1\"),\n",
    "    # Bias added to second hidden layer\n",
    "    'b2': tf.Variable(tf.random_normal([n_hidden_2]), name=\"Bias2\"),\n",
    "    # Bias added at the output layer\n",
    "    'out': tf.Variable(tf.random_normal([num_classes]), name=\"OutputBias\")\n",
    "}\n",
    "```"
   ]
  },
  {
   "cell_type": "code",
   "execution_count": 4,
   "metadata": {
    "ExecuteTime": {
     "end_time": "2018-06-05T22:35:06.513485Z",
     "start_time": "2018-06-05T22:35:06.460119Z"
    },
    "run_control": {
     "frozen": false,
     "read_only": false
    },
    "slideshow": {
     "slide_type": "skip"
    }
   },
   "outputs": [],
   "source": [
    "# Store layers weight & bias\n",
    "weights = {\n",
    "    'h1': tf.Variable(tf.random_normal([num_input, n_hidden_1]), name=\"HiddenWeight1\"),\n",
    "    'h2': tf.Variable(tf.random_normal([n_hidden_1, n_hidden_2]), name=\"HiddenWeight2\"),\n",
    "    'out': tf.Variable(tf.random_normal([n_hidden_2, num_classes]), name=\"OutputWeight\")\n",
    "}\n",
    "biases = {\n",
    "    'b1': tf.Variable(tf.random_normal([n_hidden_1]), name=\"Bias1\"),\n",
    "    'b2': tf.Variable(tf.random_normal([n_hidden_2]), name=\"Bias2\"),\n",
    "    'out': tf.Variable(tf.random_normal([num_classes]), name=\"OutputBias\")\n",
    "}"
   ]
  },
  {
   "cell_type": "markdown",
   "metadata": {
    "run_control": {
     "frozen": false,
     "read_only": false
    },
    "slideshow": {
     "slide_type": "subslide"
    }
   },
   "source": [
    "We will now use these TensorFlow Variables that we have defined to build our neural network dataflow graph. "
   ]
  },
  {
   "cell_type": "markdown",
   "metadata": {
    "run_control": {
     "frozen": false,
     "read_only": false
    },
    "slideshow": {
     "slide_type": "slide"
    }
   },
   "source": [
    "### Defining the Neural Network "
   ]
  },
  {
   "cell_type": "markdown",
   "metadata": {
    "run_control": {
     "frozen": false,
     "read_only": false
    },
    "slideshow": {
     "slide_type": "fragment"
    }
   },
   "source": [
    "- Output  = $f$(inputs, weights, bias)\n",
    "- 2 densely connected layers\n",
    "\n",
    "At each layer,\n",
    "- \n",
    "    $output = activation\\_fn\\left(\\left(input \\cdot weights\\right) + bias\\right)$\n",
    "   "
   ]
  },
  {
   "cell_type": "markdown",
   "metadata": {
    "run_control": {
     "frozen": false,
     "read_only": false
    },
    "slideshow": {
     "slide_type": "skip"
    }
   },
   "source": [
    "To define the neural network architecture, we write the output as a function of the inputs, weights, and the bias. Our network has 2 densely connected hidden layers in between the input and output layers.  \n",
    "\n",
    "A densely connected hidden layer, as the name suggests, has connections to each neuron in the previous layer as well as to each neuron in the next layer.\n",
    "\n",
    "Each dense layer should implement the operation:\n",
    "\n",
    "```python\n",
    "output = activation(dot(input, weights) + bias)\n",
    "``` \n",
    "where activation is the element-wise activation function, weights and bias are the weights matrix and bias vector we have initialized previously. \n",
    "\n",
    "The output layer will not be passed through an activation function"
   ]
  },
  {
   "cell_type": "markdown",
   "metadata": {
    "run_control": {
     "frozen": false,
     "read_only": false
    },
    "slideshow": {
     "slide_type": "slide"
    }
   },
   "source": [
    "```python\n",
    "# Input x is a tensor of dimension batch_size*744\n",
    "def neural_net(x):\n",
    "    # output = activation(dot(input, weights) + bias)\n",
    "    layer_1 = tf.sigmoid(tf.add(tf.matmul(x, weights['h1']), biases['b1']))\n",
    "    layer_2 = tf.sigmoid(tf.add(tf.matmul(layer_1, weights['h2']), biases['b2']))\n",
    "    out_layer = tf.matmul(layer_2, weights['out']) + biases['out']\n",
    "    return out_layer\n",
    "```"
   ]
  },
  {
   "cell_type": "code",
   "execution_count": 5,
   "metadata": {
    "ExecuteTime": {
     "end_time": "2018-06-05T22:35:06.525789Z",
     "start_time": "2018-06-05T22:35:06.515693Z"
    },
    "run_control": {
     "frozen": false,
     "read_only": false
    },
    "slideshow": {
     "slide_type": "skip"
    }
   },
   "outputs": [],
   "source": [
    "# Creating the model that we described above\n",
    "def neural_net(x):\n",
    "    # Hidden fully connected layer with 256 neurons\n",
    "    with tf.name_scope('Layer1'):\n",
    "        layer_1 = tf.sigmoid(tf.add(tf.matmul(x, weights['h1']), biases['b1']))\n",
    "    # Hidden fully connected layer with 256 neurons\n",
    "    with tf.name_scope('Layer2'):\n",
    "        layer_2 = tf.sigmoid(tf.add(tf.matmul(layer_1, weights['h2']), biases['b2']))\n",
    "    # Output fully connected layer with a neuron for each class\n",
    "    with tf.name_scope('Logits'):\n",
    "        out_layer = (tf.matmul(layer_2, weights['out']) + biases['out'])\n",
    "    return out_layer"
   ]
  },
  {
   "cell_type": "markdown",
   "metadata": {
    "run_control": {
     "frozen": false,
     "read_only": false
    },
    "slideshow": {
     "slide_type": "slide"
    }
   },
   "source": [
    "## Loss function and optimizer"
   ]
  },
  {
   "cell_type": "markdown",
   "metadata": {
    "run_control": {
     "frozen": false,
     "read_only": false
    },
    "slideshow": {
     "slide_type": "fragment"
    }
   },
   "source": [
    "- Neural network outputs 10 logits\n",
    "- Loss function for Multiclass classification => Cross Entropy loss"
   ]
  },
  {
   "cell_type": "markdown",
   "metadata": {
    "run_control": {
     "frozen": false,
     "read_only": false
    },
    "slideshow": {
     "slide_type": "fragment"
    }
   },
   "source": [
    "* Implemented by TensorFlow's `softmax_cross_entropy_with_logits` with logits as input\n",
    "* Trained using Adam Optimizer\n",
    "    * SGD + independent learning rates for each feature + learning rates scaled by exponential averaging of past gradients"
   ]
  },
  {
   "cell_type": "markdown",
   "metadata": {
    "run_control": {
     "frozen": false,
     "read_only": false
    },
    "slideshow": {
     "slide_type": "slide"
    }
   },
   "source": [
    "```python\n",
    "loss_op = tf.reduce_mean(tf.nn.softmax_cross_entropy_with_logits_v2(\n",
    "    logits=logits, labels=labels))\n",
    "optimizer = tf.train.AdamOptimizer(learning_rate=learning_rate)\n",
    "train_op = optimizer.minimize(loss_op)\n",
    "```"
   ]
  },
  {
   "cell_type": "markdown",
   "metadata": {
    "run_control": {
     "frozen": false,
     "read_only": false
    },
    "slideshow": {
     "slide_type": "skip"
    }
   },
   "source": [
    "The _output_ from our neural network function is a _vector of logits_ that can be put through a softmax layer to get a vector of probabilities, one for each class, that sum up to 1.\n",
    "\n",
    "The prediction would be the class that corresponds to the highest probability. Alternatively, because the softmax function is monotonic, the prediction would also be the class with the highest logit.\n",
    "\n",
    "The most commonly used loss function to evaluate a multi-class classifier is a  **cross-entropy loss**, which is $-\\sum_x p(x) \\log q(x)$ , where $p(x)$ is 1 if the training sample belongs to class $x$ and $q(x)$ is the calculated probability that the training sample belongs to class $x$."
   ]
  },
  {
   "cell_type": "markdown",
   "metadata": {
    "run_control": {
     "frozen": false,
     "read_only": false
    },
    "slideshow": {
     "slide_type": "skip"
    }
   },
   "source": [
    "Neural networks can be trained easily using Gradient Descent. However, for large architectures, Gradient descent takes a long time to converge. Research in speeding up the convergence of Gradient Descent has led to the formulation of new training algorithms such as:\n",
    "- **Adaptive Gradient Algorithm (AdaGrad)** : maintains a per-parameter learning rate that improves performance on problems with sparse gradients (e.g. natural language and computer vision problems)\n",
    "- **Root Mean Square Propagation (RMSProp)** : maintains per-parameter learning rates which are adapted based on the average of recent magnitudes of the gradients for the weight (e.g. how quickly it is changing).<br> This means the algorithm does well on online and non-stationary problems (e.g. noisy).\n",
    "- **Adam Optimizer**: This combines the best parts of AdaGrad with the best parts of RMSProp. <br>Instead of an average of some recent magnitudes, Adam Optimizer keeps track of an exponential average of the gradient as well as the square of the gradient to scale the magnitude of the per-parameter learning rate. \n",
    "\n",
    "Adam has been emperically shown to work better than other learning algorithms. For a more comprehensive review, check out Sebastian Ruder's <a href=\"http://ruder.io/optimizing-gradient-descent/index.html\">blog post</a> where he surveys and distills down the essence of recent developments in gradient descent based learning algorithms."
   ]
  },
  {
   "cell_type": "markdown",
   "metadata": {
    "run_control": {
     "frozen": false,
     "read_only": false
    },
    "slideshow": {
     "slide_type": "slide"
    }
   },
   "source": [
    "## Running the Graph in a session "
   ]
  },
  {
   "cell_type": "markdown",
   "metadata": {
    "run_control": {
     "frozen": false,
     "read_only": false
    },
    "slideshow": {
     "slide_type": "fragment"
    }
   },
   "source": [
    "- Feed the training inputs using `feed_dict` parameter of Tensorflow `session`'s `run` function"
   ]
  },
  {
   "cell_type": "markdown",
   "metadata": {
    "run_control": {
     "frozen": false,
     "read_only": false
    },
    "slideshow": {
     "slide_type": "fragment"
    }
   },
   "source": [
    "```python\n",
    "for each training_step:\n",
    "    batch_x, batch_y = mnist.train.next_batch(batch_size)\n",
    "    sess.run(train_op, feed_dict={X: batch_x, Y: batch_y}) \n",
    "```"
   ]
  },
  {
   "cell_type": "markdown",
   "metadata": {
    "run_control": {
     "frozen": false,
     "read_only": false
    },
    "slideshow": {
     "slide_type": "fragment"
    }
   },
   "source": [
    "- Record loss and accuracy periodically\n",
    "\n",
    "\n",
    "- Call `session.run` once more\n",
    "```python\n",
    "loss, acc = sess.run([loss_op, accuracy], feed_dict={X: batch_x, Y: batch_y})\n",
    "```"
   ]
  },
  {
   "cell_type": "markdown",
   "metadata": {
    "run_control": {
     "frozen": false,
     "read_only": false
    },
    "slideshow": {
     "slide_type": "skip"
    }
   },
   "source": [
    "The last step is running the training and evaluation in a TensorFlow session.\n",
    "\n",
    "An important concept to note here is that so far we have not specified the size of our training batch anywhere and that our model can be trained with any batch size. \n",
    "\n",
    "So, we can train using just 1 example at a time or even use all examples every training epoch. We will however, use batch gradient descent, so we feed in a batch at a time to the `feed_dict` parameter of our `sess.run` function call. \n",
    "```python\n",
    "for each training_step:\n",
    "    batch_x, batch_y = mnist.train.next_batch(batch_size)\n",
    "    sess.run(train_op, feed_dict={X: batch_x, Y: batch_y}) \n",
    "```\n",
    "\n",
    "We can record the loss and accuracy as we did in Lesson 2 for logistic regression by running the corresponding components of the TensorFlow DataFlow Graph, `loss_op` and `accuracy`.\n",
    "\n",
    "```python\n",
    "loss, acc = sess.run(fetches = [loss_op, accuracy], feed_dict={X: batch_x, Y: batch_y})\n",
    "```"
   ]
  },
  {
   "cell_type": "code",
   "execution_count": 6,
   "metadata": {
    "ExecuteTime": {
     "end_time": "2018-06-05T22:35:36.480945Z",
     "start_time": "2018-06-05T22:35:06.529626Z"
    },
    "run_control": {
     "frozen": false,
     "read_only": false
    },
    "slideshow": {
     "slide_type": "skip"
    }
   },
   "outputs": [
    {
     "name": "stdout",
     "output_type": "stream",
     "text": [
      "\n",
      "using learning_rate= 0.1\n",
      "Step 1, Minibatch Loss= 35.6932, Training Accuracy= 0.125, Test  Accuracy=0.101\n",
      "Step 100, Minibatch Loss= 1.1400, Training Accuracy= 0.703, Test  Accuracy=0.551\n",
      "Step 200, Minibatch Loss= 0.7563, Training Accuracy= 0.742, Test  Accuracy=0.631\n",
      "Step 300, Minibatch Loss= 0.7752, Training Accuracy= 0.773, Test  Accuracy=0.694\n",
      "Step 400, Minibatch Loss= 0.5772, Training Accuracy= 0.852, Test  Accuracy=0.816\n",
      "Step 500, Minibatch Loss= 1.0152, Training Accuracy= 0.789, Test  Accuracy=0.749\n",
      "Step 600, Minibatch Loss= 1.0677, Training Accuracy= 0.625, Test  Accuracy=0.625\n",
      "Step 700, Minibatch Loss= 0.5295, Training Accuracy= 0.766, Test  Accuracy=0.743\n",
      "Step 800, Minibatch Loss= 0.6323, Training Accuracy= 0.758, Test  Accuracy=0.713\n",
      "Step 900, Minibatch Loss= 0.6321, Training Accuracy= 0.820, Test  Accuracy=0.773\n",
      "Step 1000, Minibatch Loss= 0.8927, Training Accuracy= 0.750, Test  Accuracy=0.712\n",
      "Step 1100, Minibatch Loss= 0.6173, Training Accuracy= 0.859, Test  Accuracy=0.777\n",
      "Step 1200, Minibatch Loss= 0.6643, Training Accuracy= 0.805, Test  Accuracy=0.794\n",
      "Step 1300, Minibatch Loss= 0.7860, Training Accuracy= 0.789, Test  Accuracy=0.806\n",
      "Step 1400, Minibatch Loss= 0.3869, Training Accuracy= 0.891, Test  Accuracy=0.839\n",
      "Step 1500, Minibatch Loss= 0.5530, Training Accuracy= 0.844, Test  Accuracy=0.834\n",
      "Step 1600, Minibatch Loss= 0.7779, Training Accuracy= 0.805, Test  Accuracy=0.758\n",
      "Step 1700, Minibatch Loss= 0.7486, Training Accuracy= 0.836, Test  Accuracy=0.820\n",
      "Step 1800, Minibatch Loss= 0.9579, Training Accuracy= 0.781, Test  Accuracy=0.793\n",
      "Step 1900, Minibatch Loss= 0.8000, Training Accuracy= 0.734, Test  Accuracy=0.724\n",
      "Step 2000, Minibatch Loss= 1.1113, Training Accuracy= 0.656, Test  Accuracy=0.654\n",
      "Optimization Finished!\n",
      "Testing Accuracy: 0.6538\n",
      "\n",
      "using learning_rate= 0.01\n",
      "Step 1, Minibatch Loss= 7.4377, Training Accuracy= 0.148, Test  Accuracy=0.118\n",
      "Step 100, Minibatch Loss= 0.4570, Training Accuracy= 0.875, Test  Accuracy=0.855\n",
      "Step 200, Minibatch Loss= 0.3642, Training Accuracy= 0.891, Test  Accuracy=0.883\n",
      "Step 300, Minibatch Loss= 0.2159, Training Accuracy= 0.938, Test  Accuracy=0.901\n",
      "Step 400, Minibatch Loss= 0.1782, Training Accuracy= 0.953, Test  Accuracy=0.909\n",
      "Step 500, Minibatch Loss= 0.2087, Training Accuracy= 0.930, Test  Accuracy=0.915\n",
      "Step 600, Minibatch Loss= 0.1323, Training Accuracy= 0.953, Test  Accuracy=0.923\n",
      "Step 700, Minibatch Loss= 0.1158, Training Accuracy= 0.969, Test  Accuracy=0.931\n",
      "Step 800, Minibatch Loss= 0.0935, Training Accuracy= 0.992, Test  Accuracy=0.930\n",
      "Step 900, Minibatch Loss= 0.0688, Training Accuracy= 0.984, Test  Accuracy=0.928\n",
      "Step 1000, Minibatch Loss= 0.0652, Training Accuracy= 0.969, Test  Accuracy=0.939\n",
      "Step 1100, Minibatch Loss= 0.0770, Training Accuracy= 0.977, Test  Accuracy=0.941\n",
      "Step 1200, Minibatch Loss= 0.1019, Training Accuracy= 0.977, Test  Accuracy=0.946\n",
      "Step 1300, Minibatch Loss= 0.0947, Training Accuracy= 0.984, Test  Accuracy=0.939\n",
      "Step 1400, Minibatch Loss= 0.0663, Training Accuracy= 0.977, Test  Accuracy=0.949\n",
      "Step 1500, Minibatch Loss= 0.0821, Training Accuracy= 0.961, Test  Accuracy=0.949\n",
      "Step 1600, Minibatch Loss= 0.0516, Training Accuracy= 0.992, Test  Accuracy=0.949\n",
      "Step 1700, Minibatch Loss= 0.0502, Training Accuracy= 0.984, Test  Accuracy=0.948\n",
      "Step 1800, Minibatch Loss= 0.1907, Training Accuracy= 0.953, Test  Accuracy=0.944\n",
      "Step 1900, Minibatch Loss= 0.0945, Training Accuracy= 0.977, Test  Accuracy=0.949\n",
      "Step 2000, Minibatch Loss= 0.0539, Training Accuracy= 0.984, Test  Accuracy=0.957\n",
      "Optimization Finished!\n",
      "Testing Accuracy: 0.9571\n",
      "\n",
      "using learning_rate= 0.001\n",
      "Step 1, Minibatch Loss= 20.1666, Training Accuracy= 0.055, Test  Accuracy=0.097\n",
      "Step 100, Minibatch Loss= 2.1587, Training Accuracy= 0.508, Test  Accuracy=0.524\n",
      "Step 200, Minibatch Loss= 1.3734, Training Accuracy= 0.648, Test  Accuracy=0.690\n",
      "Step 300, Minibatch Loss= 1.0314, Training Accuracy= 0.781, Test  Accuracy=0.762\n",
      "Step 400, Minibatch Loss= 1.0772, Training Accuracy= 0.734, Test  Accuracy=0.791\n",
      "Step 500, Minibatch Loss= 0.7995, Training Accuracy= 0.758, Test  Accuracy=0.811\n",
      "Step 600, Minibatch Loss= 0.8163, Training Accuracy= 0.828, Test  Accuracy=0.831\n",
      "Step 700, Minibatch Loss= 0.5362, Training Accuracy= 0.836, Test  Accuracy=0.835\n",
      "Step 800, Minibatch Loss= 0.3251, Training Accuracy= 0.891, Test  Accuracy=0.854\n",
      "Step 900, Minibatch Loss= 0.2937, Training Accuracy= 0.914, Test  Accuracy=0.857\n",
      "Step 1000, Minibatch Loss= 0.3534, Training Accuracy= 0.891, Test  Accuracy=0.866\n",
      "Step 1100, Minibatch Loss= 0.5937, Training Accuracy= 0.844, Test  Accuracy=0.871\n",
      "Step 1200, Minibatch Loss= 0.2964, Training Accuracy= 0.883, Test  Accuracy=0.875\n",
      "Step 1300, Minibatch Loss= 0.2596, Training Accuracy= 0.930, Test  Accuracy=0.879\n",
      "Step 1400, Minibatch Loss= 0.2811, Training Accuracy= 0.898, Test  Accuracy=0.883\n",
      "Step 1500, Minibatch Loss= 0.2535, Training Accuracy= 0.906, Test  Accuracy=0.886\n",
      "Step 1600, Minibatch Loss= 0.2085, Training Accuracy= 0.930, Test  Accuracy=0.889\n",
      "Step 1700, Minibatch Loss= 0.2391, Training Accuracy= 0.930, Test  Accuracy=0.893\n",
      "Step 1800, Minibatch Loss= 0.2558, Training Accuracy= 0.930, Test  Accuracy=0.895\n",
      "Step 1900, Minibatch Loss= 0.3034, Training Accuracy= 0.938, Test  Accuracy=0.897\n",
      "Step 2000, Minibatch Loss= 0.2864, Training Accuracy= 0.930, Test  Accuracy=0.900\n",
      "Optimization Finished!\n",
      "Testing Accuracy: 0.9004\n"
     ]
    }
   ],
   "source": [
    "# hyper-parameters\n",
    "num_steps = 2000\n",
    "batch_size = 128\n",
    "display_step = 100\n",
    "logs=[]\n",
    "\n",
    "for learning_rate in [0.1,0.01,0.001]:\n",
    "    # Construct and executing the model described above\n",
    "    print('\\nusing learning_rate=',learning_rate)\n",
    "    \n",
    "    logits = neural_net(X)\n",
    "\n",
    "    # Define loss and optimizer\n",
    "\n",
    "    #The Softmax cross entropy with logits function originally did not allow backpropagation of errors through the errors.\n",
    "    # However, this was deprecated in favor of a v2 method that permits the backpropagation of errors through the labels as well.\n",
    "    #In order to recreate how the deprecated method used to work, \n",
    "    #we need to stop the gradient flowing through to the labels while using the v2 method.\n",
    "    with tf.name_scope('ActualLabels'):\n",
    "        labels = tf.stop_gradient(Y)\n",
    "\n",
    "    with tf.name_scope('Loss'):\n",
    "        loss_op = tf.reduce_mean(tf.nn.softmax_cross_entropy_with_logits_v2(logits=logits, labels=labels))\n",
    "\n",
    "    with tf.name_scope('SGD'):\n",
    "        optimizer = tf.train.AdamOptimizer(learning_rate=learning_rate)\n",
    "        train_op = optimizer.minimize(loss_op)\n",
    "\n",
    "    with tf.name_scope('Prediction'):\n",
    "        prediction = tf.argmax(logits, 1)\n",
    "\n",
    "    #Check accuracy of prediction\n",
    "    with tf.name_scope('Accuracy'):\n",
    "        correct_pred = tf.equal(prediction, tf.argmax(Y, 1))\n",
    "        accuracy = tf.reduce_mean(tf.cast(correct_pred, tf.float32))\n",
    "\n",
    "    # Initialize the variables (i.e. assign their default value)\n",
    "    init = tf.global_variables_initializer()\n",
    "\n",
    "    # Start training\n",
    "    with tf.Session() as sess:\n",
    "        # Run the initializer\n",
    "        sess.run(init)\n",
    "        summary_writer = tf.summary.FileWriter(logs_path + \"/nn\", graph=tf.get_default_graph())\n",
    "        _steps=[];_train=[];_test=[]\n",
    "        for step in range(1, num_steps+1):\n",
    "            batch_x, batch_y = mnist.train.next_batch(batch_size)\n",
    "            # Run optimization op (backprop)\n",
    "            sess.run(train_op, feed_dict={X: batch_x, Y: batch_y})\n",
    "            if step % display_step == 0 or step == 1:\n",
    "                # Calculate batch loss and accuracy\n",
    "                loss, acc = sess.run([loss_op, accuracy], feed_dict={X: batch_x,\n",
    "                                                                     Y: batch_y})\n",
    "                test_acc=sess.run(accuracy, feed_dict={X: mnist.test.images,\n",
    "                                          Y: mnist.test.labels})\n",
    "                print(\"Step \" + str(step) \n",
    "                      + \", Minibatch Loss= \" + \"{:.4f}\".format(loss) \\\n",
    "                      + \", Training Accuracy= \" + \"{:.3f}\".format(acc) \\\n",
    "                      + \", Test  Accuracy=\" + \"{:.3f}\".format(test_acc))\n",
    "                _steps.append(step)\n",
    "                _train.append(1-acc)\n",
    "                _test.append(1-test_acc)\n",
    "\n",
    "        print(\"Optimization Finished!\")\n",
    "        logs.append((learning_rate,_steps,_train,_test))\n",
    "        # Calculate accuracy for MNIST test images\n",
    "        print(\"Testing Accuracy:\", \\\n",
    "            sess.run(accuracy, feed_dict={X: mnist.test.images,\n",
    "                                          Y: mnist.test.labels}))\n"
   ]
  },
  {
   "cell_type": "markdown",
   "metadata": {
    "slideshow": {
     "slide_type": "subslide"
    }
   },
   "source": [
    "## Analysis of performance\n",
    "\n",
    "* **Recall:** Logistic regression got an error of 12%"
   ]
  },
  {
   "cell_type": "code",
   "execution_count": 7,
   "metadata": {
    "ExecuteTime": {
     "end_time": "2018-06-05T22:35:36.816390Z",
     "start_time": "2018-06-05T22:35:36.483405Z"
    },
    "slideshow": {
     "slide_type": "skip"
    }
   },
   "outputs": [
    {
     "name": "stdout",
     "output_type": "stream",
     "text": [
      "Populating the interactive namespace from numpy and matplotlib\n"
     ]
    }
   ],
   "source": [
    "%pylab inline"
   ]
  },
  {
   "cell_type": "markdown",
   "metadata": {
    "slideshow": {
     "slide_type": "subslide"
    }
   },
   "source": [
    "### Comparing performance for different learning rates"
   ]
  },
  {
   "cell_type": "code",
   "execution_count": 8,
   "metadata": {
    "ExecuteTime": {
     "end_time": "2018-06-05T22:35:37.452056Z",
     "start_time": "2018-06-05T22:35:36.819515Z"
    },
    "hide_input": true,
    "slideshow": {
     "slide_type": "fragment"
    }
   },
   "outputs": [
    {
     "data": {
      "image/png": "[encoded data removed]",
      "text/plain": [
       "<Figure size 1296x432 with 3 Axes>"
      ]
     },
     "metadata": {
      "needs_background": "light"
     },
     "output_type": "display_data"
    }
   ],
   "source": [
    "i=1;\n",
    "figure(figsize=(18,6))\n",
    "for learning_rate,_steps,_train,_test in logs:\n",
    "    subplot(1,3,i)\n",
    "    i+=1\n",
    "    plot(_steps,_train,label='train err');\n",
    "    plot(_steps,_test,label='test err');\n",
    "    title('l_rate=%5.3f final_test=%4.2f percent'%(learning_rate,_test[-1]*100.))\n",
    "    ylim([0,0.8])\n",
    "    legend()\n",
    "    grid()"
   ]
  },
  {
   "cell_type": "markdown",
   "metadata": {
    "run_control": {
     "frozen": false,
     "read_only": false
    },
    "slideshow": {
     "slide_type": "slide"
    }
   },
   "source": [
    "### Tensorboard Visualization"
   ]
  },
  {
   "cell_type": "markdown",
   "metadata": {
    "run_control": {
     "frozen": false,
     "read_only": false
    },
    "slideshow": {
     "slide_type": "skip"
    }
   },
   "source": [
    "If we view the TensorGraph we have defined using the Tensorboard tool, we see that we have succeeded in creating the model that we set out to "
   ]
  },
  {
   "cell_type": "markdown",
   "metadata": {
    "slideshow": {
     "slide_type": "slide"
    }
   },
   "source": [
    "<img src=\"img/NNTensorboard.PNG\">"
   ]
  },
  {
   "cell_type": "markdown",
   "metadata": {
    "run_control": {
     "frozen": false,
     "read_only": false
    },
    "slideshow": {
     "slide_type": "slide"
    }
   },
   "source": [
    "## Summary\n",
    "This notebook demonstrated how to build a simple multi-layer neural network with base TensorFlow. "
   ]
  }
 ],
 "metadata": {
  "anaconda-cloud": {},
  "celltoolbar": "Slideshow",
  "kernelspec": {
   "display_name": "Python 3",
   "language": "python",
   "name": "python3"
  },
  "language_info": {
   "codemirror_mode": {
    "name": "ipython",
    "version": 3
   },
   "file_extension": ".py",
   "mimetype": "text/x-python",
   "name": "python",
   "nbconvert_exporter": "python",
   "pygments_lexer": "ipython3",
   "version": "3.7.5"
  },
  "toc": {
   "base_numbering": 1,
   "nav_menu": {
    "height": "120px",
    "width": "252px"
   },
   "number_sections": true,
   "sideBar": true,
   "skip_h1_title": false,
   "title_cell": "Table of Contents",
   "title_sidebar": "Contents",
   "toc_cell": false,
   "toc_position": {},
   "toc_section_display": "block",
   "toc_window_display": false
  },
  "varInspector": {
   "cols": {
    "lenName": 16,
    "lenType": 16,
    "lenVar": 40
   },
   "kernels_config": {
    "python": {
     "delete_cmd_postfix": "",
     "delete_cmd_prefix": "del ",
     "library": "var_list.py",
     "varRefreshCmd": "print(var_dic_list())"
    },
    "r": {
     "delete_cmd_postfix": ") ",
     "delete_cmd_prefix": "rm(",
     "library": "var_list.r",
     "varRefreshCmd": "cat(var_dic_list()) "
    }
   },
   "types_to_exclude": [
    "module",
    "function",
    "builtin_function_or_method",
    "instance",
    "_Feature"
   ],
   "window_display": false
  }
 },
 "nbformat": 4,
 "nbformat_minor": 4
}
