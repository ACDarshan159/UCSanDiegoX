{
 "cells": [
  {
   "cell_type": "code",
   "execution_count": 1,
   "metadata": {
    "ExecuteTime": {
     "end_time": "2018-06-05T19:05:32.915350Z",
     "start_time": "2018-06-05T19:05:31.778023Z"
    },
    "slideshow": {
     "slide_type": "skip"
    }
   },
   "outputs": [],
   "source": [
    "import tensorflow as tf\n",
    "import numpy as np\n",
    "\n",
    "import warnings\n",
    "## Tensorflow produces a lot of warnings. We generally want to suppress them. The below code does exactly that. \n",
    "warnings.filterwarnings('ignore')\n",
    "tf.logging.set_verbosity(tf.logging.ERROR)"
   ]
  },
  {
   "cell_type": "markdown",
   "metadata": {
    "slideshow": {
     "slide_type": "slide"
    }
   },
   "source": [
    "## Using predefined estimators\n",
    "In this notebook we recreate the neural network defined first in notebook [3.Neural-Networks.ipynb](3.Neural-Networks.ipynb)  \n",
    "using the predefined estimator `DNNClassifier`"
   ]
  },
  {
   "cell_type": "markdown",
   "metadata": {
    "slideshow": {
     "slide_type": "subslide"
    }
   },
   "source": [
    "## Benefits of Estimators\n",
    "\n",
    "- Estimator-based models are independent of operating environment\n",
    "    - local host\n",
    "    - GPUs\n",
    "    - CPU clusters"
   ]
  },
  {
   "cell_type": "markdown",
   "metadata": {
    "slideshow": {
     "slide_type": "subslide"
    }
   },
   "source": [
    "### More benefits\n",
    "- Simplify model sharing between developers\n",
    "- State of the art model architectures with more intuitive high-level code"
   ]
  },
  {
   "cell_type": "markdown",
   "metadata": {
    "slideshow": {
     "slide_type": "skip"
    }
   },
   "source": [
    "Consult https://www.tensorflow.org/programmers_guide/estimators for more advantages of using Estimators as described by the developers of TensorFlow."
   ]
  },
  {
   "cell_type": "markdown",
   "metadata": {
    "slideshow": {
     "slide_type": "subslide"
    }
   },
   "source": [
    "## Read Data\n",
    "The MNist dataset is available from within TensorFlow tutorials."
   ]
  },
  {
   "cell_type": "code",
   "execution_count": 2,
   "metadata": {
    "ExecuteTime": {
     "end_time": "2018-06-05T19:36:46.775849Z",
     "start_time": "2018-06-05T19:36:46.080280Z"
    },
    "slideshow": {
     "slide_type": "fragment"
    }
   },
   "outputs": [
    {
     "name": "stdout",
     "output_type": "stream",
     "text": [
      "Successfully downloaded train-images-idx3-ubyte.gz 9912422 bytes.\n",
      "Extracting MNIST_data/train-images-idx3-ubyte.gz\n",
      "Successfully downloaded train-labels-idx1-ubyte.gz 28881 bytes.\n",
      "Extracting MNIST_data/train-labels-idx1-ubyte.gz\n",
      "Successfully downloaded t10k-images-idx3-ubyte.gz 1648877 bytes.\n",
      "Extracting MNIST_data/t10k-images-idx3-ubyte.gz\n",
      "Successfully downloaded t10k-labels-idx1-ubyte.gz 4542 bytes.\n",
      "Extracting MNIST_data/t10k-labels-idx1-ubyte.gz\n"
     ]
    }
   ],
   "source": [
    "from tensorflow.examples.tutorials.mnist import input_data\n",
    "mnist = input_data.read_data_sets('MNIST_data')\n",
    "\n",
    "# Wrap input as a function (THE \"input function\" will be defined below)\n",
    "def input(dataset):\n",
    "    return dataset.images, dataset.labels.astype(np.int32)"
   ]
  },
  {
   "cell_type": "markdown",
   "metadata": {
    "slideshow": {
     "slide_type": "subslide"
    }
   },
   "source": [
    "##  Define feature columns"
   ]
  },
  {
   "cell_type": "code",
   "execution_count": 3,
   "metadata": {
    "ExecuteTime": {
     "end_time": "2018-06-05T19:05:43.474804Z",
     "start_time": "2018-06-05T19:05:43.470582Z"
    },
    "slideshow": {
     "slide_type": "fragment"
    }
   },
   "outputs": [],
   "source": [
    "# Specify feature\n",
    "feature_columns = [tf.feature_column.numeric_column(\"x\", shape=[28, 28])]"
   ]
  },
  {
   "cell_type": "markdown",
   "metadata": {
    "slideshow": {
     "slide_type": "subslide"
    }
   },
   "source": [
    "## Define Neural Network"
   ]
  },
  {
   "cell_type": "code",
   "execution_count": 4,
   "metadata": {
    "ExecuteTime": {
     "end_time": "2018-06-05T19:50:09.313970Z",
     "start_time": "2018-06-05T19:50:09.306304Z"
    },
    "slideshow": {
     "slide_type": "fragment"
    }
   },
   "outputs": [],
   "source": [
    "# Build 2 layer DNN classifier\n",
    "classifier = tf.estimator.DNNClassifier(\n",
    "    feature_columns=feature_columns,\n",
    "    hidden_units=[256, 256],\n",
    "    optimizer=tf.train.AdamOptimizer(1e-4),\n",
    "    n_classes=10,\n",
    "    dropout=0.1,\n",
    "    model_dir=\"./tmp/mnist_model_256_256\"   # Location for storing checkpoints.\n",
    ")"
   ]
  },
  {
   "cell_type": "markdown",
   "metadata": {
    "slideshow": {
     "slide_type": "subslide"
    }
   },
   "source": [
    "## Define training input function\n",
    "* Supplies data for training, evaluation, prediction\n",
    "* Should yield tuples of:\n",
    "    - Python dict `features`: key = name of feature, value = array of feature values\n",
    "    - Array `label` : label for every example"
   ]
  },
  {
   "cell_type": "code",
   "execution_count": 5,
   "metadata": {
    "ExecuteTime": {
     "end_time": "2018-06-05T19:51:48.515998Z",
     "start_time": "2018-06-05T19:51:48.508173Z"
    },
    "slideshow": {
     "slide_type": "fragment"
    }
   },
   "outputs": [],
   "source": [
    "# Define the training inputs\n",
    "train_input_fn = tf.estimator.inputs.numpy_input_fn(\n",
    "    x={\"x\": input(mnist.train)[0]},\n",
    "    y=input(mnist.train)[1],\n",
    "    num_epochs=None,\n",
    "    batch_size=50,\n",
    "    shuffle=True\n",
    ")"
   ]
  },
  {
   "cell_type": "markdown",
   "metadata": {},
   "source": [
    "## Train the neural network\n",
    "* Checkpoint used for \"warm start\"\n",
    "* Checkpoints saved"
   ]
  },
  {
   "cell_type": "code",
   "execution_count": 6,
   "metadata": {
    "ExecuteTime": {
     "end_time": "2018-06-05T19:52:20.034065Z",
     "start_time": "2018-06-05T19:51:49.814922Z"
    },
    "scrolled": true,
    "slideshow": {
     "slide_type": "subslide"
    }
   },
   "outputs": [
    {
     "name": "stdout",
     "output_type": "stream",
     "text": [
      "WARNING:tensorflow:From /Users/brianroepke/anaconda3/lib/python3.7/site-packages/tensorflow_core/python/training/training_util.py:236: Variable.initialized_value (from tensorflow.python.ops.variables) is deprecated and will be removed in a future version.\n",
      "Instructions for updating:\n",
      "Use Variable.read_value. Variables in 2.X are initialized automatically both in eager and graph (inside tf.defun) contexts.\n",
      "WARNING:tensorflow:From /Users/brianroepke/anaconda3/lib/python3.7/site-packages/tensorflow_estimator/python/estimator/inputs/queues/feeding_queue_runner.py:62: QueueRunner.__init__ (from tensorflow.python.training.queue_runner_impl) is deprecated and will be removed in a future version.\n",
      "Instructions for updating:\n",
      "To construct input pipelines, use the `tf.data` module.\n",
      "WARNING:tensorflow:From /Users/brianroepke/anaconda3/lib/python3.7/site-packages/tensorflow_estimator/python/estimator/inputs/queues/feeding_functions.py:500: add_queue_runner (from tensorflow.python.training.queue_runner_impl) is deprecated and will be removed in a future version.\n",
      "Instructions for updating:\n",
      "To construct input pipelines, use the `tf.data` module.\n",
      "INFO:tensorflow:Calling model_fn.\n",
      "WARNING:tensorflow:From /Users/brianroepke/anaconda3/lib/python3.7/site-packages/tensorflow_core/python/ops/resource_variable_ops.py:1630: calling BaseResourceVariable.__init__ (from tensorflow.python.ops.resource_variable_ops) with constraint is deprecated and will be removed in a future version.\n",
      "Instructions for updating:\n",
      "If using Keras pass *_constraint arguments to layers.\n",
      "WARNING:tensorflow:From /Users/brianroepke/anaconda3/lib/python3.7/site-packages/tensorflow_estimator/python/estimator/canned/head.py:437: to_float (from tensorflow.python.ops.math_ops) is deprecated and will be removed in a future version.\n",
      "Instructions for updating:\n",
      "Use `tf.cast` instead.\n",
      "INFO:tensorflow:Done calling model_fn.\n",
      "INFO:tensorflow:Create CheckpointSaverHook.\n",
      "WARNING:tensorflow:From /Users/brianroepke/anaconda3/lib/python3.7/site-packages/tensorflow_core/python/ops/array_ops.py:1475: where (from tensorflow.python.ops.array_ops) is deprecated and will be removed in a future version.\n",
      "Instructions for updating:\n",
      "Use tf.where in 2.0, which has the same broadcast rule as np.where\n",
      "INFO:tensorflow:Graph was finalized.\n",
      "INFO:tensorflow:Running local_init_op.\n",
      "INFO:tensorflow:Done running local_init_op.\n",
      "WARNING:tensorflow:From /Users/brianroepke/anaconda3/lib/python3.7/site-packages/tensorflow_core/python/training/monitored_session.py:882: start_queue_runners (from tensorflow.python.training.queue_runner_impl) is deprecated and will be removed in a future version.\n",
      "Instructions for updating:\n",
      "To construct input pipelines, use the `tf.data` module.\n",
      "INFO:tensorflow:Saving checkpoints for 0 into ./tmp/mnist_model_256_256/model.ckpt.\n",
      "INFO:tensorflow:loss = 122.352196, step = 1\n",
      "INFO:tensorflow:global_step/sec: 582.985\n",
      "INFO:tensorflow:loss = 75.907, step = 101 (0.158 sec)\n",
      "INFO:tensorflow:global_step/sec: 911.585\n",
      "INFO:tensorflow:loss = 37.163364, step = 201 (0.110 sec)\n",
      "INFO:tensorflow:global_step/sec: 909.677\n",
      "INFO:tensorflow:loss = 22.530092, step = 301 (0.110 sec)\n",
      "INFO:tensorflow:global_step/sec: 917.508\n",
      "INFO:tensorflow:loss = 20.422758, step = 401 (0.109 sec)\n",
      "INFO:tensorflow:global_step/sec: 914.804\n",
      "INFO:tensorflow:loss = 19.890423, step = 501 (0.109 sec)\n",
      "INFO:tensorflow:global_step/sec: 912.776\n",
      "INFO:tensorflow:loss = 17.397816, step = 601 (0.110 sec)\n",
      "INFO:tensorflow:global_step/sec: 916.497\n",
      "INFO:tensorflow:loss = 13.270736, step = 701 (0.109 sec)\n",
      "INFO:tensorflow:global_step/sec: 914.704\n",
      "INFO:tensorflow:loss = 13.994989, step = 801 (0.109 sec)\n",
      "INFO:tensorflow:global_step/sec: 916.505\n",
      "INFO:tensorflow:loss = 15.1668215, step = 901 (0.109 sec)\n",
      "INFO:tensorflow:global_step/sec: 883.743\n",
      "INFO:tensorflow:loss = 22.354641, step = 1001 (0.113 sec)\n",
      "INFO:tensorflow:global_step/sec: 736.817\n",
      "INFO:tensorflow:loss = 10.355931, step = 1101 (0.136 sec)\n",
      "INFO:tensorflow:global_step/sec: 899.832\n",
      "INFO:tensorflow:loss = 17.58639, step = 1201 (0.111 sec)\n",
      "INFO:tensorflow:global_step/sec: 909.346\n",
      "INFO:tensorflow:loss = 14.262019, step = 1301 (0.110 sec)\n",
      "INFO:tensorflow:global_step/sec: 901.683\n",
      "INFO:tensorflow:loss = 10.288651, step = 1401 (0.111 sec)\n",
      "INFO:tensorflow:global_step/sec: 907.02\n",
      "INFO:tensorflow:loss = 7.0944405, step = 1501 (0.110 sec)\n",
      "INFO:tensorflow:global_step/sec: 726.687\n",
      "INFO:tensorflow:loss = 15.248237, step = 1601 (0.138 sec)\n",
      "INFO:tensorflow:global_step/sec: 849.712\n",
      "INFO:tensorflow:loss = 14.052649, step = 1701 (0.118 sec)\n",
      "INFO:tensorflow:global_step/sec: 881.103\n",
      "INFO:tensorflow:loss = 4.9948335, step = 1801 (0.114 sec)\n",
      "INFO:tensorflow:global_step/sec: 850.103\n",
      "INFO:tensorflow:loss = 23.118994, step = 1901 (0.117 sec)\n",
      "INFO:tensorflow:global_step/sec: 813.464\n",
      "INFO:tensorflow:loss = 10.293085, step = 2001 (0.123 sec)\n",
      "INFO:tensorflow:global_step/sec: 844.992\n",
      "INFO:tensorflow:loss = 6.0673695, step = 2101 (0.118 sec)\n",
      "INFO:tensorflow:global_step/sec: 882.528\n",
      "INFO:tensorflow:loss = 13.467245, step = 2201 (0.113 sec)\n",
      "INFO:tensorflow:global_step/sec: 851.253\n",
      "INFO:tensorflow:loss = 17.381096, step = 2301 (0.117 sec)\n",
      "INFO:tensorflow:global_step/sec: 902.616\n",
      "INFO:tensorflow:loss = 4.2304034, step = 2401 (0.111 sec)\n",
      "INFO:tensorflow:global_step/sec: 898.021\n",
      "INFO:tensorflow:loss = 6.804101, step = 2501 (0.111 sec)\n",
      "INFO:tensorflow:global_step/sec: 862.71\n",
      "INFO:tensorflow:loss = 2.7794485, step = 2601 (0.116 sec)\n",
      "INFO:tensorflow:global_step/sec: 856.075\n",
      "INFO:tensorflow:loss = 11.575709, step = 2701 (0.117 sec)\n",
      "INFO:tensorflow:global_step/sec: 846.339\n",
      "INFO:tensorflow:loss = 12.086279, step = 2801 (0.118 sec)\n",
      "INFO:tensorflow:global_step/sec: 844.154\n",
      "INFO:tensorflow:loss = 9.5866, step = 2901 (0.119 sec)\n",
      "INFO:tensorflow:global_step/sec: 857.035\n",
      "INFO:tensorflow:loss = 8.945083, step = 3001 (0.117 sec)\n",
      "INFO:tensorflow:global_step/sec: 869.12\n",
      "INFO:tensorflow:loss = 4.8408694, step = 3101 (0.115 sec)\n",
      "INFO:tensorflow:global_step/sec: 903.727\n",
      "INFO:tensorflow:loss = 10.199697, step = 3201 (0.111 sec)\n",
      "INFO:tensorflow:global_step/sec: 902.511\n",
      "INFO:tensorflow:loss = 3.1018639, step = 3301 (0.111 sec)\n",
      "INFO:tensorflow:global_step/sec: 856.715\n",
      "INFO:tensorflow:loss = 24.89787, step = 3401 (0.117 sec)\n",
      "INFO:tensorflow:global_step/sec: 849.653\n",
      "INFO:tensorflow:loss = 10.225327, step = 3501 (0.118 sec)\n",
      "INFO:tensorflow:global_step/sec: 854.81\n",
      "INFO:tensorflow:loss = 4.7085967, step = 3601 (0.117 sec)\n",
      "INFO:tensorflow:global_step/sec: 848.819\n",
      "INFO:tensorflow:loss = 7.682711, step = 3701 (0.118 sec)\n",
      "INFO:tensorflow:global_step/sec: 848.852\n",
      "INFO:tensorflow:loss = 7.545241, step = 3801 (0.118 sec)\n",
      "INFO:tensorflow:global_step/sec: 853.424\n",
      "INFO:tensorflow:loss = 9.600762, step = 3901 (0.117 sec)\n",
      "INFO:tensorflow:global_step/sec: 859.395\n",
      "INFO:tensorflow:loss = 5.213242, step = 4001 (0.116 sec)\n",
      "INFO:tensorflow:global_step/sec: 846.768\n",
      "INFO:tensorflow:loss = 2.462674, step = 4101 (0.118 sec)\n",
      "INFO:tensorflow:global_step/sec: 844.716\n",
      "INFO:tensorflow:loss = 5.461619, step = 4201 (0.118 sec)\n",
      "INFO:tensorflow:global_step/sec: 829.84\n",
      "INFO:tensorflow:loss = 3.774906, step = 4301 (0.121 sec)\n",
      "INFO:tensorflow:global_step/sec: 831.464\n",
      "INFO:tensorflow:loss = 16.863947, step = 4401 (0.120 sec)\n",
      "INFO:tensorflow:global_step/sec: 850.81\n",
      "INFO:tensorflow:loss = 6.6037154, step = 4501 (0.117 sec)\n",
      "INFO:tensorflow:global_step/sec: 853.636\n",
      "INFO:tensorflow:loss = 6.973396, step = 4601 (0.117 sec)\n",
      "INFO:tensorflow:global_step/sec: 862.263\n",
      "INFO:tensorflow:loss = 8.421206, step = 4701 (0.116 sec)\n",
      "INFO:tensorflow:global_step/sec: 884.065\n",
      "INFO:tensorflow:loss = 8.932614, step = 4801 (0.113 sec)\n",
      "INFO:tensorflow:global_step/sec: 811.879\n",
      "INFO:tensorflow:loss = 2.8573873, step = 4901 (0.123 sec)\n",
      "INFO:tensorflow:global_step/sec: 840.788\n",
      "INFO:tensorflow:loss = 7.384852, step = 5001 (0.119 sec)\n",
      "INFO:tensorflow:global_step/sec: 842.495\n",
      "INFO:tensorflow:loss = 9.397658, step = 5101 (0.119 sec)\n",
      "INFO:tensorflow:global_step/sec: 852.546\n",
      "INFO:tensorflow:loss = 17.729128, step = 5201 (0.117 sec)\n",
      "INFO:tensorflow:global_step/sec: 832.444\n",
      "INFO:tensorflow:loss = 1.3564148, step = 5301 (0.120 sec)\n",
      "INFO:tensorflow:global_step/sec: 873.742\n",
      "INFO:tensorflow:loss = 3.5217054, step = 5401 (0.114 sec)\n",
      "INFO:tensorflow:global_step/sec: 874.005\n",
      "INFO:tensorflow:loss = 12.122827, step = 5501 (0.114 sec)\n",
      "INFO:tensorflow:global_step/sec: 862.694\n",
      "INFO:tensorflow:loss = 3.8737, step = 5601 (0.116 sec)\n",
      "INFO:tensorflow:global_step/sec: 809.617\n",
      "INFO:tensorflow:loss = 4.58045, step = 5701 (0.124 sec)\n",
      "INFO:tensorflow:global_step/sec: 858.51\n",
      "INFO:tensorflow:loss = 3.116948, step = 5801 (0.116 sec)\n",
      "INFO:tensorflow:global_step/sec: 907.022\n",
      "INFO:tensorflow:loss = 9.634555, step = 5901 (0.110 sec)\n",
      "INFO:tensorflow:global_step/sec: 910.414\n",
      "INFO:tensorflow:loss = 2.0939455, step = 6001 (0.110 sec)\n",
      "INFO:tensorflow:global_step/sec: 909.488\n",
      "INFO:tensorflow:loss = 5.4184427, step = 6101 (0.110 sec)\n",
      "INFO:tensorflow:global_step/sec: 911.262\n",
      "INFO:tensorflow:loss = 2.7328029, step = 6201 (0.110 sec)\n",
      "INFO:tensorflow:global_step/sec: 908.503\n",
      "INFO:tensorflow:loss = 2.214283, step = 6301 (0.110 sec)\n",
      "INFO:tensorflow:global_step/sec: 912.186\n",
      "INFO:tensorflow:loss = 2.312828, step = 6401 (0.110 sec)\n",
      "INFO:tensorflow:global_step/sec: 873.002\n",
      "INFO:tensorflow:loss = 4.8953924, step = 6501 (0.115 sec)\n",
      "INFO:tensorflow:global_step/sec: 864.253\n",
      "INFO:tensorflow:loss = 1.7473027, step = 6601 (0.116 sec)\n",
      "INFO:tensorflow:global_step/sec: 882.185\n",
      "INFO:tensorflow:loss = 4.7688184, step = 6701 (0.113 sec)\n",
      "INFO:tensorflow:global_step/sec: 905.749\n",
      "INFO:tensorflow:loss = 2.8209767, step = 6801 (0.110 sec)\n",
      "INFO:tensorflow:global_step/sec: 911.799\n",
      "INFO:tensorflow:loss = 4.3022966, step = 6901 (0.110 sec)\n",
      "INFO:tensorflow:global_step/sec: 909.301\n",
      "INFO:tensorflow:loss = 1.865227, step = 7001 (0.110 sec)\n",
      "INFO:tensorflow:global_step/sec: 908.57\n",
      "INFO:tensorflow:loss = 8.401726, step = 7101 (0.110 sec)\n",
      "INFO:tensorflow:global_step/sec: 906.52\n",
      "INFO:tensorflow:loss = 1.4530782, step = 7201 (0.110 sec)\n",
      "INFO:tensorflow:global_step/sec: 910.009\n",
      "INFO:tensorflow:loss = 4.317544, step = 7301 (0.110 sec)\n",
      "INFO:tensorflow:global_step/sec: 904.044\n",
      "INFO:tensorflow:loss = 1.7598766, step = 7401 (0.111 sec)\n",
      "INFO:tensorflow:global_step/sec: 906.453\n",
      "INFO:tensorflow:loss = 0.4917082, step = 7501 (0.110 sec)\n",
      "INFO:tensorflow:global_step/sec: 913.935\n",
      "INFO:tensorflow:loss = 2.2576995, step = 7601 (0.109 sec)\n",
      "INFO:tensorflow:global_step/sec: 868.569\n",
      "INFO:tensorflow:loss = 2.3919814, step = 7701 (0.115 sec)\n",
      "INFO:tensorflow:global_step/sec: 903.334\n",
      "INFO:tensorflow:loss = 6.639883, step = 7801 (0.111 sec)\n",
      "INFO:tensorflow:global_step/sec: 895.937\n",
      "INFO:tensorflow:loss = 15.173931, step = 7901 (0.112 sec)\n",
      "INFO:tensorflow:global_step/sec: 897.755\n",
      "INFO:tensorflow:loss = 2.5869339, step = 8001 (0.111 sec)\n",
      "INFO:tensorflow:global_step/sec: 910.131\n",
      "INFO:tensorflow:loss = 1.2826979, step = 8101 (0.110 sec)\n",
      "INFO:tensorflow:global_step/sec: 888.518\n",
      "INFO:tensorflow:loss = 1.2406902, step = 8201 (0.113 sec)\n",
      "INFO:tensorflow:global_step/sec: 902.389\n",
      "INFO:tensorflow:loss = 2.7699401, step = 8301 (0.111 sec)\n",
      "INFO:tensorflow:global_step/sec: 909.587\n",
      "INFO:tensorflow:loss = 3.7688413, step = 8401 (0.110 sec)\n",
      "INFO:tensorflow:global_step/sec: 911.512\n",
      "INFO:tensorflow:loss = 2.1098344, step = 8501 (0.110 sec)\n",
      "INFO:tensorflow:global_step/sec: 910.289\n",
      "INFO:tensorflow:loss = 2.1637468, step = 8601 (0.110 sec)\n",
      "INFO:tensorflow:global_step/sec: 909.232\n",
      "INFO:tensorflow:loss = 1.415092, step = 8701 (0.110 sec)\n",
      "INFO:tensorflow:global_step/sec: 902.641\n",
      "INFO:tensorflow:loss = 1.771824, step = 8801 (0.111 sec)\n",
      "INFO:tensorflow:global_step/sec: 907.177\n",
      "INFO:tensorflow:loss = 4.775972, step = 8901 (0.110 sec)\n",
      "INFO:tensorflow:global_step/sec: 908.314\n",
      "INFO:tensorflow:loss = 4.458814, step = 9001 (0.110 sec)\n",
      "INFO:tensorflow:global_step/sec: 909.275\n",
      "INFO:tensorflow:loss = 3.231226, step = 9101 (0.110 sec)\n",
      "INFO:tensorflow:global_step/sec: 904.247\n",
      "INFO:tensorflow:loss = 0.76474655, step = 9201 (0.111 sec)\n",
      "INFO:tensorflow:global_step/sec: 908.958\n",
      "INFO:tensorflow:loss = 1.2604077, step = 9301 (0.110 sec)\n",
      "INFO:tensorflow:global_step/sec: 916.599\n",
      "INFO:tensorflow:loss = 1.1726625, step = 9401 (0.109 sec)\n",
      "INFO:tensorflow:global_step/sec: 917.777\n",
      "INFO:tensorflow:loss = 1.2633861, step = 9501 (0.109 sec)\n",
      "INFO:tensorflow:global_step/sec: 915.617\n",
      "INFO:tensorflow:loss = 5.23247, step = 9601 (0.109 sec)\n",
      "INFO:tensorflow:global_step/sec: 916.768\n",
      "INFO:tensorflow:loss = 1.473948, step = 9701 (0.109 sec)\n",
      "INFO:tensorflow:global_step/sec: 896.435\n",
      "INFO:tensorflow:loss = 0.8817301, step = 9801 (0.112 sec)\n",
      "INFO:tensorflow:global_step/sec: 913.577\n",
      "INFO:tensorflow:loss = 6.2422605, step = 9901 (0.109 sec)\n",
      "INFO:tensorflow:Saving checkpoints for 10000 into ./tmp/mnist_model_256_256/model.ckpt.\n",
      "INFO:tensorflow:Loss for final step: 3.7672226.\n"
     ]
    },
    {
     "data": {
      "text/plain": [
       "<tensorflow_estimator.python.estimator.canned.dnn.DNNClassifier at 0x104d62c10>"
      ]
     },
     "execution_count": 6,
     "metadata": {},
     "output_type": "execute_result"
    }
   ],
   "source": [
    "tf.logging.set_verbosity(tf.logging.INFO)\n",
    "classifier.train(input_fn=train_input_fn, steps=10000)"
   ]
  },
  {
   "cell_type": "code",
   "execution_count": 7,
   "metadata": {
    "ExecuteTime": {
     "end_time": "2018-06-05T23:10:29.998938Z",
     "start_time": "2018-06-05T23:10:29.578963Z"
    },
    "slideshow": {
     "slide_type": "subslide"
    }
   },
   "outputs": [
    {
     "name": "stdout",
     "output_type": "stream",
     "text": [
      "-rw-r--r--  1 brianroepke  staff       16 Nov  2 08:08 model.ckpt-0.data-00000-of-00002\n",
      "-rw-r--r--  1 brianroepke  staff  3231864 Nov  2 08:08 model.ckpt-0.data-00001-of-00002\n",
      "-rw-r--r--  1 brianroepke  staff      839 Nov  2 08:08 model.ckpt-0.index\n",
      "-rw-r--r--  1 brianroepke  staff   175517 Nov  2 08:08 model.ckpt-0.meta\n",
      "-rw-r--r--  1 brianroepke  staff       16 Nov  2 08:08 model.ckpt-10000.data-00000-of-00002\n",
      "-rw-r--r--  1 brianroepke  staff  3231864 Nov  2 08:08 model.ckpt-10000.data-00001-of-00002\n",
      "-rw-r--r--  1 brianroepke  staff      839 Nov  2 08:08 model.ckpt-10000.index\n",
      "-rw-r--r--  1 brianroepke  staff      132 Nov  2 08:08 checkpoint\n",
      "-rw-r--r--  1 brianroepke  staff   175517 Nov  2 08:08 model.ckpt-10000.meta\n",
      "-rw-r--r--  1 brianroepke  staff  1131813 Nov  2 08:08 events.out.tfevents.1572707320.Brians-iMac.local\n"
     ]
    }
   ],
   "source": [
    "# Have a look at the checkpoint directory.\n",
    "!ls -lrt ./tmp/mnist_model_256_256/ | tail"
   ]
  },
  {
   "cell_type": "markdown",
   "metadata": {
    "slideshow": {
     "slide_type": "subslide"
    }
   },
   "source": [
    "## Define test input function"
   ]
  },
  {
   "cell_type": "code",
   "execution_count": 8,
   "metadata": {
    "ExecuteTime": {
     "end_time": "2018-06-05T19:53:13.190674Z",
     "start_time": "2018-06-05T19:53:13.182678Z"
    },
    "slideshow": {
     "slide_type": "fragment"
    }
   },
   "outputs": [],
   "source": [
    "test_input_fn = tf.estimator.inputs.numpy_input_fn(\n",
    "    x={\"x\": input(mnist.test)[0]},\n",
    "    y=input(mnist.test)[1],\n",
    "    num_epochs=1,\n",
    "    shuffle=False\n",
    ")"
   ]
  },
  {
   "cell_type": "markdown",
   "metadata": {
    "ExecuteTime": {
     "end_time": "2018-06-05T19:06:04.158220Z",
     "start_time": "2018-06-05T19:06:03.540885Z"
    },
    "slideshow": {
     "slide_type": "subslide"
    }
   },
   "source": [
    "## Evaluate accuracy"
   ]
  },
  {
   "cell_type": "code",
   "execution_count": 9,
   "metadata": {
    "ExecuteTime": {
     "end_time": "2018-06-05T19:53:15.521541Z",
     "start_time": "2018-06-05T19:53:14.970007Z"
    },
    "slideshow": {
     "slide_type": "fragment"
    }
   },
   "outputs": [
    {
     "name": "stdout",
     "output_type": "stream",
     "text": [
      "INFO:tensorflow:Calling model_fn.\n",
      "INFO:tensorflow:Done calling model_fn.\n",
      "INFO:tensorflow:Starting evaluation at 2019-11-02T08:08:59Z\n",
      "INFO:tensorflow:Graph was finalized.\n",
      "INFO:tensorflow:Restoring parameters from ./tmp/mnist_model_256_256/model.ckpt-10000\n",
      "INFO:tensorflow:Running local_init_op.\n",
      "INFO:tensorflow:Done running local_init_op.\n",
      "INFO:tensorflow:Finished evaluation at 2019-11-02-08:08:59\n",
      "INFO:tensorflow:Saving dict for global step 10000: accuracy = 0.9754, average_loss = 0.08156739, global_step = 10000, loss = 10.3249855\n",
      "INFO:tensorflow:Saving 'checkpoint_path' summary for global step 10000: ./tmp/mnist_model_256_256/model.ckpt-10000\n",
      "\n",
      "Test Accuracy: 97.539997%\n",
      "\n"
     ]
    }
   ],
   "source": [
    "accuracy_score = classifier.evaluate(input_fn=test_input_fn)[\"accuracy\"]\n",
    "print(\"\\nTest Accuracy: {0:f}%\\n\".format(accuracy_score*100))"
   ]
  },
  {
   "cell_type": "code",
   "execution_count": null,
   "metadata": {},
   "outputs": [],
   "source": []
  }
 ],
 "metadata": {
  "celltoolbar": "Slideshow",
  "kernelspec": {
   "display_name": "Python 3",
   "language": "python",
   "name": "python3"
  },
  "language_info": {
   "codemirror_mode": {
    "name": "ipython",
    "version": 3
   },
   "file_extension": ".py",
   "mimetype": "text/x-python",
   "name": "python",
   "nbconvert_exporter": "python",
   "pygments_lexer": "ipython3",
   "version": "3.7.5"
  },
  "toc": {
   "base_numbering": 1,
   "nav_menu": {},
   "number_sections": true,
   "sideBar": true,
   "skip_h1_title": false,
   "title_cell": "Table of Contents",
   "title_sidebar": "Contents",
   "toc_cell": false,
   "toc_position": {},
   "toc_section_display": true,
   "toc_window_display": false
  },
  "varInspector": {
   "cols": {
    "lenName": 16,
    "lenType": 16,
    "lenVar": 40
   },
   "kernels_config": {
    "python": {
     "delete_cmd_postfix": "",
     "delete_cmd_prefix": "del ",
     "library": "var_list.py",
     "varRefreshCmd": "print(var_dic_list())"
    },
    "r": {
     "delete_cmd_postfix": ") ",
     "delete_cmd_prefix": "rm(",
     "library": "var_list.r",
     "varRefreshCmd": "cat(var_dic_list()) "
    }
   },
   "types_to_exclude": [
    "module",
    "function",
    "builtin_function_or_method",
    "instance",
    "_Feature"
   ],
   "window_display": false
  }
 },
 "nbformat": 4,
 "nbformat_minor": 4
}
