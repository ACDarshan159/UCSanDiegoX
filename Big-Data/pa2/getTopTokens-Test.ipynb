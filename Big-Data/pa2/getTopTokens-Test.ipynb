{
 "cells": [
  {
   "cell_type": "code",
   "execution_count": 1,
   "metadata": {},
   "outputs": [],
   "source": [
    "%run '../spark_variables.ipynb'"
   ]
  },
  {
   "cell_type": "code",
   "execution_count": 2,
   "metadata": {},
   "outputs": [],
   "source": [
    "#start the SparkContext\n",
    "from pyspark import SparkContext\n",
    "\n",
    "sc = SparkContext()"
   ]
  },
  {
   "cell_type": "code",
   "execution_count": 3,
   "metadata": {},
   "outputs": [
    {
     "name": "stdout",
     "output_type": "stream",
     "text": [
      "Original RDD : [('111', {'c', 'a', 'b'}), ('111', {'a', 'b', 'd'}), ('222', {'a', 'b', 'e'}), ('333', {'a', 'g', 'd'})]\n",
      "After transformation :  [('111', {'a', 'c', 'b', 'd'}), ('222', {'a', 'b', 'e'}), ('333', {'a', 'g', 'd'})]\n"
     ]
    }
   ],
   "source": [
    "rdd2 = sc.parallelize([('111',{'a','b','c'}), ('111',{'a','b','d'}), ('222',{'a','b','e'}),('333',{'a','d','g'})])\n",
    "print(\"Original RDD :\", rdd2.collect())\n",
    "rdd3 = rdd2.reduceByKey(lambda a,b: a|b)\n",
    "print(\"After transformation : \", rdd3.collect())"
   ]
  },
  {
   "cell_type": "code",
   "execution_count": 4,
   "metadata": {},
   "outputs": [
    {
     "data": {
      "text/plain": [
       "[('111', 'c'),\n",
       " ('111', 'b'),\n",
       " ('111', 'a'),\n",
       " ('111', 'd'),\n",
       " ('222', 'a'),\n",
       " ('222', 'b'),\n",
       " ('222', 'e'),\n",
       " ('333', 'g'),\n",
       " ('333', 'a'),\n",
       " ('333', 'd')]"
      ]
     },
     "execution_count": 4,
     "metadata": {},
     "output_type": "execute_result"
    }
   ],
   "source": [
    "rdd4 = rdd3.flatMap(lambda x: ((x[0],y) for y in x[1]))\n",
    "rdd4.collect()"
   ]
  },
  {
   "cell_type": "code",
   "execution_count": 5,
   "metadata": {},
   "outputs": [
    {
     "data": {
      "text/plain": [
       "[('c', 1),\n",
       " ('b', 1),\n",
       " ('a', 1),\n",
       " ('d', 1),\n",
       " ('a', 1),\n",
       " ('b', 1),\n",
       " ('e', 1),\n",
       " ('g', 1),\n",
       " ('a', 1),\n",
       " ('d', 1)]"
      ]
     },
     "execution_count": 5,
     "metadata": {},
     "output_type": "execute_result"
    }
   ],
   "source": [
    "rdd5 = rdd4.map(lambda x: (x[1],1))\n",
    "rdd5.collect()"
   ]
  },
  {
   "cell_type": "code",
   "execution_count": 6,
   "metadata": {},
   "outputs": [
    {
     "data": {
      "text/plain": [
       "[('d', 2), ('c', 1), ('b', 2), ('g', 1), ('a', 3), ('e', 1)]"
      ]
     },
     "execution_count": 6,
     "metadata": {},
     "output_type": "execute_result"
    }
   ],
   "source": [
    "rdd6 = rdd5.reduceByKey(lambda x,y: x+y)\n",
    "rdd6.collect()"
   ]
  },
  {
   "cell_type": "code",
   "execution_count": 7,
   "metadata": {},
   "outputs": [
    {
     "data": {
      "text/plain": [
       "6"
      ]
     },
     "execution_count": 7,
     "metadata": {},
     "output_type": "execute_result"
    }
   ],
   "source": [
    "rdd6.count()"
   ]
  },
  {
   "cell_type": "markdown",
   "metadata": {},
   "source": [
    "### Find the top Number of Tokens"
   ]
  },
  {
   "cell_type": "code",
   "execution_count": 8,
   "metadata": {},
   "outputs": [
    {
     "name": "stdout",
     "output_type": "stream",
     "text": [
      "3\n",
      "[('a', 3), ('d', 2), ('b', 2)]\n"
     ]
    }
   ],
   "source": [
    "rdd7 = rdd6.filter(lambda x: x[1] >= 2).sortBy(lambda x: x[1],ascending=False).cache()\n",
    "\n",
    "freq = rdd7.count()\n",
    "\n",
    "top = rdd7.take(3)\n",
    "\n",
    "print(freq)\n",
    "print(top)"
   ]
  },
  {
   "cell_type": "code",
   "execution_count": 9,
   "metadata": {},
   "outputs": [],
   "source": [
    "sc.stop()"
   ]
  }
 ],
 "metadata": {
  "kernelspec": {
   "display_name": "Python 3",
   "language": "python",
   "name": "python3"
  },
  "language_info": {
   "codemirror_mode": {
    "name": "ipython",
    "version": 3
   },
   "file_extension": ".py",
   "mimetype": "text/x-python",
   "name": "python",
   "nbconvert_exporter": "python",
   "pygments_lexer": "ipython3",
   "version": "3.7.4"
  }
 },
 "nbformat": 4,
 "nbformat_minor": 4
}
