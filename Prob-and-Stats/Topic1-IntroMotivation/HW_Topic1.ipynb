{
 "cells": [
  {
   "cell_type": "markdown",
   "metadata": {
    "nbgrader": {
     "grade": false,
     "locked": false,
     "solution": false
    }
   },
   "source": [
    "<font size=\"4\" style=\"color:red;\"> **IMPORTANT: ** Only modify cells which have the following comment</font>\n",
    "\n",
    "```python\n",
    "# modify this cell\n",
    "```\n",
    "\n",
    "<font style=\"color:red;\"> Do not add any new cells when submitting homework. For Docker users, to test out new code, use the coding **scratchpad** by clicking the triangular icon in the bottom right corner of the screen. (**hotkey:** control-B)  </font>\n",
    "\n"
   ]
  },
  {
   "cell_type": "markdown",
   "metadata": {
    "nbgrader": {
     "grade": false,
     "locked": false,
     "solution": false
    }
   },
   "source": [
    "# Exercises:"
   ]
  },
  {
   "cell_type": "markdown",
   "metadata": {
    "nbgrader": {
     "grade": false,
     "locked": false,
     "solution": false
    }
   },
   "source": [
    "**Note: ** Make sure you have read the *What is Probability?* notebook before attempting these exercises."
   ]
  },
  {
   "cell_type": "markdown",
   "metadata": {
    "nbgrader": {
     "grade": false,
     "locked": false,
     "solution": false
    }
   },
   "source": [
    "In this excercise you will write code to estimate the probability that $n$ flips of a fair coin will result in number of `\"heads\"` between $k_1$ and $k_2$.\n",
    "\n",
    "You should write the body of two functions:\n",
    "1. <code><font color=\"blue\">seq_sum</font>(n)</code>: generates a random sequence of coin flips and counts the number of heads.\n",
    "2. <code><font color=\"blue\">estimate_prob</font>(n,k1,k2,m)</code>: Using calls to `seq_sum`, estimate the probability of the number of heads being between $k_1$ and $k_2$. \n"
   ]
  },
  {
   "cell_type": "markdown",
   "metadata": {
    "nbgrader": {
     "grade": false,
     "locked": false,
     "solution": false
    }
   },
   "source": [
    "### Notebook Setup:"
   ]
  },
  {
   "cell_type": "markdown",
   "metadata": {
    "nbgrader": {
     "grade": false,
     "locked": false,
     "solution": false
    }
   },
   "source": [
    "The folowing magic command downloads many python packages like *numpy* and allows the notebooks to plot graphs with *matplotlib*. \n",
    "\n",
    "<font color=\"red\">**DO NOT**</font> import other packages. You already have all the packages you need.\n"
   ]
  },
  {
   "cell_type": "code",
   "execution_count": 1,
   "metadata": {},
   "outputs": [
    {
     "name": "stdout",
     "output_type": "stream",
     "text": [
      "Populating the interactive namespace from numpy and matplotlib\n"
     ]
    }
   ],
   "source": [
    "%pylab inline"
   ]
  },
  {
   "cell_type": "markdown",
   "metadata": {},
   "source": [
    "Specifically, you can now use `random.rand(x)` which for some $x \\in N$ generates $x$ random numbers. You **will** use this command in your homework."
   ]
  },
  {
   "cell_type": "code",
   "execution_count": 2,
   "metadata": {},
   "outputs": [
    {
     "data": {
      "text/plain": [
       "0.1315736048745928"
      ]
     },
     "execution_count": 2,
     "metadata": {},
     "output_type": "execute_result"
    }
   ],
   "source": [
    "random.rand()"
   ]
  },
  {
   "cell_type": "code",
   "execution_count": 3,
   "metadata": {},
   "outputs": [
    {
     "data": {
      "text/plain": [
       "array([0.36799783, 0.4099847 , 0.0113745 , 0.13061104])"
      ]
     },
     "execution_count": 3,
     "metadata": {},
     "output_type": "execute_result"
    }
   ],
   "source": [
    "random.rand(4)"
   ]
  },
  {
   "cell_type": "markdown",
   "metadata": {},
   "source": [
    "##  Exercise 1:\n",
    "\n",
    "Write a function, <code><font color =\"blue\">seq_sum</font>(n)</code>, which generates $n$ random coin flips from a fair coin and then returns the number of heads. A fair coin is defined to be a coin where $P($heads$)=\\frac{1}{2}$ \n",
    "\n",
    "The output type should be a numpy integer, **hint:** use `random.rand()` \n",
    "\n",
    "<font  style=\"color:blue\"> * **Code:** *</font>\n",
    "```python\n",
    "x = seq_sum(100)\n",
    "print x\n",
    "print [seq_sum(2) for x in range(20)]\n",
    "```\n",
    "\n",
    "\n",
    "<font  style=\"color:magenta\"> * **Output:** *</font>\n",
    "```\n",
    "49\n",
    "[0, 1, 1, 1, 1, 2, 1, 2, 1, 1, 0, 0, 2, 1, 1, 1, 0, 0, 1, 1]\n",
    "```"
   ]
  },
  {
   "cell_type": "markdown",
   "metadata": {},
   "source": [
    "* Write your code for seq_sum in the cell below"
   ]
  },
  {
   "cell_type": "code",
   "execution_count": 19,
   "metadata": {},
   "outputs": [],
   "source": [
    "# modify this cell\n",
    "\n",
    "def seq_sum(n):\n",
    "    \"\"\" input: n, generate a sequence of n random coin flips\n",
    "        output: return the number of heads \n",
    "        Hint: For simplicity, use 1,0 to represent head,tails\n",
    "    \"\"\"\n",
    "    s = sum(random.rand(n)>0.5) \n",
    "    return s \n"
   ]
  },
  {
   "cell_type": "markdown",
   "metadata": {},
   "source": [
    "* if the following cell runs without error you receive some points."
   ]
  },
  {
   "cell_type": "code",
   "execution_count": 20,
   "metadata": {
    "nbgrader": {
     "grade": true,
     "grade_id": "ex1",
     "locked": true,
     "points": "5",
     "solution": false
    }
   },
   "outputs": [
    {
     "name": "stdout",
     "output_type": "stream",
     "text": [
      "52\n"
     ]
    }
   ],
   "source": [
    "# checking function \n",
    "\n",
    "x = seq_sum(100)\n",
    "print(x)\n",
    "assert unique([seq_sum(2) for x in  range(0,200)]).tolist() == [0, 1, 2]\n",
    "\n",
    "#\n",
    "# AUTOGRADER TEST - DO NOT REMOVE\n",
    "#\n"
   ]
  },
  {
   "cell_type": "markdown",
   "metadata": {},
   "source": [
    "## Exercise 2:\n",
    "\n",
    "Write a function, <code><font color=\"blue\">estimate_prob</font>(n,k1,k2,m)</code>, that uses <code><font color=\"blue\">seq_sum</font>(n)</code> to estimate the following probability:\n",
    "\n",
    "$$ P(\\; k_1 <= \\text{number of heads in $n$ flips} < k_2 ) $$\n",
    "\n",
    "The function should estimate the probability by running $m$ different trials of <code><font color=\"blue\">seq_sum</font>(n)</code>, probably using a *`for`* loop.\n",
    "\n",
    "In order to receive full credit **estimate_prob** <font color=\"red\">MUST</font> call **seq_sum** (aka: seq_sum is located inside the **estimate_prob** function)\n",
    "\n",
    "<font  style=\"color:blue\"> * **Code:** *</font>\n",
    "```python\n",
    "x = estimate_prob(100,45,55,1000)\n",
    "print(x)\n",
    "print type(x)\n",
    "```\n",
    "\n",
    "<font  style=\"color:magenta\"> * **Output:** *</font>\n",
    "```\n",
    "0.686\n",
    "<type 'float'>\n",
    "```"
   ]
  },
  {
   "cell_type": "code",
   "execution_count": 29,
   "metadata": {},
   "outputs": [],
   "source": [
    "# Modify this cell\n",
    "\n",
    "def estimate_prob(n,k1,k2,m):\n",
    "    \"\"\"Estimate the probability that n flips of a fair coin result in k1 to k2 heads\n",
    "         n: the number of coin flips (length of the sequence)\n",
    "         k1,k2: the trial is successful if the number of heads is \n",
    "                between k1 and k2-1\n",
    "         m: the number of trials (number of sequences of length n)\n",
    "         \n",
    "         output: the estimated probability \n",
    "         \"\"\"\n",
    "    count_yes = 0\n",
    "    count_no = 0\n",
    "\n",
    "    for i in range(m):\n",
    "        s = seq_sum(n)\n",
    "        if k1 <= s < k2:\n",
    "            count_yes += 1\n",
    "        else:\n",
    "            count_no += 1\n",
    "\n",
    "    return  count_yes / m\n"
   ]
  },
  {
   "cell_type": "code",
   "execution_count": 38,
   "metadata": {},
   "outputs": [
    {
     "name": "stdout",
     "output_type": "stream",
     "text": [
      "0.673\n"
     ]
    }
   ],
   "source": [
    "# this is a small sanity check\n",
    "# the true check for this function is further down\n",
    "\n",
    "# Original Values\n",
    "x = estimate_prob(100,45,55,1000)\n",
    "\n",
    "# From Test\n",
    "#x = estimate_prob(100,40,60,1000)\n",
    "print(x)\n",
    "assert 'float' in str(type(x))"
   ]
  },
  {
   "cell_type": "markdown",
   "metadata": {},
   "source": [
    "### Estimate vs. True Probability\n",
    "\n",
    "We can now check how to see how close these estimates are to the true probabilities."
   ]
  },
  {
   "cell_type": "markdown",
   "metadata": {},
   "source": [
    "### Helper Functions\n",
    "\n",
    "These helper functions are used to calculate the actual probabilities. They are used to test your code.\n",
    "\n",
    "It is not required that you understand how they work."
   ]
  },
  {
   "cell_type": "code",
   "execution_count": 39,
   "metadata": {
    "nbgrader": {
     "grade": false,
     "locked": true,
     "solution": false
    }
   },
   "outputs": [],
   "source": [
    "def calc_prob(n,k1,k2):\n",
    "    \"\"\"Calculate the probability using a normal approximation\"\"\"\n",
    "    n=float(n);k1=float(k1);k2=float(k2)\n",
    "    z1=(k1-0.5*n)/(sqrt(n)/2)\n",
    "    z2=(k2-0.5*n)/(sqrt(n)/2)\n",
    "    return (erf(z2/sqrt(2))-erf(z1/sqrt(2)))/2\n",
    "\n",
    "from math import erf,sqrt\n",
    "def evaluate(n,q1,q2,m,r=100):\n",
    "    \"\"\"Run calc_range many times and test whether the estimates are consistent with calc_prob\"\"\"\n",
    "    k1=int(q1*n)\n",
    "    k2=int(q2*n)\n",
    "    p=calc_prob(n,k1,k2)\n",
    "    std=sqrt(p*(1-p)/m)\n",
    "    print('computed prob=%5.3f, std=%5.3f'%(p,std))\n",
    "\n",
    "    L=[estimate_prob(n,k1,k2,m) for i in range(r)]\n",
    "    med=np.median(L)\n",
    "    print('ran estimator %d times, with parameters n=%d,k1=%d,k2=%d,m=%d'%(r,n,k1,k2,m))\n",
    "    print('median of estimates=%5.3f, error of median estimator=%5.3f, std= %f5.3'%(med,med-p,std))\n",
    "    return L,med,p,std,abs((med-p)/std)"
   ]
  },
  {
   "cell_type": "code",
   "execution_count": 40,
   "metadata": {
    "nbgrader": {
     "grade": false,
     "locked": true,
     "solution": false
    }
   },
   "outputs": [],
   "source": [
    "def test_report_assert(n,q1,q2,m,r=100):\n",
    "    k1=int(q1*n)\n",
    "    k2=int(q2*n)\n",
    "    L,med,p,std,norm_err=evaluate(n,q1,q2,m,r=100)\n",
    "    hist(L);\n",
    "    plot([p,p],plt.ylim(),'r',label='true prob')\n",
    "    plot([med,med],plt.ylim(),'k',label='median of %d estimates'%r)\n",
    "    mid_y=mean(plt.ylim())\n",
    "    plot([p-std,p+std],[mid_y,mid_y],'g',label='+-std')\n",
    "    legend();\n",
    "    print('normalized error of median=',norm_err,'should be <1.0')\n",
    "    title('r=%d,n=%d,k1=%d,k2=%d,m=%d,\\nnorm_err=%4.3f'%(r,n,k1,k2,m,norm_err))\n",
    "    assert norm_err<1.0"
   ]
  },
  {
   "cell_type": "markdown",
   "metadata": {},
   "source": [
    "### Testing your Functions"
   ]
  },
  {
   "cell_type": "markdown",
   "metadata": {},
   "source": [
    "* We now test your functions. The graphs below show how close your estimated probability is to the true probability for various values of $k_1$ and $k_2$. You can see that your answer is never exactly the correct probability. \n",
    "* For full credit, the code below must run without error."
   ]
  },
  {
   "cell_type": "code",
   "execution_count": 41,
   "metadata": {
    "nbgrader": {
     "grade": true,
     "grade_id": "ex2",
     "locked": true,
     "points": "5",
     "solution": false
    }
   },
   "outputs": [
    {
     "name": "stdout",
     "output_type": "stream",
     "text": [
      "#### test no. 1\n",
      "computed prob=0.954, std=0.021\n",
      "ran estimator 100 times, with parameters n=100,k1=40,k2=60,m=100\n",
      "median of estimates=0.950, error of median estimator=-0.004, std= 0.0208405.3\n",
      "normalized error of median= 0.21591965634481056 should be <1.0\n",
      "#### test no. 2\n",
      "computed prob=0.159, std=0.037\n",
      "ran estimator 100 times, with parameters n=100,k1=55,k2=100,m=100\n",
      "median of estimates=0.180, error of median estimator=0.021, std= 0.0365355.3\n",
      "normalized error of median= 0.5842204699465866 should be <1.0\n",
      "#### test no. 3\n",
      "computed prob=0.146, std=0.035\n",
      "ran estimator 100 times, with parameters n=100,k1=47,k2=49,m=100\n",
      "median of estimates=0.140, error of median estimator=-0.006, std= 0.0353595.3\n",
      "normalized error of median= 0.1834639088948734 should be <1.0\n",
      "#### test no. 4\n",
      "computed prob=1.000, std=0.000\n",
      "ran estimator 100 times, with parameters n=1000,k1=400,k2=600,m=100\n",
      "median of estimates=1.000, error of median estimator=0.000, std= 0.0000025.3\n",
      "normalized error of median= 0.0001593621193426113 should be <1.0\n",
      "#### test no. 5\n",
      "computed prob=0.001, std=0.003\n",
      "ran estimator 100 times, with parameters n=1000,k1=550,k2=1000,m=100\n",
      "median of estimates=0.000, error of median estimator=-0.001, std= 0.0027975.3\n",
      "normalized error of median= 0.27987751426889984 should be <1.0\n",
      "#### test no. 6\n",
      "computed prob=0.446, std=0.050\n",
      "ran estimator 100 times, with parameters n=1000,k1=470,k2=499,m=100\n",
      "median of estimates=0.430, error of median estimator=-0.016, std= 0.0497065.3\n",
      "normalized error of median= 0.31979175011881933 should be <1.0\n"
     ]
    },
    {
     "data": {
      "image/png": "[encoded data removed]",
      "text/plain": [
       "<Figure size 720x864 with 6 Axes>"
      ]
     },
     "metadata": {
      "needs_background": "light"
     },
     "output_type": "display_data"
    }
   ],
   "source": [
    "# checking functions\n",
    "\n",
    "m=100\n",
    "i=1\n",
    "figure(figsize=[10,12])\n",
    "for n in [100,1000]:\n",
    "    for q1,q2 in [(0.4,0.6),(0.55,1.00),(0.47,0.499)]:\n",
    "        fig=subplot(3,2,i)\n",
    "        print('#### test no.',i)\n",
    "        i+=1\n",
    "        test_report_assert(n,q1,q2,m,r=100)\n",
    "tight_layout()"
   ]
  },
  {
   "cell_type": "code",
   "execution_count": 42,
   "metadata": {
    "nbgrader": {
     "grade": true,
     "grade_id": "ex3",
     "locked": true,
     "points": "5",
     "solution": false
    }
   },
   "outputs": [
    {
     "name": "stdout",
     "output_type": "stream",
     "text": [
      "all good!\n"
     ]
    },
    {
     "name": "stderr",
     "output_type": "stream",
     "text": [
      "/Users/roepkeb/anaconda3/lib/python3.7/site-packages/ipykernel_launcher.py:14: DeprecationWarning: Calling np.sum(generator) is deprecated, and in the future will give a different result. Use np.sum(np.from_iter(generator)) or the python sum builtin instead.\n",
      "  \n"
     ]
    }
   ],
   "source": [
    "# checking functions \n",
    "\n",
    "def seq_sum(n):\n",
    "    #Log.append(n)\n",
    "    s=sum(random.rand(n)>0.5)\n",
    "    Log.append((n,s))\n",
    "    return s\n",
    "\n",
    "n,k1,k2,m = 100,45,50,1000\n",
    "for r in range(10):\n",
    "    Log=[]\n",
    "    a=estimate_prob(n,k1,k2,m)\n",
    "    b=float(sum([(s>=k1 and s<k2) for n,s in Log]))/m\n",
    "    n_correct=sum(nn==100 for nn,s in Log)\n",
    "    assert a==b, \"estimate is incorrect. should be %4f, instead is %4f\"%(b,a)\n",
    "    assert m==len(Log), 'should call seq_sum %d times, called it %d times'%(m,len(Log))\n",
    "    assert m==n_correct, 'the parameter n should be %d but sometimes it was not.'%n\n",
    "    \n",
    "print(\"all good!\")"
   ]
  },
  {
   "cell_type": "code",
   "execution_count": null,
   "metadata": {},
   "outputs": [],
   "source": [
    "\n",
    "\n",
    "\n",
    "\n",
    "\n"
   ]
  },
  {
   "cell_type": "code",
   "execution_count": null,
   "metadata": {},
   "outputs": [],
   "source": []
  }
 ],
 "metadata": {
  "kernelspec": {
   "display_name": "Python 3",
   "language": "python",
   "name": "python3"
  },
  "language_info": {
   "codemirror_mode": {
    "name": "ipython",
    "version": 3
   },
   "file_extension": ".py",
   "mimetype": "text/x-python",
   "name": "python",
   "nbconvert_exporter": "python",
   "pygments_lexer": "ipython3",
   "version": "3.7.1"
  },
  "latex_envs": {
   "LaTeX_envs_menu_present": true,
   "autoclose": false,
   "autocomplete": true,
   "bibliofile": "biblio.bib",
   "cite_by": "apalike",
   "current_citInitial": 1.0,
   "eqLabelWithNumbers": true,
   "eqNumInitial": 1.0,
   "hotkeys": {
    "equation": "Ctrl-E",
    "itemize": "Ctrl-I"
   },
   "labels_anchors": false,
   "latex_user_defs": false,
   "report_style_numbering": false,
   "user_envs_cfg": false
  },
  "toc": {
   "colors": {
    "hover_highlight": "#DAA520",
    "navigate_num": "#000000",
    "navigate_text": "#333333",
    "running_highlight": "#FF0000",
    "selected_highlight": "#FFD700",
    "sidebar_border": "#EEEEEE",
    "wrapper_background": "#FFFFFF"
   },
   "moveMenuLeft": true,
   "nav_menu": {
    "height": "138px",
    "width": "252px"
   },
   "navigate_menu": true,
   "number_sections": true,
   "sideBar": true,
   "threshold": 4.0,
   "toc_cell": false,
   "toc_section_display": "block",
   "toc_window_display": false,
   "widenNotebook": false
  },
  "varInspector": {
   "cols": {
    "lenName": 16.0,
    "lenType": 16.0,
    "lenVar": 40.0
   },
   "kernels_config": {
    "python": {
     "delete_cmd_postfix": "",
     "delete_cmd_prefix": "del ",
     "library": "var_list.py",
     "varRefreshCmd": "print(var_dic_list())"
    },
    "r": {
     "delete_cmd_postfix": ") ",
     "delete_cmd_prefix": "rm(",
     "library": "var_list.r",
     "varRefreshCmd": "cat(var_dic_list()) "
    }
   },
   "types_to_exclude": [
    "module",
    "function",
    "builtin_function_or_method",
    "instance",
    "_Feature"
   ],
   "window_display": false
  }
 },
 "nbformat": 4,
 "nbformat_minor": 2
}
