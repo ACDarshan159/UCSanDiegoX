{
 "cells": [
  {
   "cell_type": "code",
   "execution_count": 1,
   "metadata": {},
   "outputs": [],
   "source": [
    "from itertools import product"
   ]
  },
  {
   "cell_type": "markdown",
   "metadata": {},
   "source": [
    "## LaTeX Symbols for Sets\n",
    "\n",
    "The following can be used to add notation to your notebooks using `LaTeX`"
   ]
  },
  {
   "cell_type": "markdown",
   "metadata": {},
   "source": [
    "### Operators\n",
    "* $\\{$ - Left Brace\n",
    "* $\\}$ - Right Brace\n",
    "* $\\Omega$ - Universe\n",
    "* $\\in$ - Element of\n",
    "* $\\notin$ - No an Element of\n",
    "* $\\emptyset$ - Empty Set\n",
    "* $\\subseteq$ - Subset\n",
    "* $\\subset$ - Strict Subset\n",
    "* $\\supseteq$ - Super Set\n",
    "* $\\supset$ - Strict Super Set\n",
    "* $\\cup$ - Union\n",
    "* $\\cap$ - Intersection\n",
    "* $\\vartriangle$ - Symmetrical Difference\n",
    "* $A^c$ - Compliment (A)\n",
    "* $=$ - Equal\n",
    "* $\\ne$ - Not Equal\n",
    "* $\\times$ - Cartesian Product\n",
    "* $|A|$ - Size of the Set / Cardinality (Len in Python)\n",
    "\n",
    "### Numbers\n",
    "* $\\mathbb{N}$ - Natural Numbers\n",
    "* $\\mathbb{Z}$ - Integers\n",
    "* $\\mathbb{Q}$ - Rational Numbers\n",
    "* $\\mathbb{R}$ - Real Numbers\n",
    "* $\\mathbb{C}$ - Complex Numbers\n",
    "* $\\mathbb{U}$ - Universal Set\n",
    "* $\\infty$ - Infinity\n",
    "* $\\to$ - Maps To\n",
    "\n",
    "For More See: https://en.wikipedia.org/wiki/List_of_mathematical_symbols"
   ]
  },
  {
   "cell_type": "markdown",
   "metadata": {},
   "source": [
    "### Examples\n",
    "* **Unions and Compliments:** $(A\\cup B)^c = A^c\\cap B^c$\n",
    "* **Element Set:** $x\\in\\mathbb{N}| x^2+x-2=1$\n",
    "* **Cartesean Products:** $A\\times B = \\{(a,b) : a\\in B, b\\in B\\}$\n",
    "* **DeMorgan's Law:** $(A\\cap B)^c = (A\\cup B)^c$\n",
    "* **Disjoint A & B Sizes:** $|A| \\cup |B| = |A| + |B|$\n",
    "* **Integer Multiples:** $|_3(9)|=\\lfloor 9/3 \\rfloor = 3$ *(9 / 3 and take the floor)*"
   ]
  },
  {
   "cell_type": "markdown",
   "metadata": {},
   "source": [
    "## Cartesean Products\n",
    "\n",
    "Using `product` from `itertools`, you can print out the matrix for catesean products"
   ]
  },
  {
   "cell_type": "code",
   "execution_count": 3,
   "metadata": {},
   "outputs": [
    {
     "name": "stdout",
     "output_type": "stream",
     "text": [
      "('J', '♣')\n",
      "('J', '♦')\n",
      "('J', '♠')\n",
      "('J', '♥')\n",
      "('Q', '♣')\n",
      "('Q', '♦')\n",
      "('Q', '♠')\n",
      "('Q', '♥')\n",
      "('A', '♣')\n",
      "('A', '♦')\n",
      "('A', '♠')\n",
      "('A', '♥')\n",
      "('K', '♣')\n",
      "('K', '♦')\n",
      "('K', '♠')\n",
      "('K', '♥')\n"
     ]
    }
   ],
   "source": [
    "Faces = set({'J', 'Q', 'K', 'A'})\n",
    "Suits = {'\\u2660', '\\u2663', \"\\u2665\", '\\u2666'}\n",
    "\n",
    "for i in product(Faces,Suits):\n",
    "    print(i)"
   ]
  },
  {
   "cell_type": "code",
   "execution_count": null,
   "metadata": {},
   "outputs": [],
   "source": []
  }
 ],
 "metadata": {
  "kernelspec": {
   "display_name": "Python 3",
   "language": "python",
   "name": "python3"
  },
  "language_info": {
   "codemirror_mode": {
    "name": "ipython",
    "version": 3
   },
   "file_extension": ".py",
   "mimetype": "text/x-python",
   "name": "python",
   "nbconvert_exporter": "python",
   "pygments_lexer": "ipython3",
   "version": "3.7.1"
  }
 },
 "nbformat": 4,
 "nbformat_minor": 2
}
