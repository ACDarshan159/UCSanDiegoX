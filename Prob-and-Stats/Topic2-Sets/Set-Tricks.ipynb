{
 "cells": [
  {
   "cell_type": "markdown",
   "metadata": {},
   "source": [
    "## LaTeX Symbols for Sets\n",
    "\n",
    "The following can be used to add notation to your notebooks using LaTeX"
   ]
  },
  {
   "cell_type": "markdown",
   "metadata": {},
   "source": [
    "* $\\{$ - Left Brace\n",
    "* $\\}$ - Right Brace\n",
    "* $\\in$ - Element of\n",
    "* $\\not$ .   - Not In\n",
    "* $\\mid$ - Such That\n",
    "* $\\setminus$\n",
    "* $\\emptyset$ - Empty Set\n",
    "* $\\mathbb{N}$ - Natural Numbers\n",
    "* $\\mathbb{Z}$ - Integers\n",
    "* $\\mathbb{Q}$ - Rational Numbers\n",
    "* $\\mathbb{R}$ - Real Numbers\n",
    "* $\\mathbb{C}$ - Complex Numbers\n",
    "* $\\mathbb{U}$ - Universal Set\n",
    "* $\\cup$ - Union\n",
    "* $\\cap$ - Intersection\n",
    "* $\\overline{S}$\n",
    "* $\\infty$ - Infinity\n",
    "* $\\to$ - Maps To\n",
    "\n",
    "For More See: https://en.wikipedia.org/wiki/List_of_mathematical_symbols"
   ]
  },
  {
   "cell_type": "markdown",
   "metadata": {},
   "source": [
    "## Cartesean Products\n",
    "\n",
    "Using `product` from `itertools`, you can print out the matrix for catesean products"
   ]
  },
  {
   "cell_type": "code",
   "execution_count": 10,
   "metadata": {},
   "outputs": [
    {
     "name": "stdout",
     "output_type": "stream",
     "text": [
      "('Q', '♣')\n",
      "('Q', '♥')\n",
      "('Q', '♦')\n",
      "('Q', '♠')\n",
      "('J', '♣')\n",
      "('J', '♥')\n",
      "('J', '♦')\n",
      "('J', '♠')\n",
      "('K', '♣')\n",
      "('K', '♥')\n",
      "('K', '♦')\n",
      "('K', '♠')\n"
     ]
    }
   ],
   "source": [
    "from itertools import product\n",
    "\n",
    "Faces = set({'J', 'Q', 'K'})\n",
    "Suits = {'\\u2660', \"\\u2663\", \"\\u2665\", \"\\u2666\"}\n",
    "\n",
    "for i in product(Faces,Suits):\n",
    "    print(i)"
   ]
  },
  {
   "cell_type": "code",
   "execution_count": null,
   "metadata": {},
   "outputs": [],
   "source": []
  }
 ],
 "metadata": {
  "kernelspec": {
   "display_name": "Python 3",
   "language": "python",
   "name": "python3"
  },
  "language_info": {
   "codemirror_mode": {
    "name": "ipython",
    "version": 3
   },
   "file_extension": ".py",
   "mimetype": "text/x-python",
   "name": "python",
   "nbconvert_exporter": "python",
   "pygments_lexer": "ipython3",
   "version": "3.7.1"
  }
 },
 "nbformat": 4,
 "nbformat_minor": 2
}
