{
 "cells": [
  {
   "cell_type": "markdown",
   "metadata": {},
   "source": [
    "# Hypothesis Testing "
   ]
  },
  {
   "cell_type": "markdown",
   "metadata": {},
   "source": [
    "In the past lectures we have looked at how to estimate parameters and statistical measures such as sample mean and variance. Hypothesis testing is a method by which we can quantify the quality of our estimates. An important step in this method is defining the null and alternate hypothesis clearly. By doing so we can exactly interpret the results of the test."
   ]
  },
  {
   "cell_type": "code",
   "execution_count": 1,
   "metadata": {},
   "outputs": [],
   "source": [
    "import ipywidgets as widgets\n",
    "from IPython.display import display\n",
    "import numpy as np\n",
    "import matplotlib.pyplot as plt\n",
    "from scipy.stats import binom"
   ]
  },
  {
   "cell_type": "markdown",
   "metadata": {},
   "source": [
    "We can use hypothesis testing to see whether a coin is biased or not. Given a coin we can toss it $n$ times and count the number of heads we get. The null hypothesis is that the coins are unbiased, which means, $P(Heads)=P(Tails)=0.5$. The code below displays critical values for different alternate hypothesis. You can vary $n$ and significance level and see the change in the critical values."
   ]
  },
  {
   "cell_type": "code",
   "execution_count": 2,
   "metadata": {},
   "outputs": [
    {
     "data": {
      "application/vnd.jupyter.widget-view+json": {
       "model_id": "859f52aef1a04300a105bd308e3ccac4",
       "version_major": 2,
       "version_minor": 0
      },
      "text/plain": [
       "interactive(children=(IntSlider(value=20, description='n', min=10, step=5, style=SliderStyle(description_width…"
      ]
     },
     "metadata": {},
     "output_type": "display_data"
    },
    {
     "data": {
      "text/plain": [
       "<function __main__.hypothesisTesting(n, option, sig_level)>"
      ]
     },
     "metadata": {},
     "output_type": "display_data"
    }
   ],
   "source": [
    " def hypothesisTesting(n,option,sig_level):\n",
    "    pmf = binom.pmf(range(n+1),n=n,p=0.5)\n",
    "    plt.figure(figsize=(12,8))\n",
    "    plt.plot(range(n+1),pmf)\n",
    "    plt.xlabel(\"Number of Heads\",fontsize=18)\n",
    "    plt.ylabel(\"Probability\",fontsize=18)\n",
    "    plt.title(\"The Binomial distribution under the null hypothesis\",fontsize=18)\n",
    "    plt.show()\n",
    "    if option==\"p > 0.5\":\n",
    "        k=binom.ppf(1-sig_level,n=n,p=0.5)\n",
    "        print(\"Reject null hypothesis if number of heads is more than {}\".format(k))\n",
    "    elif option==\"p < 0.5\":\n",
    "        k = binom.ppf(sig_level,n=n,p=0.5)-1\n",
    "        print(\"Reject null hypothesis if number of heads is less than {}\".format(k+1))\n",
    "    elif option==\"p ≠ 0\":\n",
    "        k1 = binom.ppf(1-sig_level/2,n=n,p=0.5)+1\n",
    "        k2 = binom.ppf(sig_level/2,n=n,p=0.5)-1\n",
    "        print(\"Reject null hypothesis if number of heads lies outside {} and {}\".format(k2,k1))\n",
    "\n",
    "style = {'description_width': 'initial'}\n",
    "w_opt = widgets.Dropdown(options=[\"p > 0.5\",\"p < 0.5\",\"p ≠ 0\"],description=\"Alternate Hypothesis:\",style=style)\n",
    "w_sig_level =  widgets.FloatSlider(value =0.05, min = 0., max = 0.5 , step=0.05, description=\"Significance level:\",style=style)\n",
    "w_n = widgets.IntSlider(value = 20, min = 10, max = 100, step = 5, style = style)\n",
    "v = widgets.interact(hypothesisTesting,n=w_n,option = w_opt,sig_level=w_sig_level)\n",
    "display(v)"
   ]
  },
  {
   "cell_type": "markdown",
   "metadata": {},
   "source": [
    "# Z-Test"
   ]
  },
  {
   "cell_type": "code",
   "execution_count": 3,
   "metadata": {},
   "outputs": [],
   "source": [
    "import numpy as np\n",
    "from scipy.stats import norm,t"
   ]
  },
  {
   "cell_type": "markdown",
   "metadata": {},
   "source": [
    "Many a times we draw samples from the real world, and it is a common practice to assume the distribution to be Gaussian. In this section we will use the z-test to test this hypothesis.\n",
    "\n",
    "Consider a random variable $X$ given by\n",
    "$$X = Y*Z_1+(1-Y)*Z_2$$\n",
    "Where $Y$ is a Bernoulli random variable ,and $Z_1$ and $Z_2$ are Gaussian random variables.Sampling $X$ is same as sampling $Z_1$ or $Z_2$ with probability $p$ and $1-p$ respectively.These kinds of models are called Gaussian Mixture Models. The following code generates a sample of $X$."
   ]
  },
  {
   "cell_type": "code",
   "execution_count": 4,
   "metadata": {},
   "outputs": [],
   "source": [
    "def sample(p = 0.5):\n",
    "    Y = np.random.rand(1)\n",
    "    if Y>=p:\n",
    "        return np.random.normal(10,2)\n",
    "    else:\n",
    "        return np.random.normal(12,2)"
   ]
  },
  {
   "cell_type": "markdown",
   "metadata": {},
   "source": [
    "To see what the distribution of $X$ looks like, let us generate 10000 samples and plot an estiamte of the distribution. "
   ]
  },
  {
   "cell_type": "code",
   "execution_count": 5,
   "metadata": {},
   "outputs": [
    {
     "data": {
      "image/png": "[encoded data removed]",
      "text/plain": [
       "<Figure size 864x576 with 1 Axes>"
      ]
     },
     "metadata": {
      "needs_background": "light"
     },
     "output_type": "display_data"
    }
   ],
   "source": [
    "plt.figure(figsize=(12,8))\n",
    "plt.hist(np.asarray([sample(0.2) for _ in range(10000)]),50,density=True)\n",
    "plt.xlabel(\"X\",fontsize=18)\n",
    "plt.ylabel(\"Probability\",fontsize=18)\n",
    "plt.show()"
   ]
  },
  {
   "cell_type": "markdown",
   "metadata": {},
   "source": [
    "The null hypothesis is that the $X$ is a Gaussian random variable with mean 10, the variance of this distribution is given as 4.The code given below allows us to vary the number of samples and calculate the p-values, for different cases of alternate hypothesis. Observe how the p-value changes with the number of samples."
   ]
  },
  {
   "cell_type": "code",
   "execution_count": 6,
   "metadata": {},
   "outputs": [
    {
     "data": {
      "application/vnd.jupyter.widget-view+json": {
       "model_id": "6c702be683c24bd28d47334a477a12a7",
       "version_major": 2,
       "version_minor": 0
      },
      "text/plain": [
       "interactive(children=(IntSlider(value=20, description='n', max=1000, min=10, step=10), Dropdown(description='T…"
      ]
     },
     "metadata": {},
     "output_type": "display_data"
    },
    {
     "data": {
      "text/plain": [
       "<function __main__.Z_test(n, test_type)>"
      ]
     },
     "metadata": {},
     "output_type": "display_data"
    }
   ],
   "source": [
    "def Z_test(n,test_type):\n",
    "    samples = np.asarray([sample(0.2) for _ in range(n)])\n",
    "    sample_mean = np.mean(samples)\n",
    "    print(\"Sample mean:{:.4f}\".format(sample_mean))\n",
    "    mean = 10\n",
    "    sigma = 2\n",
    "    z = (sample_mean - mean)*np.sqrt(n)/sigma\n",
    "    print(\"z-score:{:.4f}\".format(z))\n",
    "    if test_type==\"μ > μ under null hypothesis\":\n",
    "        p = 1 - norm.cdf(z)\n",
    "        print(\"p-value: {:.6f}\".format(p))\n",
    "    #elif test_type==\"μ < μ under null hypothesis\":\n",
    "     #   p = norm.cdf(z)\n",
    "      #  print(\"p-value : {}\".format(p))\n",
    "    elif test_type==\"μ ≠ μ under null hypothesis\":\n",
    "        p = 2*(1-norm.cdf(np.abs(z)))\n",
    "        print(\"p-value: {}\".format(p))\n",
    "\n",
    "w_opt = widgets.Dropdown(\n",
    "    options=[\"μ > μ under null hypothesis\",\"μ < μ under null hypothesis\",\"μ ≠ μ under null hypothesis\"],\n",
    "    description = \"Test type\"\n",
    "    )\n",
    "w_n = widgets.IntSlider(value = 20, min = 10, max = 1000, step = 10)\n",
    "v = widgets.interact(Z_test,n=w_n,test_type = w_opt)\n",
    "display(v)"
   ]
  },
  {
   "cell_type": "markdown",
   "metadata": {},
   "source": [
    "# T-Test "
   ]
  },
  {
   "cell_type": "markdown",
   "metadata": {},
   "source": [
    "We do the same test, but now assume that we do not know the variance beforehand, so we use the t-statistic. Observe how the p-values change with the number of samples."
   ]
  },
  {
   "cell_type": "code",
   "execution_count": 7,
   "metadata": {},
   "outputs": [
    {
     "data": {
      "application/vnd.jupyter.widget-view+json": {
       "model_id": "011f5d990bf4445a832332668a45b138",
       "version_major": 2,
       "version_minor": 0
      },
      "text/plain": [
       "interactive(children=(IntSlider(value=20, description='n', max=1000, min=10, step=10), Dropdown(description='T…"
      ]
     },
     "metadata": {},
     "output_type": "display_data"
    },
    {
     "data": {
      "text/plain": [
       "<function __main__.T_test(n, test_type)>"
      ]
     },
     "metadata": {},
     "output_type": "display_data"
    }
   ],
   "source": [
    "def T_test(n,test_type):\n",
    "    samples = np.asarray([sample(0.2) for _ in range(n)])\n",
    "    sample_mean = np.mean(samples)\n",
    "    S = np.std(samples,ddof=1)\n",
    "    print(\"Sample mean:{:.4f}\".format(sample_mean))\n",
    "    mean = 10\n",
    "    t_score = (sample_mean - mean)*np.sqrt(n)/S\n",
    "    print(\"t-score:{:.4f}\".format(t_score))\n",
    "    if test_type==\"μ > μ under null hypothesis\":\n",
    "        p = 1 - t.cdf(t_score,n-1)\n",
    "        print(\"p-value: {:.6f}\".format(p))\n",
    "    # elif test_type==\"μ < μ under null hypothesis\":\n",
    "    #    p = t.cdf(t_score,n-1)\n",
    "    #    print(\"p-value : {}\".format(p))\n",
    "    elif test_type==\"μ ≠ μ under null hypothesis\":\n",
    "        p = 2*(1-t.cdf(np.abs(t_score,n-1)))\n",
    "        print(\"p-value: {}\".format(p))\n",
    "\n",
    "w_opt = widgets.Dropdown(\n",
    "    options=[\"μ > μ under null hypothesis\",\"μ < μ under null hypothesis\",\"μ ≠ μ under null hypothesis\"],\n",
    "    description = \"Test type\"\n",
    "    )\n",
    "w_n = widgets.IntSlider(value = 20, min = 10, max = 1000, step = 10)\n",
    "v = widgets.interact(T_test,n=w_n,test_type = w_opt)\n",
    "display(v)"
   ]
  }
 ],
 "metadata": {
  "kernelspec": {
   "display_name": "Python 3",
   "language": "python",
   "name": "python3"
  },
  "language_info": {
   "codemirror_mode": {
    "name": "ipython",
    "version": 3
   },
   "file_extension": ".py",
   "mimetype": "text/x-python",
   "name": "python",
   "nbconvert_exporter": "python",
   "pygments_lexer": "ipython3",
   "version": "3.7.2"
  },
  "toc": {
   "base_numbering": 1,
   "nav_menu": {},
   "number_sections": true,
   "sideBar": true,
   "skip_h1_title": false,
   "title_cell": "Table of Contents",
   "title_sidebar": "Contents",
   "toc_cell": false,
   "toc_position": {},
   "toc_section_display": true,
   "toc_window_display": false
  },
  "varInspector": {
   "cols": {
    "lenName": 16,
    "lenType": 16,
    "lenVar": 40
   },
   "kernels_config": {
    "python": {
     "delete_cmd_postfix": "",
     "delete_cmd_prefix": "del ",
     "library": "var_list.py",
     "varRefreshCmd": "print(var_dic_list())"
    },
    "r": {
     "delete_cmd_postfix": ") ",
     "delete_cmd_prefix": "rm(",
     "library": "var_list.r",
     "varRefreshCmd": "cat(var_dic_list()) "
    }
   },
   "types_to_exclude": [
    "module",
    "function",
    "builtin_function_or_method",
    "instance",
    "_Feature"
   ],
   "window_display": false
  }
 },
 "nbformat": 4,
 "nbformat_minor": 2
}
