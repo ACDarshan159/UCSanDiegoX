{
 "cells": [
  {
   "cell_type": "markdown",
   "metadata": {},
   "source": [
    "# Data Assignment\n",
    "\n",
    "## Introduction\n",
    "\n",
    "The Köppen–Geiger climate classification system is a common climate classification system. It classifies the climate of a region using 3 letters. The first represents the type of climate, the second indicates precipitation, and the third corresponds to temperature. For example, San Diego is classified as Bsh[1], where the B represents arid climate, s stand for dry summer, and h corresponds to hot. For the 3rd symbol to be h, the annual average temperature should be above 18ºC.\n",
    "\n",
    "## Dataset\n",
    "\n",
    "We will use the hourly weather dataset to consider temperature changes in the city.\n",
    "\n",
    "Note that the temperatures given in the dataset is in Kelvin. To convert from Kelvin to ºC use [ºC]=[K]-273.15"
   ]
  },
  {
   "cell_type": "code",
   "execution_count": 1,
   "metadata": {},
   "outputs": [],
   "source": [
    "import numpy as np\n",
    "import pandas as pd\n",
    "import matplotlib.pyplot as plt\n",
    "from scipy.stats import norm, t, sem, bayes_mvs, ttest_1samp\n",
    "%matplotlib inline\n",
    "%config InlineBackend.figure_format ='retina'"
   ]
  },
  {
   "cell_type": "code",
   "execution_count": 2,
   "metadata": {},
   "outputs": [],
   "source": [
    "weather = pd.read_csv('temperature.csv', sep=',')"
   ]
  },
  {
   "cell_type": "code",
   "execution_count": 3,
   "metadata": {},
   "outputs": [],
   "source": [
    "weather = weather.drop(columns=[(\"Vancouver\")])\n",
    "weather = weather.drop(columns=[(\"Portland\")])\n",
    "weather = weather.drop(columns=[(\"San Francisco\")])\n",
    "weather = weather.drop(columns=[(\"Seattle\")])\n",
    "weather = weather.drop(columns=[(\"Los Angeles\")])\n",
    "weather = weather.drop(columns=[(\"Las Vegas\")])\n",
    "weather = weather.drop(columns=[(\"Phoenix\")])\n",
    "weather = weather.drop(columns=[(\"Albuquerque\")])\n",
    "weather = weather.drop(columns=[(\"Denver\")])\n",
    "weather = weather.drop(columns=[(\"San Antonio\")])\n",
    "weather = weather.drop(columns=[(\"Dallas\")])\n",
    "weather = weather.drop(columns=[(\"Houston\")])\n",
    "weather = weather.drop(columns=[(\"Kansas City\")])\n",
    "weather = weather.drop(columns=[(\"Minneapolis\")])\n",
    "weather = weather.drop(columns=[(\"Saint Louis\")])\n",
    "weather = weather.drop(columns=[(\"Chicago\")])\n",
    "weather = weather.drop(columns=[(\"Nashville\")])\n",
    "weather = weather.drop(columns=[(\"Indianapolis\")])\n",
    "weather = weather.drop(columns=[(\"Jacksonville\")])\n",
    "weather = weather.drop(columns=[(\"Charlotte\")])\n",
    "weather = weather.drop(columns=[(\"Miami\")])\n",
    "weather = weather.drop(columns=[(\"Pittsburgh\")])\n",
    "weather = weather.drop(columns=[(\"Toronto\")])\n",
    "weather = weather.drop(columns=[(\"Philadelphia\")])\n",
    "weather = weather.drop(columns=[(\"New York\")])\n",
    "weather = weather.drop(columns=[(\"Montreal\")])\n",
    "weather = weather.drop(columns=[(\"Boston\")])\n",
    "weather = weather.drop(columns=[(\"Beersheba\")])\n",
    "weather = weather.drop(columns=[(\"Tel Aviv District\")])\n",
    "weather = weather.drop(columns=[(\"Eilat\")])\n",
    "weather = weather.drop(columns=[(\"Haifa\")])\n",
    "weather = weather.drop(columns=[(\"Nahariyya\")])\n",
    "weather = weather.drop(columns=[(\"Jerusalem\")])\n",
    "weather = weather.drop(columns=[(\"Atlanta\")])\n",
    "weather = weather.drop(columns=[(\"Detroit\")])"
   ]
  },
  {
   "cell_type": "code",
   "execution_count": 4,
   "metadata": {},
   "outputs": [],
   "source": [
    "# function to convert to celcius\n",
    "def celcius(x):\n",
    "    y = x - 273.15\n",
    "    return y"
   ]
  },
  {
   "cell_type": "code",
   "execution_count": 5,
   "metadata": {},
   "outputs": [],
   "source": [
    "weather['celcius'] = weather['San Diego'].apply(celcius)"
   ]
  },
  {
   "cell_type": "code",
   "execution_count": 6,
   "metadata": {},
   "outputs": [
    {
     "data": {
      "text/html": [
       "<div>\n",
       "<style scoped>\n",
       "    .dataframe tbody tr th:only-of-type {\n",
       "        vertical-align: middle;\n",
       "    }\n",
       "\n",
       "    .dataframe tbody tr th {\n",
       "        vertical-align: top;\n",
       "    }\n",
       "\n",
       "    .dataframe thead th {\n",
       "        text-align: right;\n",
       "    }\n",
       "</style>\n",
       "<table border=\"1\" class=\"dataframe\">\n",
       "  <thead>\n",
       "    <tr style=\"text-align: right;\">\n",
       "      <th></th>\n",
       "      <th>datetime</th>\n",
       "      <th>San Diego</th>\n",
       "      <th>celcius</th>\n",
       "    </tr>\n",
       "  </thead>\n",
       "  <tbody>\n",
       "    <tr>\n",
       "      <th>0</th>\n",
       "      <td>2012-10-01 12:00:00</td>\n",
       "      <td>NaN</td>\n",
       "      <td>NaN</td>\n",
       "    </tr>\n",
       "    <tr>\n",
       "      <th>1</th>\n",
       "      <td>2012-10-01 13:00:00</td>\n",
       "      <td>291.530000</td>\n",
       "      <td>18.380000</td>\n",
       "    </tr>\n",
       "    <tr>\n",
       "      <th>2</th>\n",
       "      <td>2012-10-01 14:00:00</td>\n",
       "      <td>291.533501</td>\n",
       "      <td>18.383501</td>\n",
       "    </tr>\n",
       "    <tr>\n",
       "      <th>3</th>\n",
       "      <td>2012-10-01 15:00:00</td>\n",
       "      <td>291.543355</td>\n",
       "      <td>18.393355</td>\n",
       "    </tr>\n",
       "    <tr>\n",
       "      <th>4</th>\n",
       "      <td>2012-10-01 16:00:00</td>\n",
       "      <td>291.553209</td>\n",
       "      <td>18.403209</td>\n",
       "    </tr>\n",
       "  </tbody>\n",
       "</table>\n",
       "</div>"
      ],
      "text/plain": [
       "              datetime   San Diego    celcius\n",
       "0  2012-10-01 12:00:00         NaN        NaN\n",
       "1  2012-10-01 13:00:00  291.530000  18.380000\n",
       "2  2012-10-01 14:00:00  291.533501  18.383501\n",
       "3  2012-10-01 15:00:00  291.543355  18.393355\n",
       "4  2012-10-01 16:00:00  291.553209  18.403209"
      ]
     },
     "execution_count": 6,
     "metadata": {},
     "output_type": "execute_result"
    }
   ],
   "source": [
    "weather.head()"
   ]
  },
  {
   "cell_type": "code",
   "execution_count": 7,
   "metadata": {},
   "outputs": [],
   "source": [
    "weather = weather.dropna()"
   ]
  },
  {
   "cell_type": "code",
   "execution_count": 8,
   "metadata": {},
   "outputs": [],
   "source": [
    "before = weather['datetime'] > '2016-01-01 00:00:00'"
   ]
  },
  {
   "cell_type": "code",
   "execution_count": 9,
   "metadata": {},
   "outputs": [],
   "source": [
    "before_weather = weather[before]"
   ]
  },
  {
   "cell_type": "code",
   "execution_count": 10,
   "metadata": {},
   "outputs": [],
   "source": [
    "after = before_weather['datetime'] < '2017-01-01 00:00:00'"
   ]
  },
  {
   "cell_type": "code",
   "execution_count": 11,
   "metadata": {},
   "outputs": [],
   "source": [
    "final_weather = before_weather[after]"
   ]
  },
  {
   "cell_type": "code",
   "execution_count": 12,
   "metadata": {},
   "outputs": [
    {
     "data": {
      "text/html": [
       "<div>\n",
       "<style scoped>\n",
       "    .dataframe tbody tr th:only-of-type {\n",
       "        vertical-align: middle;\n",
       "    }\n",
       "\n",
       "    .dataframe tbody tr th {\n",
       "        vertical-align: top;\n",
       "    }\n",
       "\n",
       "    .dataframe thead th {\n",
       "        text-align: right;\n",
       "    }\n",
       "</style>\n",
       "<table border=\"1\" class=\"dataframe\">\n",
       "  <thead>\n",
       "    <tr style=\"text-align: right;\">\n",
       "      <th></th>\n",
       "      <th>San Diego</th>\n",
       "      <th>celcius</th>\n",
       "    </tr>\n",
       "  </thead>\n",
       "  <tbody>\n",
       "    <tr>\n",
       "      <th>count</th>\n",
       "      <td>8783.000000</td>\n",
       "      <td>8783.000000</td>\n",
       "    </tr>\n",
       "    <tr>\n",
       "      <th>mean</th>\n",
       "      <td>290.747451</td>\n",
       "      <td>17.597451</td>\n",
       "    </tr>\n",
       "    <tr>\n",
       "      <th>std</th>\n",
       "      <td>5.603033</td>\n",
       "      <td>5.603033</td>\n",
       "    </tr>\n",
       "    <tr>\n",
       "      <th>min</th>\n",
       "      <td>274.274000</td>\n",
       "      <td>1.124000</td>\n",
       "    </tr>\n",
       "    <tr>\n",
       "      <th>25%</th>\n",
       "      <td>286.740000</td>\n",
       "      <td>13.590000</td>\n",
       "    </tr>\n",
       "    <tr>\n",
       "      <th>50%</th>\n",
       "      <td>290.220000</td>\n",
       "      <td>17.070000</td>\n",
       "    </tr>\n",
       "    <tr>\n",
       "      <th>75%</th>\n",
       "      <td>294.140000</td>\n",
       "      <td>20.990000</td>\n",
       "    </tr>\n",
       "    <tr>\n",
       "      <th>max</th>\n",
       "      <td>313.360000</td>\n",
       "      <td>40.210000</td>\n",
       "    </tr>\n",
       "  </tbody>\n",
       "</table>\n",
       "</div>"
      ],
      "text/plain": [
       "         San Diego      celcius\n",
       "count  8783.000000  8783.000000\n",
       "mean    290.747451    17.597451\n",
       "std       5.603033     5.603033\n",
       "min     274.274000     1.124000\n",
       "25%     286.740000    13.590000\n",
       "50%     290.220000    17.070000\n",
       "75%     294.140000    20.990000\n",
       "max     313.360000    40.210000"
      ]
     },
     "execution_count": 12,
     "metadata": {},
     "output_type": "execute_result"
    }
   ],
   "source": [
    "final_weather.describe()"
   ]
  },
  {
   "cell_type": "markdown",
   "metadata": {},
   "source": [
    "## Q1\n",
    "\n",
    "Using hypothesis testing, verify with 5% significance if the city of San Diego should have the 3rd symbol to be h according to the Köppen–Geiger climate classification system using temperature data from the year 2016."
   ]
  },
  {
   "cell_type": "code",
   "execution_count": 13,
   "metadata": {},
   "outputs": [
    {
     "data": {
      "text/plain": [
       "17.597451103602953"
      ]
     },
     "execution_count": 13,
     "metadata": {},
     "output_type": "execute_result"
    }
   ],
   "source": [
    "final_weather['celcius'].mean()"
   ]
  },
  {
   "cell_type": "markdown",
   "metadata": {},
   "source": [
    "## Q2\n",
    "\n",
    "Report the p-value for the above problem"
   ]
  },
  {
   "cell_type": "code",
   "execution_count": 14,
   "metadata": {},
   "outputs": [
    {
     "name": "stdout",
     "output_type": "stream",
     "text": [
      "p-value = 8.823670044681518e-12\n"
     ]
    }
   ],
   "source": [
    "mean_assumption = 18\n",
    "tt = ttest_1samp(final_weather['celcius'], mean_assumption)\n",
    "print('p-value =', tt[1]/2)"
   ]
  }
 ],
 "metadata": {
  "kernelspec": {
   "display_name": "Python 3",
   "language": "python",
   "name": "python3"
  },
  "language_info": {
   "codemirror_mode": {
    "name": "ipython",
    "version": 3
   },
   "file_extension": ".py",
   "mimetype": "text/x-python",
   "name": "python",
   "nbconvert_exporter": "python",
   "pygments_lexer": "ipython3",
   "version": "3.7.2"
  }
 },
 "nbformat": 4,
 "nbformat_minor": 2
}
