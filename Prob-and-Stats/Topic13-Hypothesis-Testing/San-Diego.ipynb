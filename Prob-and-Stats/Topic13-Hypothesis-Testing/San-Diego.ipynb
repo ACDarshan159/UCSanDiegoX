{
 "cells": [
  {
   "cell_type": "markdown",
   "metadata": {},
   "source": [
    "# Data Assignment\n",
    "\n",
    "## Introduction\n",
    "\n",
    "The Köppen–Geiger climate classification system is a common climate classification system. It classifies the climate of a region using 3 letters. The first represents the type of climate, the second indicates precipitation, and the third corresponds to temperature. For example, San Diego is classified as Bsh[1], where the B represents arid climate, s stand for dry summer, and h corresponds to hot. For the 3rd symbol to be h, the annual average temperature should be above 18ºC.\n",
    "\n",
    "## Dataset\n",
    "\n",
    "We will use the hourly weather dataset to consider temperature changes in the city.\n",
    "\n",
    "Note that the temperatures given in the dataset is in Kelvin. To convert from Kelvin to ºC use [ºC]=[K]-273.15"
   ]
  },
  {
   "cell_type": "code",
   "execution_count": 38,
   "metadata": {},
   "outputs": [],
   "source": [
    "import numpy as np\n",
    "import pandas as pd\n",
    "import matplotlib.pyplot as plt\n",
    "from scipy.stats import norm, t, sem, bayes_mvs, ttest_1samp\n",
    "%matplotlib inline\n",
    "%config InlineBackend.figure_format ='retina'"
   ]
  },
  {
   "cell_type": "code",
   "execution_count": 39,
   "metadata": {},
   "outputs": [],
   "source": [
    "weather = pd.read_csv('temperature.csv', sep=',')"
   ]
  },
  {
   "cell_type": "code",
   "execution_count": 40,
   "metadata": {},
   "outputs": [],
   "source": [
    "weather = weather.drop(columns=[(\"Vancouver\")])\n",
    "weather = weather.drop(columns=[(\"Portland\")])\n",
    "weather = weather.drop(columns=[(\"San Francisco\")])\n",
    "weather = weather.drop(columns=[(\"Seattle\")])\n",
    "weather = weather.drop(columns=[(\"Los Angeles\")])\n",
    "weather = weather.drop(columns=[(\"Las Vegas\")])\n",
    "weather = weather.drop(columns=[(\"Phoenix\")])\n",
    "weather = weather.drop(columns=[(\"Albuquerque\")])\n",
    "weather = weather.drop(columns=[(\"Denver\")])\n",
    "weather = weather.drop(columns=[(\"San Antonio\")])\n",
    "weather = weather.drop(columns=[(\"Dallas\")])\n",
    "weather = weather.drop(columns=[(\"Houston\")])\n",
    "weather = weather.drop(columns=[(\"Kansas City\")])\n",
    "weather = weather.drop(columns=[(\"Minneapolis\")])\n",
    "weather = weather.drop(columns=[(\"Saint Louis\")])\n",
    "weather = weather.drop(columns=[(\"Chicago\")])\n",
    "weather = weather.drop(columns=[(\"Nashville\")])\n",
    "weather = weather.drop(columns=[(\"Indianapolis\")])\n",
    "weather = weather.drop(columns=[(\"Jacksonville\")])\n",
    "weather = weather.drop(columns=[(\"Charlotte\")])\n",
    "weather = weather.drop(columns=[(\"Miami\")])\n",
    "weather = weather.drop(columns=[(\"Pittsburgh\")])\n",
    "weather = weather.drop(columns=[(\"Toronto\")])\n",
    "weather = weather.drop(columns=[(\"Philadelphia\")])\n",
    "weather = weather.drop(columns=[(\"New York\")])\n",
    "weather = weather.drop(columns=[(\"Montreal\")])\n",
    "weather = weather.drop(columns=[(\"Boston\")])\n",
    "weather = weather.drop(columns=[(\"Beersheba\")])\n",
    "weather = weather.drop(columns=[(\"Tel Aviv District\")])\n",
    "weather = weather.drop(columns=[(\"Eilat\")])\n",
    "weather = weather.drop(columns=[(\"Haifa\")])\n",
    "weather = weather.drop(columns=[(\"Nahariyya\")])\n",
    "weather = weather.drop(columns=[(\"Jerusalem\")])\n",
    "weather = weather.drop(columns=[(\"Atlanta\")])\n",
    "weather = weather.drop(columns=[(\"Detroit\")])"
   ]
  },
  {
   "cell_type": "code",
   "execution_count": 42,
   "metadata": {},
   "outputs": [],
   "source": [
    "# function to convert to celcius\n",
    "def celcius(x):\n",
    "    y = x - 273.15\n",
    "    return y"
   ]
  },
  {
   "cell_type": "code",
   "execution_count": 43,
   "metadata": {},
   "outputs": [],
   "source": [
    "weather['celcius'] = weather['San Diego'].apply(celcius)"
   ]
  },
  {
   "cell_type": "code",
   "execution_count": 44,
   "metadata": {},
   "outputs": [
    {
     "data": {
      "text/html": [
       "<div>\n",
       "<style scoped>\n",
       "    .dataframe tbody tr th:only-of-type {\n",
       "        vertical-align: middle;\n",
       "    }\n",
       "\n",
       "    .dataframe tbody tr th {\n",
       "        vertical-align: top;\n",
       "    }\n",
       "\n",
       "    .dataframe thead th {\n",
       "        text-align: right;\n",
       "    }\n",
       "</style>\n",
       "<table border=\"1\" class=\"dataframe\">\n",
       "  <thead>\n",
       "    <tr style=\"text-align: right;\">\n",
       "      <th></th>\n",
       "      <th>datetime</th>\n",
       "      <th>San Diego</th>\n",
       "      <th>celcius</th>\n",
       "    </tr>\n",
       "  </thead>\n",
       "  <tbody>\n",
       "    <tr>\n",
       "      <th>0</th>\n",
       "      <td>2012-10-01 12:00:00</td>\n",
       "      <td>NaN</td>\n",
       "      <td>NaN</td>\n",
       "    </tr>\n",
       "    <tr>\n",
       "      <th>1</th>\n",
       "      <td>2012-10-01 13:00:00</td>\n",
       "      <td>291.530000</td>\n",
       "      <td>18.380000</td>\n",
       "    </tr>\n",
       "    <tr>\n",
       "      <th>2</th>\n",
       "      <td>2012-10-01 14:00:00</td>\n",
       "      <td>291.533501</td>\n",
       "      <td>18.383501</td>\n",
       "    </tr>\n",
       "    <tr>\n",
       "      <th>3</th>\n",
       "      <td>2012-10-01 15:00:00</td>\n",
       "      <td>291.543355</td>\n",
       "      <td>18.393355</td>\n",
       "    </tr>\n",
       "    <tr>\n",
       "      <th>4</th>\n",
       "      <td>2012-10-01 16:00:00</td>\n",
       "      <td>291.553209</td>\n",
       "      <td>18.403209</td>\n",
       "    </tr>\n",
       "  </tbody>\n",
       "</table>\n",
       "</div>"
      ],
      "text/plain": [
       "              datetime   San Diego    celcius\n",
       "0  2012-10-01 12:00:00         NaN        NaN\n",
       "1  2012-10-01 13:00:00  291.530000  18.380000\n",
       "2  2012-10-01 14:00:00  291.533501  18.383501\n",
       "3  2012-10-01 15:00:00  291.543355  18.393355\n",
       "4  2012-10-01 16:00:00  291.553209  18.403209"
      ]
     },
     "execution_count": 44,
     "metadata": {},
     "output_type": "execute_result"
    }
   ],
   "source": [
    "weather.head()"
   ]
  },
  {
   "cell_type": "code",
   "execution_count": 52,
   "metadata": {},
   "outputs": [],
   "source": [
    "weather = weather.dropna()"
   ]
  },
  {
   "cell_type": "markdown",
   "metadata": {},
   "source": [
    "## Q1\n",
    "\n",
    "Using hypothesis testing, verify with 5% significance if the city of San Diego should have the 3rd symbol to be h according to the Köppen–Geiger climate classification system using temperature data from the year 2016."
   ]
  },
  {
   "cell_type": "code",
   "execution_count": 53,
   "metadata": {},
   "outputs": [
    {
     "name": "stdout",
     "output_type": "stream",
     "text": [
      "upper bounds = 18.900000000000002\n",
      "lower bounds = 17.099999999999998\n",
      "17.0650441652913\n"
     ]
    }
   ],
   "source": [
    "upper = 18 * 1.05\n",
    "lower = 18 * .95\n",
    "print('upper bounds =', upper)\n",
    "print('lower bounds =', lower)\n",
    "print(weather['celcius'].mean())"
   ]
  },
  {
   "cell_type": "markdown",
   "metadata": {},
   "source": [
    "**Answer** = False = The MEAN doesn't fall within 5% of 18 degrees"
   ]
  },
  {
   "cell_type": "markdown",
   "metadata": {},
   "source": [
    "## Q2\n",
    "\n",
    "Report the p-value for the above problem"
   ]
  },
  {
   "cell_type": "code",
   "execution_count": 58,
   "metadata": {},
   "outputs": [
    {
     "name": "stdout",
     "output_type": "stream",
     "text": [
      "t statistic = -33.76721696928075\n",
      "two sided test = 7.075853611047679e-247\n",
      "one sided test = 3.5379268055238393e-247\n"
     ]
    }
   ],
   "source": [
    "mean_assumption = 18\n",
    "tt = ttest_1samp(weather['celcius'], mean_assumption)\n",
    "print('t statistic =', tt[0])\n",
    "print('two sided test =', tt[1])\n",
    "print('one sided test =', tt[1]/2)"
   ]
  },
  {
   "cell_type": "code",
   "execution_count": 57,
   "metadata": {},
   "outputs": [
    {
     "data": {
      "text/plain": [
       "1        18.380000\n",
       "2        18.383501\n",
       "3        18.393355\n",
       "4        18.403209\n",
       "5        18.413063\n",
       "6        18.422917\n",
       "7        18.432772\n",
       "8        18.442626\n",
       "9        18.452480\n",
       "10       18.462334\n",
       "11       18.472188\n",
       "12       18.482042\n",
       "13       18.491896\n",
       "14       18.501750\n",
       "15       18.511605\n",
       "16       18.521459\n",
       "17       18.531313\n",
       "18       18.541167\n",
       "19       18.551021\n",
       "20       18.560875\n",
       "21       18.570729\n",
       "22       18.580583\n",
       "23       18.590438\n",
       "24       18.600292\n",
       "25       18.610146\n",
       "26       18.620000\n",
       "27       21.760000\n",
       "28       23.150000\n",
       "29       26.980000\n",
       "30       30.830000\n",
       "           ...    \n",
       "45223    16.690000\n",
       "45224    18.540000\n",
       "45225    18.610000\n",
       "45226    18.930000\n",
       "45227    16.932000\n",
       "45228    17.860000\n",
       "45229    17.250000\n",
       "45230    16.690000\n",
       "45231    15.280000\n",
       "45232    14.610000\n",
       "45233    13.990000\n",
       "45234    13.490000\n",
       "45235    13.450000\n",
       "45236    13.340000\n",
       "45237    13.490000\n",
       "45238    13.280000\n",
       "45239    12.630000\n",
       "45240    12.530000\n",
       "45241    11.910000\n",
       "45242    12.370000\n",
       "45243    12.130000\n",
       "45244    12.600000\n",
       "45245    14.450000\n",
       "45246    16.490000\n",
       "45247    17.780000\n",
       "45248    19.000000\n",
       "45249    19.590000\n",
       "45250    19.430000\n",
       "45251    19.460000\n",
       "45252    18.250000\n",
       "Name: celcius, Length: 45252, dtype: float64"
      ]
     },
     "execution_count": 57,
     "metadata": {},
     "output_type": "execute_result"
    }
   ],
   "source": [
    "weather['celcius']"
   ]
  },
  {
   "cell_type": "code",
   "execution_count": null,
   "metadata": {},
   "outputs": [],
   "source": []
  }
 ],
 "metadata": {
  "kernelspec": {
   "display_name": "Python 3",
   "language": "python",
   "name": "python3"
  },
  "language_info": {
   "codemirror_mode": {
    "name": "ipython",
    "version": 3
   },
   "file_extension": ".py",
   "mimetype": "text/x-python",
   "name": "python",
   "nbconvert_exporter": "python",
   "pygments_lexer": "ipython3",
   "version": "3.7.2"
  }
 },
 "nbformat": 4,
 "nbformat_minor": 2
}
