{
 "cells": [
  {
   "cell_type": "markdown",
   "metadata": {},
   "source": [
    "# Data Assignment\n",
    "\n",
    "## Introduction\n",
    "\n",
    "A continuous random variable is a random variable that represents an infinite number of outcomes.If we sample a continuous random variable $X$, the obtained samples may not cover the whole sample space. Since the sample space of a continuous distribution has infinite number of observations, to estimate the exact distribution of the random variable we need infinite number of samples. Since this is not practically possible, we can use parameterized continuous distributions to approximate the observed distribution.\n",
    "\n",
    "In this assignment we will use the hourly weather dataset and look at the temperature recording for the city of Detroit. We will use continuous distributions we have studied to approximate the observed distributions.\n",
    "\n",
    "https://www.kaggle.com/selfishgene/historical-hourly-weather-data/data\n",
    "\n",
    "## Useful functions:\n",
    "The module scipy.stats has an extensive number of probability distributions and useful statistical function definitions.\n",
    "\n",
    "For plotting the probability density of the data use the  function in the library matplotlib.pyplot and set the argument normed=True. How this function estimates the probability is outlined in matplotlib library documentation."
   ]
  },
  {
   "cell_type": "code",
   "execution_count": 1,
   "metadata": {},
   "outputs": [],
   "source": [
    "import numpy as np\n",
    "import pandas as pd\n",
    "import matplotlib.pyplot as plt \n",
    "import ipywidgets as widgets\n",
    "from matplotlib import axes \n",
    "from scipy.stats import binom, norm, expon\n",
    "from numpy import pi\n",
    "from math import sqrt\n",
    "from math import e\n",
    "import matplotlib.pyplot as plt\n",
    "%matplotlib inline\n",
    "%config InlineBackend.figure_format ='retina'"
   ]
  },
  {
   "cell_type": "code",
   "execution_count": 2,
   "metadata": {},
   "outputs": [],
   "source": [
    "detroit = pd.read_csv('temperature.csv', sep=',')"
   ]
  },
  {
   "cell_type": "code",
   "execution_count": 3,
   "metadata": {},
   "outputs": [],
   "source": [
    "detroit = detroit.drop(columns=[(\"Vancouver\")])\n",
    "detroit = detroit.drop(columns=[(\"Portland\")])\n",
    "detroit = detroit.drop(columns=[(\"San Francisco\")])\n",
    "detroit = detroit.drop(columns=[(\"Seattle\")])\n",
    "detroit = detroit.drop(columns=[(\"Los Angeles\")])\n",
    "detroit = detroit.drop(columns=[(\"San Diego\")])\n",
    "detroit = detroit.drop(columns=[(\"Las Vegas\")])\n",
    "detroit = detroit.drop(columns=[(\"Phoenix\")])\n",
    "detroit = detroit.drop(columns=[(\"Albuquerque\")])\n",
    "detroit = detroit.drop(columns=[(\"Denver\")])\n",
    "detroit = detroit.drop(columns=[(\"San Antonio\")])\n",
    "detroit = detroit.drop(columns=[(\"Dallas\")])\n",
    "detroit = detroit.drop(columns=[(\"Houston\")])\n",
    "detroit = detroit.drop(columns=[(\"Kansas City\")])\n",
    "detroit = detroit.drop(columns=[(\"Minneapolis\")])\n",
    "detroit = detroit.drop(columns=[(\"Saint Louis\")])\n",
    "detroit = detroit.drop(columns=[(\"Chicago\")])\n",
    "detroit = detroit.drop(columns=[(\"Nashville\")])\n",
    "detroit = detroit.drop(columns=[(\"Indianapolis\")])\n",
    "detroit = detroit.drop(columns=[(\"Jacksonville\")])\n",
    "detroit = detroit.drop(columns=[(\"Charlotte\")])\n",
    "detroit = detroit.drop(columns=[(\"Miami\")])\n",
    "detroit = detroit.drop(columns=[(\"Pittsburgh\")])\n",
    "detroit = detroit.drop(columns=[(\"Toronto\")])\n",
    "detroit = detroit.drop(columns=[(\"Philadelphia\")])\n",
    "detroit = detroit.drop(columns=[(\"New York\")])\n",
    "detroit = detroit.drop(columns=[(\"Montreal\")])\n",
    "detroit = detroit.drop(columns=[(\"Boston\")])\n",
    "detroit = detroit.drop(columns=[(\"Beersheba\")])\n",
    "detroit = detroit.drop(columns=[(\"Tel Aviv District\")])\n",
    "detroit = detroit.drop(columns=[(\"Eilat\")])\n",
    "detroit = detroit.drop(columns=[(\"Haifa\")])\n",
    "detroit = detroit.drop(columns=[(\"Nahariyya\")])\n",
    "detroit = detroit.drop(columns=[(\"Jerusalem\")])\n",
    "detroit = detroit.drop(columns=[(\"Atlanta\")])"
   ]
  },
  {
   "cell_type": "code",
   "execution_count": 4,
   "metadata": {},
   "outputs": [
    {
     "data": {
      "text/html": [
       "<div>\n",
       "<style scoped>\n",
       "    .dataframe tbody tr th:only-of-type {\n",
       "        vertical-align: middle;\n",
       "    }\n",
       "\n",
       "    .dataframe tbody tr th {\n",
       "        vertical-align: top;\n",
       "    }\n",
       "\n",
       "    .dataframe thead th {\n",
       "        text-align: right;\n",
       "    }\n",
       "</style>\n",
       "<table border=\"1\" class=\"dataframe\">\n",
       "  <thead>\n",
       "    <tr style=\"text-align: right;\">\n",
       "      <th></th>\n",
       "      <th>datetime</th>\n",
       "      <th>Detroit</th>\n",
       "    </tr>\n",
       "  </thead>\n",
       "  <tbody>\n",
       "    <tr>\n",
       "      <th>0</th>\n",
       "      <td>2012-10-01 12:00:00</td>\n",
       "      <td>NaN</td>\n",
       "    </tr>\n",
       "    <tr>\n",
       "      <th>1</th>\n",
       "      <td>2012-10-01 13:00:00</td>\n",
       "      <td>284.030000</td>\n",
       "    </tr>\n",
       "    <tr>\n",
       "      <th>2</th>\n",
       "      <td>2012-10-01 14:00:00</td>\n",
       "      <td>284.069789</td>\n",
       "    </tr>\n",
       "    <tr>\n",
       "      <th>3</th>\n",
       "      <td>2012-10-01 15:00:00</td>\n",
       "      <td>284.173965</td>\n",
       "    </tr>\n",
       "    <tr>\n",
       "      <th>4</th>\n",
       "      <td>2012-10-01 16:00:00</td>\n",
       "      <td>284.278140</td>\n",
       "    </tr>\n",
       "    <tr>\n",
       "      <th>5</th>\n",
       "      <td>2012-10-01 17:00:00</td>\n",
       "      <td>284.382316</td>\n",
       "    </tr>\n",
       "    <tr>\n",
       "      <th>6</th>\n",
       "      <td>2012-10-01 18:00:00</td>\n",
       "      <td>284.486491</td>\n",
       "    </tr>\n",
       "    <tr>\n",
       "      <th>7</th>\n",
       "      <td>2012-10-01 19:00:00</td>\n",
       "      <td>284.590666</td>\n",
       "    </tr>\n",
       "    <tr>\n",
       "      <th>8</th>\n",
       "      <td>2012-10-01 20:00:00</td>\n",
       "      <td>284.694842</td>\n",
       "    </tr>\n",
       "    <tr>\n",
       "      <th>9</th>\n",
       "      <td>2012-10-01 21:00:00</td>\n",
       "      <td>284.799017</td>\n",
       "    </tr>\n",
       "  </tbody>\n",
       "</table>\n",
       "</div>"
      ],
      "text/plain": [
       "              datetime     Detroit\n",
       "0  2012-10-01 12:00:00         NaN\n",
       "1  2012-10-01 13:00:00  284.030000\n",
       "2  2012-10-01 14:00:00  284.069789\n",
       "3  2012-10-01 15:00:00  284.173965\n",
       "4  2012-10-01 16:00:00  284.278140\n",
       "5  2012-10-01 17:00:00  284.382316\n",
       "6  2012-10-01 18:00:00  284.486491\n",
       "7  2012-10-01 19:00:00  284.590666\n",
       "8  2012-10-01 20:00:00  284.694842\n",
       "9  2012-10-01 21:00:00  284.799017"
      ]
     },
     "execution_count": 4,
     "metadata": {},
     "output_type": "execute_result"
    }
   ],
   "source": [
    "detroit.head(10)"
   ]
  },
  {
   "cell_type": "code",
   "execution_count": 9,
   "metadata": {},
   "outputs": [
    {
     "data": {
      "image/png": "[encoded data removed]",
      "text/plain": [
       "<Figure size 432x288 with 1 Axes>"
      ]
     },
     "metadata": {
      "image/png": {
       "height": 263,
       "width": 386
      },
      "needs_background": "light"
     },
     "output_type": "display_data"
    }
   ],
   "source": [
    "np.random.seed(19680801)\n",
    "\n",
    "# example data\n",
    "mu1 = 6.5  # mean1 of distribution\n",
    "sigma1 = 276  # standard deviation1 of distribution\n",
    "mu2 = 6  # mean1 of distribution\n",
    "sigma2 = 293  # standard deviation2 of distribution\n",
    "num_bins = 100\n",
    "\n",
    "x = detroit['Detroit']\n",
    "\n",
    "fig, ax = plt.subplots()\n",
    "\n",
    "# the histogram of the data\n",
    "n, bins, patches = ax.hist(x, num_bins, density=True, alpha=.2, color='gray')\n",
    "\n",
    "# add a 'best fit' line\n",
    "y = np.linspace(240, 310, 1000)\n",
    "val1 = norm.pdf(y,sigma1,mu1)\n",
    "val2 = norm.pdf(y,sigma2,mu2)\n",
    "plt.plot(y,(val1+val2)/2)\n",
    "\n",
    "ax.set_xlabel('')\n",
    "ax.set_ylabel('')\n",
    "ax.set_title('Detroit')\n",
    "\n",
    "plt.show()"
   ]
  },
  {
   "cell_type": "code",
   "execution_count": 10,
   "metadata": {},
   "outputs": [
    {
     "name": "stdout",
     "output_type": "stream",
     "text": [
      "0.004327948409691751\n",
      "0.004312260096623222\n",
      "0.008640208506314973\n"
     ]
    }
   ],
   "source": [
    "mu1 = 6.5  # mean of distribution\n",
    "sigma1 = 276  # standard deviation of distribution\n",
    "mu2 = 6  # mean of distribution\n",
    "sigma2 = 293  # standard deviation of distribution\n",
    "\n",
    "d = ((norm.cdf((291 - mu1)/sigma1)) - (norm.cdf((281 - mu1)/sigma1))) * .5\n",
    "t = ((norm.cdf((291 - mu2)/sigma2)) - (norm.cdf((281 - mu2)/sigma2))) * .5\n",
    "\n",
    "print(d)\n",
    "print(t)\n",
    "print((t+d))\n",
    "\n"
   ]
  },
  {
   "cell_type": "code",
   "execution_count": 7,
   "metadata": {},
   "outputs": [
    {
     "name": "stdout",
     "output_type": "stream",
     "text": [
      "0.07565899445392124\n",
      "0.07998694286361294\n",
      "0.08267607292437207\n",
      "0.08698833302099532\n",
      "0.004327948409691695\n",
      "0.004312260096623249\n",
      "0.008640208506314945\n"
     ]
    }
   ],
   "source": [
    "a = 0.5*(norm.sf(291,loc=mu1,scale=sigma1))\n",
    "b = 0.5*(norm.sf(281,loc=mu1,scale=sigma1))\n",
    "c = 0.5*(norm.sf(291,loc=mu2,scale=sigma2))\n",
    "d = 0.5*(norm.sf(281,loc=mu2,scale=sigma2))\n",
    "\n",
    "print(a)\n",
    "print(b)\n",
    "print(c)\n",
    "print(d)\n",
    "print(b-a)\n",
    "print(d-c)\n",
    "print((b-a)+(d-c))"
   ]
  },
  {
   "cell_type": "markdown",
   "metadata": {},
   "source": [
    "### The following Code is for R\n",
    "\n",
    "**The correct answer is = 0.2785306**\n",
    "\n",
    "*Still - the above PYTHON code isn't correct... However, the R code here is correct and will give the right results*\n",
    "\n",
    "<code>0.5*pnorm(291,mean = 276, sd =6.5)-</code><br>\n",
    "<code>0.5*pnorm(281,mean = 276, sd =6.5)</code><br>\n",
    "<code>+</code><br>\n",
    "<code>0.5*pnorm(291,mean = 293, sd=6)-</code><br>\n",
    "<code>0.5*pnorm(281,mean = 293, sd =6)</code><br>\n",
    "\n"
   ]
  },
  {
   "cell_type": "code",
   "execution_count": null,
   "metadata": {},
   "outputs": [],
   "source": []
  }
 ],
 "metadata": {
  "kernelspec": {
   "display_name": "Python 3",
   "language": "python",
   "name": "python3"
  },
  "language_info": {
   "codemirror_mode": {
    "name": "ipython",
    "version": 3
   },
   "file_extension": ".py",
   "mimetype": "text/x-python",
   "name": "python",
   "nbconvert_exporter": "python",
   "pygments_lexer": "ipython3",
   "version": "3.7.2"
  }
 },
 "nbformat": 4,
 "nbformat_minor": 2
}
