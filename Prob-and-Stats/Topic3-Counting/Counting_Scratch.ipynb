{
 "cells": [
  {
   "cell_type": "code",
   "execution_count": 1,
   "metadata": {},
   "outputs": [],
   "source": [
    "import matplotlib.pyplot as plt\n",
    "import matplotlib_venn as venn"
   ]
  },
  {
   "cell_type": "markdown",
   "metadata": {},
   "source": [
    "Of 100 foreign journalists who can speak Chinese, English or French at a press conference:\n",
    "\n",
    "60 speak Chinese.\n",
    "\n",
    "65 speak English.\n",
    "\n",
    "60 speak French.\n",
    "\n",
    "35 speak both Chinese and English.\n",
    "\n",
    "25 speak both Chinese and French.\n",
    "\n",
    "35 speak both English and French.\n",
    "\n",
    "How many journalists speak exactly one language"
   ]
  },
  {
   "cell_type": "code",
   "execution_count": null,
   "metadata": {},
   "outputs": [],
   "source": []
  }
 ],
 "metadata": {
  "kernelspec": {
   "display_name": "Python 3",
   "language": "python",
   "name": "python3"
  },
  "language_info": {
   "codemirror_mode": {
    "name": "ipython",
    "version": 3
   },
   "file_extension": ".py",
   "mimetype": "text/x-python",
   "name": "python",
   "nbconvert_exporter": "python",
   "pygments_lexer": "ipython3",
   "version": "3.7.1"
  }
 },
 "nbformat": 4,
 "nbformat_minor": 2
}
