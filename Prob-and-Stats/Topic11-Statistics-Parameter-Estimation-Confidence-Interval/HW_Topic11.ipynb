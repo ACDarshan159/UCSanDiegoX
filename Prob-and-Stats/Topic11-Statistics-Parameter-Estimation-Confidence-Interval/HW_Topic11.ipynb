{
 "cells": [
  {
   "cell_type": "markdown",
   "metadata": {},
   "source": [
    "# Data Assignment\n",
    "\n",
    "## Introduction\n",
    "\n",
    "In this assignment you will learn to apply confidence intervals in real world examples.\n",
    "\n",
    "## Dataset\n",
    "\n",
    "According to Wikipedia San Diego has one of the best climates in the United states, enjoying consistent and mild weather year round. We will use the hourly weather dataset to consider temperature changes in the city.\n",
    "https://www.kaggle.com/selfishgene/historical-hourly-weather-data/data\n",
    "\n",
    "## Some useful functions\n",
    "\n",
    "The following functions, outlined in the SciPy library may prove helpful.\n",
    "\n",
    "**scipy.stats.norm.ppf()** → Returns the percent point function for the normal distribution <br>\n",
    "**scipy.stats.t.ppf()** → Returns the percent point function for the student's t distribution"
   ]
  },
  {
   "cell_type": "code",
   "execution_count": 1,
   "metadata": {},
   "outputs": [],
   "source": [
    "import numpy as np\n",
    "import pandas as pd\n",
    "import matplotlib.pyplot as plt\n",
    "from scipy.stats import norm, t, sem, bayes_mvs\n",
    "%matplotlib inline\n",
    "%config InlineBackend.figure_format ='retina'"
   ]
  },
  {
   "cell_type": "code",
   "execution_count": 2,
   "metadata": {},
   "outputs": [],
   "source": [
    "weather = pd.read_csv('temperature.csv', sep=',')"
   ]
  },
  {
   "cell_type": "code",
   "execution_count": 3,
   "metadata": {},
   "outputs": [],
   "source": [
    "weather = weather.drop(columns=[(\"Vancouver\")])\n",
    "weather = weather.drop(columns=[(\"Portland\")])\n",
    "weather = weather.drop(columns=[(\"San Francisco\")])\n",
    "weather = weather.drop(columns=[(\"Seattle\")])\n",
    "weather = weather.drop(columns=[(\"Los Angeles\")])\n",
    "weather = weather.drop(columns=[(\"Las Vegas\")])\n",
    "weather = weather.drop(columns=[(\"Phoenix\")])\n",
    "weather = weather.drop(columns=[(\"Albuquerque\")])\n",
    "weather = weather.drop(columns=[(\"Denver\")])\n",
    "weather = weather.drop(columns=[(\"San Antonio\")])\n",
    "weather = weather.drop(columns=[(\"Dallas\")])\n",
    "weather = weather.drop(columns=[(\"Houston\")])\n",
    "weather = weather.drop(columns=[(\"Kansas City\")])\n",
    "weather = weather.drop(columns=[(\"Minneapolis\")])\n",
    "weather = weather.drop(columns=[(\"Saint Louis\")])\n",
    "weather = weather.drop(columns=[(\"Chicago\")])\n",
    "weather = weather.drop(columns=[(\"Nashville\")])\n",
    "weather = weather.drop(columns=[(\"Indianapolis\")])\n",
    "weather = weather.drop(columns=[(\"Jacksonville\")])\n",
    "weather = weather.drop(columns=[(\"Charlotte\")])\n",
    "weather = weather.drop(columns=[(\"Miami\")])\n",
    "weather = weather.drop(columns=[(\"Pittsburgh\")])\n",
    "weather = weather.drop(columns=[(\"Toronto\")])\n",
    "weather = weather.drop(columns=[(\"Philadelphia\")])\n",
    "weather = weather.drop(columns=[(\"New York\")])\n",
    "weather = weather.drop(columns=[(\"Montreal\")])\n",
    "weather = weather.drop(columns=[(\"Boston\")])\n",
    "weather = weather.drop(columns=[(\"Beersheba\")])\n",
    "weather = weather.drop(columns=[(\"Tel Aviv District\")])\n",
    "weather = weather.drop(columns=[(\"Eilat\")])\n",
    "weather = weather.drop(columns=[(\"Haifa\")])\n",
    "weather = weather.drop(columns=[(\"Nahariyya\")])\n",
    "weather = weather.drop(columns=[(\"Jerusalem\")])\n",
    "weather = weather.drop(columns=[(\"Atlanta\")])\n",
    "weather = weather.drop(columns=[(\"Detroit\")])"
   ]
  },
  {
   "cell_type": "markdown",
   "metadata": {},
   "source": [
    "## Q1\n",
    "\n",
    "If you plot a histogram with 100 bins using all the samples, which one would represesnt San Diego"
   ]
  },
  {
   "cell_type": "code",
   "execution_count": 21,
   "metadata": {},
   "outputs": [
    {
     "data": {
      "image/png": "[encoded data removed]",
      "text/plain": [
       "<Figure size 720x720 with 1 Axes>"
      ]
     },
     "metadata": {
      "image/png": {
       "height": 603,
       "width": 603
      },
      "needs_background": "light"
     },
     "output_type": "display_data"
    }
   ],
   "source": [
    "num_bins = 100\n",
    "x = weather['San Diego']\n",
    "\n",
    "fig, ax = plt.subplots(figsize=(10, 10))\n",
    "\n",
    "# the histogram of the data\n",
    "n, bins, patches = ax.hist(x, num_bins, density=True, color='cornflowerblue')\n",
    "\n",
    "\n",
    "ax.set_xlabel('Tempurature in K')\n",
    "ax.set_ylabel('')\n",
    "ax.set_title('San Diego')\n",
    "\n",
    "plt.show()"
   ]
  },
  {
   "cell_type": "markdown",
   "metadata": {},
   "source": [
    "## Q2 \n",
    "\n",
    "The sample mean and variance over the data's duration"
   ]
  },
  {
   "cell_type": "code",
   "execution_count": 5,
   "metadata": {},
   "outputs": [
    {
     "data": {
      "text/plain": [
       "45252"
      ]
     },
     "execution_count": 5,
     "metadata": {},
     "output_type": "execute_result"
    }
   ],
   "source": [
    "n = weather['San Diego'].count()\n",
    "n"
   ]
  },
  {
   "cell_type": "code",
   "execution_count": 6,
   "metadata": {},
   "outputs": [
    {
     "name": "stdout",
     "output_type": "stream",
     "text": [
      "The Mean of the Entire Sample Is =  San Diego    290.215044\n",
      "dtype: float64\n",
      "The Raw Variance of the Sample ('S^2') Is =  San Diego    34.691241\n",
      "dtype: float64\n"
     ]
    }
   ],
   "source": [
    "mu = np.mean(weather[['San Diego']])\n",
    "var = np.var(weather[['San Diego']])\n",
    "\n",
    "print(\"The Mean of the Entire Sample Is = \", mu)\n",
    "print(\"The Raw Variance of the Sample ('S^2') Is = \", var)"
   ]
  },
  {
   "cell_type": "markdown",
   "metadata": {},
   "source": [
    "## Q3\n",
    "\n",
    "The sample mean in February 2013"
   ]
  },
  {
   "cell_type": "code",
   "execution_count": 7,
   "metadata": {},
   "outputs": [],
   "source": [
    "feb_before = weather['datetime'] > '2013-02-01 00:00:00'\n",
    "feb_after = weather['datetime'] < '2013-03-01 00:00:00'"
   ]
  },
  {
   "cell_type": "code",
   "execution_count": 8,
   "metadata": {},
   "outputs": [],
   "source": [
    "feb_data = weather[feb_before]"
   ]
  },
  {
   "cell_type": "code",
   "execution_count": 9,
   "metadata": {},
   "outputs": [],
   "source": [
    "feb_after = feb_data['datetime'] < '2013-03-01 00:00:00'"
   ]
  },
  {
   "cell_type": "code",
   "execution_count": 10,
   "metadata": {},
   "outputs": [],
   "source": [
    "feb_data = feb_data[feb_after]"
   ]
  },
  {
   "cell_type": "code",
   "execution_count": 11,
   "metadata": {},
   "outputs": [
    {
     "data": {
      "text/plain": [
       "671"
      ]
     },
     "execution_count": 11,
     "metadata": {},
     "output_type": "execute_result"
    }
   ],
   "source": [
    "n = feb_data['San Diego'].count()\n",
    "n"
   ]
  },
  {
   "cell_type": "code",
   "execution_count": 12,
   "metadata": {},
   "outputs": [
    {
     "name": "stdout",
     "output_type": "stream",
     "text": [
      "The Sample Mean in Feb 2013 =  San Diego    285.24012\n",
      "dtype: float64\n"
     ]
    }
   ],
   "source": [
    "feb_mu = np.mean(feb_data[['San Diego']]) # calculate the mean\n",
    "\n",
    "print(\"The Sample Mean in Feb 2013 = \", feb_mu)"
   ]
  },
  {
   "cell_type": "markdown",
   "metadata": {},
   "source": [
    "# Q4\n",
    "\n",
    "The 90% confidence interval for February 2013 using the z-statistic, assuming the variance you calculated in Q2"
   ]
  },
  {
   "cell_type": "code",
   "execution_count": 13,
   "metadata": {},
   "outputs": [],
   "source": [
    "z_bounds = t.interval(0.90, len(feb_data[['San Diego']])-1, loc=np.mean(feb_data[['San Diego']]), scale=sem(feb_data[['San Diego']]))"
   ]
  },
  {
   "cell_type": "code",
   "execution_count": 14,
   "metadata": {},
   "outputs": [
    {
     "name": "stdout",
     "output_type": "stream",
     "text": [
      "Upper Bounds =  [285.49312977]\n"
     ]
    }
   ],
   "source": [
    "print('Upper Bounds = ', z_bounds[1])"
   ]
  },
  {
   "cell_type": "code",
   "execution_count": 15,
   "metadata": {},
   "outputs": [
    {
     "name": "stdout",
     "output_type": "stream",
     "text": [
      "Lower Bounds =  [284.98711012]\n"
     ]
    }
   ],
   "source": [
    "print('Lower Bounds = ', z_bounds[0])"
   ]
  },
  {
   "cell_type": "code",
   "execution_count": 16,
   "metadata": {},
   "outputs": [
    {
     "name": "stdout",
     "output_type": "stream",
     "text": [
      "Mean(statistic=285.2401199453562, minmax=(284.9871101211008, 285.4931297696116))\n"
     ]
    }
   ],
   "source": [
    "# Another way to calcuate the same thing as above\n",
    "mean, var, std = bayes_mvs(feb_data[['San Diego']])\n",
    "print(mean)"
   ]
  },
  {
   "cell_type": "markdown",
   "metadata": {},
   "source": [
    "# Q5\n",
    "\n",
    "The 90% confidence interval for February 2013 using the t-statistic"
   ]
  },
  {
   "cell_type": "code",
   "execution_count": 17,
   "metadata": {},
   "outputs": [],
   "source": [
    "t_bounds = t.interval(0.90, len(feb_data[['San Diego']])-1, loc=np.mean(feb_data[['San Diego']]), scale=sem(feb_data[['San Diego']]))"
   ]
  },
  {
   "cell_type": "code",
   "execution_count": 18,
   "metadata": {},
   "outputs": [
    {
     "name": "stdout",
     "output_type": "stream",
     "text": [
      "Upper Bounds =  [285.49312977]\n"
     ]
    }
   ],
   "source": [
    "print('Upper Bounds = ', t_bounds[1])"
   ]
  },
  {
   "cell_type": "code",
   "execution_count": 19,
   "metadata": {},
   "outputs": [
    {
     "name": "stdout",
     "output_type": "stream",
     "text": [
      "Lower Bounds =  [284.98711012]\n"
     ]
    }
   ],
   "source": [
    "print('Lower Bounds = ', t_bounds[0])"
   ]
  },
  {
   "cell_type": "code",
   "execution_count": 20,
   "metadata": {},
   "outputs": [
    {
     "data": {
      "text/plain": [
       "1.6448536269514722"
      ]
     },
     "execution_count": 20,
     "metadata": {},
     "output_type": "execute_result"
    }
   ],
   "source": [
    "norm.ppf(.95)"
   ]
  },
  {
   "cell_type": "code",
   "execution_count": null,
   "metadata": {},
   "outputs": [],
   "source": []
  }
 ],
 "metadata": {
  "kernelspec": {
   "display_name": "Python 3",
   "language": "python",
   "name": "python3"
  },
  "language_info": {
   "codemirror_mode": {
    "name": "ipython",
    "version": 3
   },
   "file_extension": ".py",
   "mimetype": "text/x-python",
   "name": "python",
   "nbconvert_exporter": "python",
   "pygments_lexer": "ipython3",
   "version": "3.7.2"
  }
 },
 "nbformat": 4,
 "nbformat_minor": 2
}
