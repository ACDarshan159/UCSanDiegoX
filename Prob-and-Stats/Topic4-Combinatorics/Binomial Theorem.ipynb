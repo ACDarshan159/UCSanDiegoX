{
 "cells": [
  {
   "cell_type": "markdown",
   "metadata": {},
   "source": [
    "# Binomial Theorem\n",
    "\n",
    "For More See: https://en.wikipedia.org/wiki/Binomial_theorem\n",
    "\n",
    "\n",
    "$$(a+b)^n = \\sum_{k=0}^n {n \\choose k}a^{n-k}b^k$$\n",
    "\n"
   ]
  },
  {
   "cell_type": "code",
   "execution_count": 3,
   "metadata": {},
   "outputs": [
    {
     "name": "stdout",
     "output_type": "stream",
     "text": [
      "243 1620 4320 5760 3840 1024 "
     ]
    }
   ],
   "source": [
    "# Python3 program to print terms of binomial \n",
    "# series and also calculate sum of series. \n",
    "\n",
    "# function to calculate factorial \n",
    "# of a number \n",
    "def factorial(n): \n",
    "\n",
    "\tf = 1\n",
    "\tfor i in range(2, n+1): \n",
    "\t\tf *= i \n",
    "\t\t\n",
    "\treturn f \n",
    "\n",
    "# Fuction to print the series \n",
    "def series(A, X, n): \n",
    "\t\n",
    "\t# calculating the value of n! \n",
    "\tnFact = factorial(n) \n",
    "\n",
    "\t# loop to display the series \n",
    "\tfor i in range(0, n + 1): \n",
    "\t\t\n",
    "\t\t# For calculating the \n",
    "\t\t# value of nCr \n",
    "\t\tniFact = factorial(n - i) \n",
    "\t\tiFact = factorial(i) \n",
    "\n",
    "\t\t# calculating the value of \n",
    "\t\t# A to the power k and X to \n",
    "\t\t# the power k \n",
    "\t\taPow = pow(A, n - i) \n",
    "\t\txPow = pow(X, i) \n",
    "\n",
    "\t\t# display the series \n",
    "\t\tprint (int((nFact * aPow * xPow) /\n",
    "\t\t\t\t(niFact * iFact)), end = \" \") \n",
    "\t\n",
    "# Driver Code \n",
    "A = 3; X = 4; n = 5\n",
    "series(A, X, n) \n",
    "\n",
    "# This code is contributed by Smitha Dinesh Semwal. \n",
    "\n"
   ]
  },
  {
   "cell_type": "code",
   "execution_count": 4,
   "metadata": {},
   "outputs": [
    {
     "name": "stdout",
     "output_type": "stream",
     "text": [
      "243 1620 4320 5760 3840 1024 "
     ]
    }
   ],
   "source": [
    "# Python 3 program to print terms of binomial \n",
    "# series and also calculate sum of series. \n",
    "\n",
    "# Fuction to print the series \n",
    "def series(A, X, n): \n",
    "\n",
    "\t# Calculating and printing first term \n",
    "\tterm = pow(A, n) \n",
    "\tprint(term, end = \" \") \n",
    "\n",
    "\t# Computing and printing remaining terms \n",
    "\tfor i in range(1, n+1): \n",
    "\n",
    "\t\t# Find current term using previous terms \n",
    "\t\t# We increment power of X by 1, decrement \n",
    "\t\t# power of A by 1 and compute nCi using \n",
    "\t\t# previous term by multiplying previous \n",
    "\t\t# term with (n - i + 1)/i \n",
    "\t\tterm = int(term * X * (n - i + 1)/(i * A)) \n",
    "\n",
    "\t\tprint(term, end = \" \") \n",
    "\t\n",
    "# Driver Code \n",
    "A = 3; X = 4; n = 5\n",
    "series(A, X, n) \n",
    "\n",
    "# This code is contributed by Smitha Dinesh Semwal. \n",
    "\n"
   ]
  },
  {
   "cell_type": "markdown",
   "metadata": {},
   "source": [
    "## Another Method Using SciPy"
   ]
  },
  {
   "cell_type": "code",
   "execution_count": 5,
   "metadata": {},
   "outputs": [
    {
     "data": {
      "text/plain": [
       "93759702772827452793193754439064084879232655700081358920472352712975170021839591675861424"
      ]
     },
     "execution_count": 5,
     "metadata": {},
     "output_type": "execute_result"
    }
   ],
   "source": [
    "import scipy.special\n",
    "\n",
    "# the two give the same results \n",
    "scipy.special.binom(10, 5)\n",
    "# 252.0\n",
    "scipy.special.comb(10, 5)\n",
    "# 252.0\n",
    "\n",
    "scipy.special.binom(300, 150)\n",
    "# 9.375970277281882e+88\n",
    "scipy.special.comb(300, 150)\n",
    "# 9.375970277281882e+88\n",
    "\n",
    "# ...but with `exact == True`\n",
    "scipy.special.comb(10, 5, exact=True)\n",
    "# 252\n",
    "scipy.special.comb(300, 150, exact=True)\n",
    "# 393759702772827452793193754439064084879232655700081358920472352712975170021839591675861424"
   ]
  },
  {
   "cell_type": "code",
   "execution_count": 6,
   "metadata": {},
   "outputs": [
    {
     "data": {
      "text/plain": [
       "6.0"
      ]
     },
     "execution_count": 6,
     "metadata": {},
     "output_type": "execute_result"
    }
   ],
   "source": [
    "scipy.special.binom(4, 2)"
   ]
  },
  {
   "cell_type": "code",
   "execution_count": 7,
   "metadata": {},
   "outputs": [
    {
     "data": {
      "text/plain": [
       "6.0"
      ]
     },
     "execution_count": 7,
     "metadata": {},
     "output_type": "execute_result"
    }
   ],
   "source": [
    "scipy.special.comb(4, 2)"
   ]
  },
  {
   "cell_type": "code",
   "execution_count": null,
   "metadata": {},
   "outputs": [],
   "source": []
  }
 ],
 "metadata": {
  "kernelspec": {
   "display_name": "Python 3",
   "language": "python",
   "name": "python3"
  },
  "language_info": {
   "codemirror_mode": {
    "name": "ipython",
    "version": 3
   },
   "file_extension": ".py",
   "mimetype": "text/x-python",
   "name": "python",
   "nbconvert_exporter": "python",
   "pygments_lexer": "ipython3",
   "version": "3.7.1"
  }
 },
 "nbformat": 4,
 "nbformat_minor": 2
}
